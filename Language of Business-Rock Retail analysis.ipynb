{
 "cells": [
  {
   "cell_type": "code",
   "execution_count": 1,
   "metadata": {},
   "outputs": [],
   "source": [
    "import datetime\n",
    "import calendar\n",
    "import warnings\n",
    "\n",
    "import numpy as np\n",
    "import pandas as pd\n",
    "\n",
    "import matplotlib.cm as cm\n",
    "import matplotlib.pyplot as plt\n",
    "from matplotlib.colors import ListedColormap, LinearSegmentedColormap\n",
    "\n",
    "pd.set_option('display.max_rows', 15)\n",
    "# pd.option_context('display.precision', 0)\n",
    "pd.options.display.float_format = \"{:,.2f}\".format\n",
    "\n",
    "import seaborn as sns\n",
    "cm = sns.light_palette(\"red\", as_cmap=True)\n",
    "import datetime\n",
    "# import waterfall_chart\n",
    "import plotly.graph_objects as go"
   ]
  },
  {
   "cell_type": "code",
   "execution_count": 2,
   "metadata": {},
   "outputs": [],
   "source": [
    "open_list = pd.read_csv('data/open_item_list.csv')\n",
    "payment_list = pd.read_csv('data/payment_list_of_customers.csv')"
   ]
  },
  {
   "cell_type": "markdown",
   "metadata": {},
   "source": [
    "## Open List"
   ]
  },
  {
   "cell_type": "code",
   "execution_count": 3,
   "metadata": {},
   "outputs": [
    {
     "data": {
      "text/html": [
       "<div>\n",
       "<style scoped>\n",
       "    .dataframe tbody tr th:only-of-type {\n",
       "        vertical-align: middle;\n",
       "    }\n",
       "\n",
       "    .dataframe tbody tr th {\n",
       "        vertical-align: top;\n",
       "    }\n",
       "\n",
       "    .dataframe thead th {\n",
       "        text-align: right;\n",
       "    }\n",
       "</style>\n",
       "<table border=\"1\" class=\"dataframe\">\n",
       "  <thead>\n",
       "    <tr style=\"text-align: right;\">\n",
       "      <th></th>\n",
       "      <th>level_0</th>\n",
       "      <th>index</th>\n",
       "      <th>customer_number</th>\n",
       "      <th>customer_name</th>\n",
       "      <th>country</th>\n",
       "      <th>invoice_number</th>\n",
       "      <th>invoice_date</th>\n",
       "      <th>invoice_inc_vat</th>\n",
       "      <th>open_inc_vat</th>\n",
       "      <th>due_date</th>\n",
       "      <th>days_overdue_by_oct31</th>\n",
       "    </tr>\n",
       "  </thead>\n",
       "  <tbody>\n",
       "    <tr>\n",
       "      <th>0</th>\n",
       "      <td>0</td>\n",
       "      <td>(incl. VAT if applicable)\"</td>\n",
       "      <td>Open amount\\r\\n(incl. VAT if applicable)</td>\n",
       "      <td>Due date</td>\n",
       "      <td>Days overdue \\r\\nby 2021-10-31</td>\n",
       "      <td>NaN</td>\n",
       "      <td>NaN</td>\n",
       "      <td>NaN</td>\n",
       "      <td>NaN</td>\n",
       "      <td>NaN</td>\n",
       "      <td>NaN</td>\n",
       "    </tr>\n",
       "    <tr>\n",
       "      <th>1</th>\n",
       "      <td>1</td>\n",
       "      <td>0</td>\n",
       "      <td>1071535</td>\n",
       "      <td>AB Ltd.</td>\n",
       "      <td>FR</td>\n",
       "      <td>10,142.00</td>\n",
       "      <td>2021-04-30</td>\n",
       "      <td>5,221.13</td>\n",
       "      <td>5,221.13</td>\n",
       "      <td>2021-05-30</td>\n",
       "      <td>154.00</td>\n",
       "    </tr>\n",
       "    <tr>\n",
       "      <th>2</th>\n",
       "      <td>2</td>\n",
       "      <td>1</td>\n",
       "      <td>1071535</td>\n",
       "      <td>AB Ltd.</td>\n",
       "      <td>FR</td>\n",
       "      <td>10,146.00</td>\n",
       "      <td>2021-04-30</td>\n",
       "      <td>12,771.68</td>\n",
       "      <td>12,771.68</td>\n",
       "      <td>2021-05-30</td>\n",
       "      <td>154.00</td>\n",
       "    </tr>\n",
       "    <tr>\n",
       "      <th>3</th>\n",
       "      <td>3</td>\n",
       "      <td>2</td>\n",
       "      <td>1071535</td>\n",
       "      <td>AB Ltd.</td>\n",
       "      <td>FR</td>\n",
       "      <td>10,180.00</td>\n",
       "      <td>2021-06-30</td>\n",
       "      <td>17,028.90</td>\n",
       "      <td>17,028.90</td>\n",
       "      <td>2021-08-14</td>\n",
       "      <td>78.00</td>\n",
       "    </tr>\n",
       "    <tr>\n",
       "      <th>4</th>\n",
       "      <td>4</td>\n",
       "      <td>3</td>\n",
       "      <td>1071535</td>\n",
       "      <td>AB Ltd.</td>\n",
       "      <td>FR</td>\n",
       "      <td>10,007.00</td>\n",
       "      <td>2021-09-08</td>\n",
       "      <td>7,470.23</td>\n",
       "      <td>7,470.23</td>\n",
       "      <td>2021-10-08</td>\n",
       "      <td>23.00</td>\n",
       "    </tr>\n",
       "    <tr>\n",
       "      <th>...</th>\n",
       "      <td>...</td>\n",
       "      <td>...</td>\n",
       "      <td>...</td>\n",
       "      <td>...</td>\n",
       "      <td>...</td>\n",
       "      <td>...</td>\n",
       "      <td>...</td>\n",
       "      <td>...</td>\n",
       "      <td>...</td>\n",
       "      <td>...</td>\n",
       "      <td>...</td>\n",
       "    </tr>\n",
       "    <tr>\n",
       "      <th>93</th>\n",
       "      <td>93</td>\n",
       "      <td>92</td>\n",
       "      <td>1066009</td>\n",
       "      <td>ZA SE</td>\n",
       "      <td>DE</td>\n",
       "      <td>20,577.00</td>\n",
       "      <td>2021-06-30</td>\n",
       "      <td>13,291.28</td>\n",
       "      <td>13,291.28</td>\n",
       "      <td>2021-08-29</td>\n",
       "      <td>63.00</td>\n",
       "    </tr>\n",
       "    <tr>\n",
       "      <th>94</th>\n",
       "      <td>94</td>\n",
       "      <td>93</td>\n",
       "      <td>1066009</td>\n",
       "      <td>ZA SE</td>\n",
       "      <td>DE</td>\n",
       "      <td>20,578.00</td>\n",
       "      <td>2021-06-30</td>\n",
       "      <td>177,310.00</td>\n",
       "      <td>177,310.00</td>\n",
       "      <td>2021-08-29</td>\n",
       "      <td>63.00</td>\n",
       "    </tr>\n",
       "    <tr>\n",
       "      <th>95</th>\n",
       "      <td>95</td>\n",
       "      <td>94</td>\n",
       "      <td>1066009</td>\n",
       "      <td>ZA SE</td>\n",
       "      <td>DE</td>\n",
       "      <td>20,000.00</td>\n",
       "      <td>2021-07-20</td>\n",
       "      <td>6,220.50</td>\n",
       "      <td>6,220.50</td>\n",
       "      <td>2021-09-18</td>\n",
       "      <td>43.00</td>\n",
       "    </tr>\n",
       "    <tr>\n",
       "      <th>96</th>\n",
       "      <td>96</td>\n",
       "      <td>95</td>\n",
       "      <td>1066009</td>\n",
       "      <td>ZA SE</td>\n",
       "      <td>DE</td>\n",
       "      <td>20,001.00</td>\n",
       "      <td>2021-07-22</td>\n",
       "      <td>59,046.31</td>\n",
       "      <td>59,046.31</td>\n",
       "      <td>2021-09-20</td>\n",
       "      <td>41.00</td>\n",
       "    </tr>\n",
       "    <tr>\n",
       "      <th>97</th>\n",
       "      <td>97</td>\n",
       "      <td>96</td>\n",
       "      <td>1066009</td>\n",
       "      <td>ZA SE</td>\n",
       "      <td>DE</td>\n",
       "      <td>20,123.00</td>\n",
       "      <td>2021-09-30</td>\n",
       "      <td>31,468.06</td>\n",
       "      <td>31,468.06</td>\n",
       "      <td>2021-11-29</td>\n",
       "      <td>-29.00</td>\n",
       "    </tr>\n",
       "  </tbody>\n",
       "</table>\n",
       "<p>98 rows × 11 columns</p>\n",
       "</div>"
      ],
      "text/plain": [
       "    level_0                       index  \\\n",
       "0         0  (incl. VAT if applicable)\"   \n",
       "1         1                           0   \n",
       "2         2                           1   \n",
       "3         3                           2   \n",
       "4         4                           3   \n",
       "..      ...                         ...   \n",
       "93       93                          92   \n",
       "94       94                          93   \n",
       "95       95                          94   \n",
       "96       96                          95   \n",
       "97       97                          96   \n",
       "\n",
       "                             customer_number customer_name  \\\n",
       "0   Open amount\\r\\n(incl. VAT if applicable)      Due date   \n",
       "1                                    1071535       AB Ltd.   \n",
       "2                                    1071535       AB Ltd.   \n",
       "3                                    1071535       AB Ltd.   \n",
       "4                                    1071535       AB Ltd.   \n",
       "..                                       ...           ...   \n",
       "93                                   1066009         ZA SE   \n",
       "94                                   1066009         ZA SE   \n",
       "95                                   1066009         ZA SE   \n",
       "96                                   1066009         ZA SE   \n",
       "97                                   1066009         ZA SE   \n",
       "\n",
       "                           country  invoice_number invoice_date  \\\n",
       "0   Days overdue \\r\\nby 2021-10-31             NaN          NaN   \n",
       "1                               FR       10,142.00   2021-04-30   \n",
       "2                               FR       10,146.00   2021-04-30   \n",
       "3                               FR       10,180.00   2021-06-30   \n",
       "4                               FR       10,007.00   2021-09-08   \n",
       "..                             ...             ...          ...   \n",
       "93                              DE       20,577.00   2021-06-30   \n",
       "94                              DE       20,578.00   2021-06-30   \n",
       "95                              DE       20,000.00   2021-07-20   \n",
       "96                              DE       20,001.00   2021-07-22   \n",
       "97                              DE       20,123.00   2021-09-30   \n",
       "\n",
       "    invoice_inc_vat  open_inc_vat    due_date  days_overdue_by_oct31  \n",
       "0               NaN           NaN         NaN                    NaN  \n",
       "1          5,221.13      5,221.13  2021-05-30                 154.00  \n",
       "2         12,771.68     12,771.68  2021-05-30                 154.00  \n",
       "3         17,028.90     17,028.90  2021-08-14                  78.00  \n",
       "4          7,470.23      7,470.23  2021-10-08                  23.00  \n",
       "..              ...           ...         ...                    ...  \n",
       "93        13,291.28     13,291.28  2021-08-29                  63.00  \n",
       "94       177,310.00    177,310.00  2021-08-29                  63.00  \n",
       "95         6,220.50      6,220.50  2021-09-18                  43.00  \n",
       "96        59,046.31     59,046.31  2021-09-20                  41.00  \n",
       "97        31,468.06     31,468.06  2021-11-29                 -29.00  \n",
       "\n",
       "[98 rows x 11 columns]"
      ]
     },
     "execution_count": 3,
     "metadata": {},
     "output_type": "execute_result"
    }
   ],
   "source": [
    "# Format open_list, edit columns name\n",
    "open_list = open_list.rename(columns={'Cutomer number': 'customer_number',\n",
    "                                     'Customer name': 'customer_name',\n",
    "                                     'Country':'country',\n",
    "                                      'Invoice number':'invoice_number',\n",
    "                                      'Invoice date':'invoice_date',\n",
    "                                      'Invoice amount \\n(incl. VAT if applicable)':'invoice_inc_vat',\n",
    "                                      'Open amount\\n(incl. VAT if applicable)':'open_inc_vat',\n",
    "                                      'Due date': 'due_date',\n",
    "                                      'Days overdue \\nby 2021-10-31':'days_overdue_by_oct31',\n",
    "                                     })\n",
    "\n",
    "# open_list = open_list.rename(columns={'Cutomer name': 'customer_number'})\n",
    "open_list.reset_index()"
   ]
  },
  {
   "cell_type": "code",
   "execution_count": 4,
   "metadata": {},
   "outputs": [],
   "source": [
    "# Create id column in open_list\n",
    "open_list['id'] = open_list['customer_number'] + '-' + open_list['customer_name'] + open_list['country']\n",
    "open_list = open_list.drop(open_list.index[0])\n",
    "open_list = open_list.fillna(0)\n",
    "\n",
    "# Create additional columns\n",
    "open_list['invoice_exc_vat'] = np.where(open_list[\"country\"] == 'DE', open_list[\"invoice_inc_vat\"]/1.19, open_list[\"invoice_inc_vat\"])\n",
    "open_list['open_exc_vat'] = np.where(open_list[\"country\"] == 'DE', open_list[\"open_inc_vat\"]/1.19, open_list[\"open_inc_vat\"])\n",
    "open_list[['invoice_date','due_date']] = open_list[['invoice_date','due_date']].apply(pd.to_datetime, format='%Y-%m-%d')"
   ]
  },
  {
   "cell_type": "code",
   "execution_count": 5,
   "metadata": {},
   "outputs": [
    {
     "data": {
      "text/html": [
       "<div>\n",
       "<style scoped>\n",
       "    .dataframe tbody tr th:only-of-type {\n",
       "        vertical-align: middle;\n",
       "    }\n",
       "\n",
       "    .dataframe tbody tr th {\n",
       "        vertical-align: top;\n",
       "    }\n",
       "\n",
       "    .dataframe thead th {\n",
       "        text-align: right;\n",
       "    }\n",
       "</style>\n",
       "<table border=\"1\" class=\"dataframe\">\n",
       "  <thead>\n",
       "    <tr style=\"text-align: right;\">\n",
       "      <th></th>\n",
       "      <th>index</th>\n",
       "      <th>customer_number</th>\n",
       "      <th>customer_name</th>\n",
       "      <th>country</th>\n",
       "      <th>invoice_number</th>\n",
       "      <th>invoice_date</th>\n",
       "      <th>invoice_inc_vat</th>\n",
       "      <th>open_inc_vat</th>\n",
       "      <th>due_date</th>\n",
       "      <th>days_overdue_by_oct31</th>\n",
       "      <th>id</th>\n",
       "      <th>invoice_exc_vat</th>\n",
       "      <th>open_exc_vat</th>\n",
       "      <th>days_after_invoice</th>\n",
       "      <th>overdue_days</th>\n",
       "      <th>contract_days</th>\n",
       "    </tr>\n",
       "  </thead>\n",
       "  <tbody>\n",
       "    <tr>\n",
       "      <th>1</th>\n",
       "      <td>0</td>\n",
       "      <td>1071535</td>\n",
       "      <td>AB Ltd.</td>\n",
       "      <td>FR</td>\n",
       "      <td>10,142.00</td>\n",
       "      <td>2021-04-30</td>\n",
       "      <td>5,221.13</td>\n",
       "      <td>5,221.13</td>\n",
       "      <td>2021-05-30</td>\n",
       "      <td>154.00</td>\n",
       "      <td>1071535-AB Ltd.FR</td>\n",
       "      <td>5,221.13</td>\n",
       "      <td>5,221.13</td>\n",
       "      <td>184</td>\n",
       "      <td>154</td>\n",
       "      <td>30</td>\n",
       "    </tr>\n",
       "    <tr>\n",
       "      <th>2</th>\n",
       "      <td>1</td>\n",
       "      <td>1071535</td>\n",
       "      <td>AB Ltd.</td>\n",
       "      <td>FR</td>\n",
       "      <td>10,146.00</td>\n",
       "      <td>2021-04-30</td>\n",
       "      <td>12,771.68</td>\n",
       "      <td>12,771.68</td>\n",
       "      <td>2021-05-30</td>\n",
       "      <td>154.00</td>\n",
       "      <td>1071535-AB Ltd.FR</td>\n",
       "      <td>12,771.68</td>\n",
       "      <td>12,771.68</td>\n",
       "      <td>184</td>\n",
       "      <td>154</td>\n",
       "      <td>30</td>\n",
       "    </tr>\n",
       "    <tr>\n",
       "      <th>3</th>\n",
       "      <td>2</td>\n",
       "      <td>1071535</td>\n",
       "      <td>AB Ltd.</td>\n",
       "      <td>FR</td>\n",
       "      <td>10,180.00</td>\n",
       "      <td>2021-06-30</td>\n",
       "      <td>17,028.90</td>\n",
       "      <td>17,028.90</td>\n",
       "      <td>2021-08-14</td>\n",
       "      <td>78.00</td>\n",
       "      <td>1071535-AB Ltd.FR</td>\n",
       "      <td>17,028.90</td>\n",
       "      <td>17,028.90</td>\n",
       "      <td>123</td>\n",
       "      <td>78</td>\n",
       "      <td>45</td>\n",
       "    </tr>\n",
       "    <tr>\n",
       "      <th>4</th>\n",
       "      <td>3</td>\n",
       "      <td>1071535</td>\n",
       "      <td>AB Ltd.</td>\n",
       "      <td>FR</td>\n",
       "      <td>10,007.00</td>\n",
       "      <td>2021-09-08</td>\n",
       "      <td>7,470.23</td>\n",
       "      <td>7,470.23</td>\n",
       "      <td>2021-10-08</td>\n",
       "      <td>23.00</td>\n",
       "      <td>1071535-AB Ltd.FR</td>\n",
       "      <td>7,470.23</td>\n",
       "      <td>7,470.23</td>\n",
       "      <td>53</td>\n",
       "      <td>23</td>\n",
       "      <td>30</td>\n",
       "    </tr>\n",
       "    <tr>\n",
       "      <th>5</th>\n",
       "      <td>4</td>\n",
       "      <td>1071535</td>\n",
       "      <td>AB Ltd.</td>\n",
       "      <td>FR</td>\n",
       "      <td>10,014.00</td>\n",
       "      <td>2021-09-30</td>\n",
       "      <td>3,775.28</td>\n",
       "      <td>3,775.28</td>\n",
       "      <td>2021-11-09</td>\n",
       "      <td>-9.00</td>\n",
       "      <td>1071535-AB Ltd.FR</td>\n",
       "      <td>3,775.28</td>\n",
       "      <td>3,775.28</td>\n",
       "      <td>31</td>\n",
       "      <td>-9</td>\n",
       "      <td>40</td>\n",
       "    </tr>\n",
       "    <tr>\n",
       "      <th>6</th>\n",
       "      <td>5</td>\n",
       "      <td>1071535</td>\n",
       "      <td>AB Ltd.</td>\n",
       "      <td>FR</td>\n",
       "      <td>202,110.00</td>\n",
       "      <td>2021-10-19</td>\n",
       "      <td>40,242.84</td>\n",
       "      <td>40,242.84</td>\n",
       "      <td>2021-10-19</td>\n",
       "      <td>12.00</td>\n",
       "      <td>1071535-AB Ltd.FR</td>\n",
       "      <td>40,242.84</td>\n",
       "      <td>40,242.84</td>\n",
       "      <td>12</td>\n",
       "      <td>12</td>\n",
       "      <td>0</td>\n",
       "    </tr>\n",
       "  </tbody>\n",
       "</table>\n",
       "</div>"
      ],
      "text/plain": [
       "  index  customer_number customer_name country  invoice_number invoice_date  \\\n",
       "1     0          1071535       AB Ltd.      FR       10,142.00   2021-04-30   \n",
       "2     1          1071535       AB Ltd.      FR       10,146.00   2021-04-30   \n",
       "3     2          1071535       AB Ltd.      FR       10,180.00   2021-06-30   \n",
       "4     3          1071535       AB Ltd.      FR       10,007.00   2021-09-08   \n",
       "5     4          1071535       AB Ltd.      FR       10,014.00   2021-09-30   \n",
       "6     5          1071535       AB Ltd.      FR      202,110.00   2021-10-19   \n",
       "\n",
       "   invoice_inc_vat  open_inc_vat   due_date  days_overdue_by_oct31  \\\n",
       "1         5,221.13      5,221.13 2021-05-30                 154.00   \n",
       "2        12,771.68     12,771.68 2021-05-30                 154.00   \n",
       "3        17,028.90     17,028.90 2021-08-14                  78.00   \n",
       "4         7,470.23      7,470.23 2021-10-08                  23.00   \n",
       "5         3,775.28      3,775.28 2021-11-09                  -9.00   \n",
       "6        40,242.84     40,242.84 2021-10-19                  12.00   \n",
       "\n",
       "                  id  invoice_exc_vat  open_exc_vat  days_after_invoice  \\\n",
       "1  1071535-AB Ltd.FR         5,221.13      5,221.13                 184   \n",
       "2  1071535-AB Ltd.FR        12,771.68     12,771.68                 184   \n",
       "3  1071535-AB Ltd.FR        17,028.90     17,028.90                 123   \n",
       "4  1071535-AB Ltd.FR         7,470.23      7,470.23                  53   \n",
       "5  1071535-AB Ltd.FR         3,775.28      3,775.28                  31   \n",
       "6  1071535-AB Ltd.FR        40,242.84     40,242.84                  12   \n",
       "\n",
       "   overdue_days  contract_days  \n",
       "1           154             30  \n",
       "2           154             30  \n",
       "3            78             45  \n",
       "4            23             30  \n",
       "5            -9             40  \n",
       "6            12              0  "
      ]
     },
     "execution_count": 5,
     "metadata": {},
     "output_type": "execute_result"
    }
   ],
   "source": [
    "# test_open = open_list.copy()\n",
    "close_day = pd.to_datetime('31-10-2021')\n",
    "open_list['invoice_date'] = open_list['invoice_date'].apply(pd.to_datetime, format='%Y-%m-%d')\n",
    "open_list['due_date'] = open_list['due_date'].apply(pd.to_datetime, format='%Y-%m-%d')\n",
    "open_list['days_after_invoice'] = (close_day - open_list['invoice_date']).dt.days\n",
    "open_list['overdue_days'] = (close_day - open_list['due_date']).dt.days\n",
    "open_list['contract_days'] = (open_list['due_date'] - open_list['invoice_date']).dt.days\n",
    "open_list['customer_number'] = open_list['customer_number'].astype(np.integer)\n",
    "open_list[open_list['customer_number'] == 1071535]"
   ]
  },
  {
   "cell_type": "code",
   "execution_count": 6,
   "metadata": {},
   "outputs": [
    {
     "data": {
      "text/html": [
       "<div>\n",
       "<style scoped>\n",
       "    .dataframe tbody tr th:only-of-type {\n",
       "        vertical-align: middle;\n",
       "    }\n",
       "\n",
       "    .dataframe tbody tr th {\n",
       "        vertical-align: top;\n",
       "    }\n",
       "\n",
       "    .dataframe thead th {\n",
       "        text-align: right;\n",
       "    }\n",
       "</style>\n",
       "<table border=\"1\" class=\"dataframe\">\n",
       "  <thead>\n",
       "    <tr style=\"text-align: right;\">\n",
       "      <th></th>\n",
       "      <th>index</th>\n",
       "      <th>customer_number</th>\n",
       "      <th>customer_name</th>\n",
       "      <th>country</th>\n",
       "      <th>invoice_number</th>\n",
       "      <th>invoice_date</th>\n",
       "      <th>invoice_inc_vat</th>\n",
       "      <th>open_inc_vat</th>\n",
       "      <th>due_date</th>\n",
       "      <th>days_overdue_by_oct31</th>\n",
       "      <th>...</th>\n",
       "      <th>open_exc_vat</th>\n",
       "      <th>days_after_invoice</th>\n",
       "      <th>overdue_days</th>\n",
       "      <th>contract_days</th>\n",
       "      <th>not_due</th>\n",
       "      <th>overdue_10d</th>\n",
       "      <th>overdue_11_30d</th>\n",
       "      <th>overdue_31_60d</th>\n",
       "      <th>overdue_61_90d</th>\n",
       "      <th>overdue_90+d</th>\n",
       "    </tr>\n",
       "  </thead>\n",
       "  <tbody>\n",
       "    <tr>\n",
       "      <th>1</th>\n",
       "      <td>0</td>\n",
       "      <td>1071535</td>\n",
       "      <td>AB Ltd.</td>\n",
       "      <td>FR</td>\n",
       "      <td>10,142.00</td>\n",
       "      <td>2021-04-30</td>\n",
       "      <td>5,221.13</td>\n",
       "      <td>5,221.13</td>\n",
       "      <td>2021-05-30</td>\n",
       "      <td>154.00</td>\n",
       "      <td>...</td>\n",
       "      <td>5,221.13</td>\n",
       "      <td>184</td>\n",
       "      <td>154</td>\n",
       "      <td>30</td>\n",
       "      <td>0.00</td>\n",
       "      <td>0.00</td>\n",
       "      <td>0.00</td>\n",
       "      <td>0.00</td>\n",
       "      <td>0.00</td>\n",
       "      <td>5,221.13</td>\n",
       "    </tr>\n",
       "    <tr>\n",
       "      <th>2</th>\n",
       "      <td>1</td>\n",
       "      <td>1071535</td>\n",
       "      <td>AB Ltd.</td>\n",
       "      <td>FR</td>\n",
       "      <td>10,146.00</td>\n",
       "      <td>2021-04-30</td>\n",
       "      <td>12,771.68</td>\n",
       "      <td>12,771.68</td>\n",
       "      <td>2021-05-30</td>\n",
       "      <td>154.00</td>\n",
       "      <td>...</td>\n",
       "      <td>12,771.68</td>\n",
       "      <td>184</td>\n",
       "      <td>154</td>\n",
       "      <td>30</td>\n",
       "      <td>0.00</td>\n",
       "      <td>0.00</td>\n",
       "      <td>0.00</td>\n",
       "      <td>0.00</td>\n",
       "      <td>0.00</td>\n",
       "      <td>12,771.68</td>\n",
       "    </tr>\n",
       "    <tr>\n",
       "      <th>3</th>\n",
       "      <td>2</td>\n",
       "      <td>1071535</td>\n",
       "      <td>AB Ltd.</td>\n",
       "      <td>FR</td>\n",
       "      <td>10,180.00</td>\n",
       "      <td>2021-06-30</td>\n",
       "      <td>17,028.90</td>\n",
       "      <td>17,028.90</td>\n",
       "      <td>2021-08-14</td>\n",
       "      <td>78.00</td>\n",
       "      <td>...</td>\n",
       "      <td>17,028.90</td>\n",
       "      <td>123</td>\n",
       "      <td>78</td>\n",
       "      <td>45</td>\n",
       "      <td>0.00</td>\n",
       "      <td>0.00</td>\n",
       "      <td>0.00</td>\n",
       "      <td>0.00</td>\n",
       "      <td>17,028.90</td>\n",
       "      <td>0.00</td>\n",
       "    </tr>\n",
       "    <tr>\n",
       "      <th>4</th>\n",
       "      <td>3</td>\n",
       "      <td>1071535</td>\n",
       "      <td>AB Ltd.</td>\n",
       "      <td>FR</td>\n",
       "      <td>10,007.00</td>\n",
       "      <td>2021-09-08</td>\n",
       "      <td>7,470.23</td>\n",
       "      <td>7,470.23</td>\n",
       "      <td>2021-10-08</td>\n",
       "      <td>23.00</td>\n",
       "      <td>...</td>\n",
       "      <td>7,470.23</td>\n",
       "      <td>53</td>\n",
       "      <td>23</td>\n",
       "      <td>30</td>\n",
       "      <td>0.00</td>\n",
       "      <td>0.00</td>\n",
       "      <td>7,470.23</td>\n",
       "      <td>0.00</td>\n",
       "      <td>0.00</td>\n",
       "      <td>0.00</td>\n",
       "    </tr>\n",
       "    <tr>\n",
       "      <th>5</th>\n",
       "      <td>4</td>\n",
       "      <td>1071535</td>\n",
       "      <td>AB Ltd.</td>\n",
       "      <td>FR</td>\n",
       "      <td>10,014.00</td>\n",
       "      <td>2021-09-30</td>\n",
       "      <td>3,775.28</td>\n",
       "      <td>3,775.28</td>\n",
       "      <td>2021-11-09</td>\n",
       "      <td>-9.00</td>\n",
       "      <td>...</td>\n",
       "      <td>3,775.28</td>\n",
       "      <td>31</td>\n",
       "      <td>-9</td>\n",
       "      <td>40</td>\n",
       "      <td>3,775.28</td>\n",
       "      <td>0.00</td>\n",
       "      <td>0.00</td>\n",
       "      <td>0.00</td>\n",
       "      <td>0.00</td>\n",
       "      <td>0.00</td>\n",
       "    </tr>\n",
       "    <tr>\n",
       "      <th>...</th>\n",
       "      <td>...</td>\n",
       "      <td>...</td>\n",
       "      <td>...</td>\n",
       "      <td>...</td>\n",
       "      <td>...</td>\n",
       "      <td>...</td>\n",
       "      <td>...</td>\n",
       "      <td>...</td>\n",
       "      <td>...</td>\n",
       "      <td>...</td>\n",
       "      <td>...</td>\n",
       "      <td>...</td>\n",
       "      <td>...</td>\n",
       "      <td>...</td>\n",
       "      <td>...</td>\n",
       "      <td>...</td>\n",
       "      <td>...</td>\n",
       "      <td>...</td>\n",
       "      <td>...</td>\n",
       "      <td>...</td>\n",
       "      <td>...</td>\n",
       "    </tr>\n",
       "    <tr>\n",
       "      <th>93</th>\n",
       "      <td>92</td>\n",
       "      <td>1066009</td>\n",
       "      <td>ZA SE</td>\n",
       "      <td>DE</td>\n",
       "      <td>20,577.00</td>\n",
       "      <td>2021-06-30</td>\n",
       "      <td>13,291.28</td>\n",
       "      <td>13,291.28</td>\n",
       "      <td>2021-08-29</td>\n",
       "      <td>63.00</td>\n",
       "      <td>...</td>\n",
       "      <td>11,169.14</td>\n",
       "      <td>123</td>\n",
       "      <td>63</td>\n",
       "      <td>60</td>\n",
       "      <td>0.00</td>\n",
       "      <td>0.00</td>\n",
       "      <td>0.00</td>\n",
       "      <td>0.00</td>\n",
       "      <td>11,169.14</td>\n",
       "      <td>0.00</td>\n",
       "    </tr>\n",
       "    <tr>\n",
       "      <th>94</th>\n",
       "      <td>93</td>\n",
       "      <td>1066009</td>\n",
       "      <td>ZA SE</td>\n",
       "      <td>DE</td>\n",
       "      <td>20,578.00</td>\n",
       "      <td>2021-06-30</td>\n",
       "      <td>177,310.00</td>\n",
       "      <td>177,310.00</td>\n",
       "      <td>2021-08-29</td>\n",
       "      <td>63.00</td>\n",
       "      <td>...</td>\n",
       "      <td>149,000.00</td>\n",
       "      <td>123</td>\n",
       "      <td>63</td>\n",
       "      <td>60</td>\n",
       "      <td>0.00</td>\n",
       "      <td>0.00</td>\n",
       "      <td>0.00</td>\n",
       "      <td>0.00</td>\n",
       "      <td>149,000.00</td>\n",
       "      <td>0.00</td>\n",
       "    </tr>\n",
       "    <tr>\n",
       "      <th>95</th>\n",
       "      <td>94</td>\n",
       "      <td>1066009</td>\n",
       "      <td>ZA SE</td>\n",
       "      <td>DE</td>\n",
       "      <td>20,000.00</td>\n",
       "      <td>2021-07-20</td>\n",
       "      <td>6,220.50</td>\n",
       "      <td>6,220.50</td>\n",
       "      <td>2021-09-18</td>\n",
       "      <td>43.00</td>\n",
       "      <td>...</td>\n",
       "      <td>5,227.31</td>\n",
       "      <td>103</td>\n",
       "      <td>43</td>\n",
       "      <td>60</td>\n",
       "      <td>0.00</td>\n",
       "      <td>0.00</td>\n",
       "      <td>0.00</td>\n",
       "      <td>5,227.31</td>\n",
       "      <td>0.00</td>\n",
       "      <td>0.00</td>\n",
       "    </tr>\n",
       "    <tr>\n",
       "      <th>96</th>\n",
       "      <td>95</td>\n",
       "      <td>1066009</td>\n",
       "      <td>ZA SE</td>\n",
       "      <td>DE</td>\n",
       "      <td>20,001.00</td>\n",
       "      <td>2021-07-22</td>\n",
       "      <td>59,046.31</td>\n",
       "      <td>59,046.31</td>\n",
       "      <td>2021-09-20</td>\n",
       "      <td>41.00</td>\n",
       "      <td>...</td>\n",
       "      <td>49,618.75</td>\n",
       "      <td>101</td>\n",
       "      <td>41</td>\n",
       "      <td>60</td>\n",
       "      <td>0.00</td>\n",
       "      <td>0.00</td>\n",
       "      <td>0.00</td>\n",
       "      <td>49,618.75</td>\n",
       "      <td>0.00</td>\n",
       "      <td>0.00</td>\n",
       "    </tr>\n",
       "    <tr>\n",
       "      <th>97</th>\n",
       "      <td>96</td>\n",
       "      <td>1066009</td>\n",
       "      <td>ZA SE</td>\n",
       "      <td>DE</td>\n",
       "      <td>20,123.00</td>\n",
       "      <td>2021-09-30</td>\n",
       "      <td>31,468.06</td>\n",
       "      <td>31,468.06</td>\n",
       "      <td>2021-11-29</td>\n",
       "      <td>-29.00</td>\n",
       "      <td>...</td>\n",
       "      <td>26,443.75</td>\n",
       "      <td>31</td>\n",
       "      <td>-29</td>\n",
       "      <td>60</td>\n",
       "      <td>26,443.75</td>\n",
       "      <td>0.00</td>\n",
       "      <td>0.00</td>\n",
       "      <td>0.00</td>\n",
       "      <td>0.00</td>\n",
       "      <td>0.00</td>\n",
       "    </tr>\n",
       "  </tbody>\n",
       "</table>\n",
       "<p>97 rows × 22 columns</p>\n",
       "</div>"
      ],
      "text/plain": [
       "   index  customer_number customer_name country  invoice_number invoice_date  \\\n",
       "1      0          1071535       AB Ltd.      FR       10,142.00   2021-04-30   \n",
       "2      1          1071535       AB Ltd.      FR       10,146.00   2021-04-30   \n",
       "3      2          1071535       AB Ltd.      FR       10,180.00   2021-06-30   \n",
       "4      3          1071535       AB Ltd.      FR       10,007.00   2021-09-08   \n",
       "5      4          1071535       AB Ltd.      FR       10,014.00   2021-09-30   \n",
       "..   ...              ...           ...     ...             ...          ...   \n",
       "93    92          1066009         ZA SE      DE       20,577.00   2021-06-30   \n",
       "94    93          1066009         ZA SE      DE       20,578.00   2021-06-30   \n",
       "95    94          1066009         ZA SE      DE       20,000.00   2021-07-20   \n",
       "96    95          1066009         ZA SE      DE       20,001.00   2021-07-22   \n",
       "97    96          1066009         ZA SE      DE       20,123.00   2021-09-30   \n",
       "\n",
       "    invoice_inc_vat  open_inc_vat   due_date  days_overdue_by_oct31  ...  \\\n",
       "1          5,221.13      5,221.13 2021-05-30                 154.00  ...   \n",
       "2         12,771.68     12,771.68 2021-05-30                 154.00  ...   \n",
       "3         17,028.90     17,028.90 2021-08-14                  78.00  ...   \n",
       "4          7,470.23      7,470.23 2021-10-08                  23.00  ...   \n",
       "5          3,775.28      3,775.28 2021-11-09                  -9.00  ...   \n",
       "..              ...           ...        ...                    ...  ...   \n",
       "93        13,291.28     13,291.28 2021-08-29                  63.00  ...   \n",
       "94       177,310.00    177,310.00 2021-08-29                  63.00  ...   \n",
       "95         6,220.50      6,220.50 2021-09-18                  43.00  ...   \n",
       "96        59,046.31     59,046.31 2021-09-20                  41.00  ...   \n",
       "97        31,468.06     31,468.06 2021-11-29                 -29.00  ...   \n",
       "\n",
       "   open_exc_vat  days_after_invoice  overdue_days  contract_days   not_due  \\\n",
       "1      5,221.13                 184           154             30      0.00   \n",
       "2     12,771.68                 184           154             30      0.00   \n",
       "3     17,028.90                 123            78             45      0.00   \n",
       "4      7,470.23                  53            23             30      0.00   \n",
       "5      3,775.28                  31            -9             40  3,775.28   \n",
       "..          ...                 ...           ...            ...       ...   \n",
       "93    11,169.14                 123            63             60      0.00   \n",
       "94   149,000.00                 123            63             60      0.00   \n",
       "95     5,227.31                 103            43             60      0.00   \n",
       "96    49,618.75                 101            41             60      0.00   \n",
       "97    26,443.75                  31           -29             60 26,443.75   \n",
       "\n",
       "    overdue_10d  overdue_11_30d  overdue_31_60d  overdue_61_90d  overdue_90+d  \n",
       "1          0.00            0.00            0.00            0.00      5,221.13  \n",
       "2          0.00            0.00            0.00            0.00     12,771.68  \n",
       "3          0.00            0.00            0.00       17,028.90          0.00  \n",
       "4          0.00        7,470.23            0.00            0.00          0.00  \n",
       "5          0.00            0.00            0.00            0.00          0.00  \n",
       "..          ...             ...             ...             ...           ...  \n",
       "93         0.00            0.00            0.00       11,169.14          0.00  \n",
       "94         0.00            0.00            0.00      149,000.00          0.00  \n",
       "95         0.00            0.00        5,227.31            0.00          0.00  \n",
       "96         0.00            0.00       49,618.75            0.00          0.00  \n",
       "97         0.00            0.00            0.00            0.00          0.00  \n",
       "\n",
       "[97 rows x 22 columns]"
      ]
     },
     "execution_count": 6,
     "metadata": {},
     "output_type": "execute_result"
    }
   ],
   "source": [
    "# create due days columns for open_list\n",
    "open_list['not_due'] = open_list[['open_exc_vat']].sum(axis=1).where(open_list['overdue_days'] <= 0, 0)\n",
    "open_list['overdue_10d'] = open_list[['open_exc_vat']].sum(axis=1).where((open_list['overdue_days'] > 0) & (open_list['overdue_days'] <= 10), 0)\n",
    "open_list['overdue_11_30d'] = open_list[['open_exc_vat']].sum(axis=1).where((open_list['overdue_days'] > 10) & (open_list['overdue_days'] <= 30), 0)\n",
    "open_list['overdue_31_60d'] = open_list[['open_exc_vat']].sum(axis=1).where((open_list['overdue_days'] > 30) & (open_list['overdue_days'] <= 60), 0)\n",
    "open_list['overdue_61_90d'] = open_list[['open_exc_vat']].sum(axis=1).where((open_list['overdue_days'] > 60) & (open_list['overdue_days'] <= 90), 0)\n",
    "open_list['overdue_90+d'] = open_list[['open_exc_vat']].sum(axis=1).where(open_list['overdue_days'] > 90, 0)\n",
    "\n",
    "open_list"
   ]
  },
  {
   "cell_type": "code",
   "execution_count": 7,
   "metadata": {},
   "outputs": [],
   "source": [
    "# create a list of our conditions\n",
    "open_conditions = [\n",
    "    (open_list['days_after_invoice'] <= 10),\n",
    "    (open_list['days_after_invoice'] > 10) & (open_list['days_after_invoice'] <= 30),\n",
    "    (open_list['days_after_invoice'] > 30) & (open_list['days_after_invoice'] <= 60),\n",
    "    (open_list['days_after_invoice'] > 60) & (open_list['days_after_invoice'] <= 90),\n",
    "    (open_list['days_after_invoice'] > 90)\n",
    "    ]\n",
    "\n",
    "# create a list of the values we want to assign for each condition\n",
    "values = [1,2,3,4,5]\n",
    "\n",
    "open_list['score_apply'] = np.select(open_conditions, values)\n",
    "open_list['weighted_open_exc_vat'] = open_list['open_exc_vat']*open_list['score_apply']\n",
    "# open_list"
   ]
  },
  {
   "cell_type": "code",
   "execution_count": 8,
   "metadata": {},
   "outputs": [
    {
     "name": "stderr",
     "output_type": "stream",
     "text": [
      "/var/folders/60/gmbxqch57r53py2v67gwvz780000gn/T/ipykernel_23638/1493096784.py:2: FutureWarning: Indexing with multiple keys (implicitly converted to a tuple of keys) will be deprecated, use a list instead.\n",
      "  open_list_customer = open_list.groupby(['id','customer_number', 'customer_name', 'country'])['invoice_inc_vat', 'open_inc_vat','invoice_exc_vat',\n"
     ]
    }
   ],
   "source": [
    "# Summary open_list by customer\n",
    "open_list_customer = open_list.groupby(['id','customer_number', 'customer_name', 'country'])['invoice_inc_vat', 'open_inc_vat','invoice_exc_vat',\n",
    "       'open_exc_vat','weighted_open_exc_vat','not_due', 'overdue_10d', 'overdue_11_30d', 'overdue_31_60d',\n",
    "       'overdue_61_90d', 'overdue_90+d','contract_days'].sum().reset_index()\n",
    "\n",
    "# Calculate open EPS for customer\n",
    "open_list_customer['open_EPS'] = open_list_customer['weighted_open_exc_vat']/open_list_customer['open_exc_vat']"
   ]
  },
  {
   "cell_type": "markdown",
   "metadata": {},
   "source": [
    "## Payment List"
   ]
  },
  {
   "cell_type": "code",
   "execution_count": 9,
   "metadata": {},
   "outputs": [],
   "source": [
    "# Format payment_list \n",
    "# Edit columns name\n",
    "payment_list = payment_list.rename(columns={'Customer  No.': 'customer_number',\n",
    "                                     'Country':'country',\n",
    "                                     'Customer':'customer_name',\n",
    "                                      'Revenues (net w/o VAT)':'revenue_net_wo_vat',\n",
    "                                      'Discount (0,05%)':'discount_0.05',\n",
    "                                      'Paid within 10 Days':'paid_in_10d',\n",
    "                                      'Paid 11-30 Days':'paid_11_30d',\n",
    "                                      'Paid 31-60Days':'paid_31_60d',\n",
    "                                      'Paid 61-90 Days': 'paid_61_90d',\n",
    "                                      'Paid 90+ Days': 'paid_90+d',\n",
    "                                      'Total amount':'total_payment',\n",
    "                                     })\n",
    "\n",
    "# Create id column in payment_list\n",
    "payment_list['id'] = payment_list['customer_number'].astype('str') + '-' + payment_list['customer_name'] + payment_list['country']   \n",
    "\n",
    "# Fillna in payment_list\n",
    "payment_list = payment_list.fillna(0)           "
   ]
  },
  {
   "cell_type": "code",
   "execution_count": 10,
   "metadata": {},
   "outputs": [
    {
     "name": "stderr",
     "output_type": "stream",
     "text": [
      "/var/folders/60/gmbxqch57r53py2v67gwvz780000gn/T/ipykernel_23638/2066065837.py:2: FutureWarning: Indexing with multiple keys (implicitly converted to a tuple of keys) will be deprecated, use a list instead.\n",
      "  payment_list_customer = payment_list.groupby(['id', 'customer_number', 'country', 'customer_name'])['discount_0.05','paid_in_10d', 'paid_11_30d',\n"
     ]
    }
   ],
   "source": [
    "# Summarize payment_list by customers\n",
    "payment_list_customer = payment_list.groupby(['id', 'customer_number', 'country', 'customer_name'])['discount_0.05','paid_in_10d', 'paid_11_30d',\n",
    "       'paid_31_60d', 'paid_61_90d', 'paid_90+d', 'total_payment'].sum().reset_index()\n"
   ]
  },
  {
   "cell_type": "code",
   "execution_count": 11,
   "metadata": {},
   "outputs": [],
   "source": [
    "# Calculate EPS in payment_list\n",
    "weighted_list = [1,2,3,4,5]\n",
    "\n",
    "# test_payment_list = payment_list.copy()\n",
    "\n",
    "for i in weighted_list:\n",
    "    payment_list_customer['sum_weighted'] = payment_list_customer['paid_in_10d']*weighted_list[0] + payment_list_customer['paid_11_30d']*weighted_list[1] + payment_list_customer['paid_31_60d']*weighted_list[2] + payment_list_customer['paid_61_90d']*weighted_list[3] + payment_list_customer['paid_90+d']*weighted_list[4]\n",
    "\n",
    "payment_list_customer['payment_EPS'] = payment_list_customer['sum_weighted'] / payment_list_customer['total_payment']\n",
    "\n"
   ]
  },
  {
   "cell_type": "code",
   "execution_count": 12,
   "metadata": {},
   "outputs": [],
   "source": [
    "# Create EPS tier by customer\n",
    "tier_conditions = [\n",
    "    (payment_list_customer['payment_EPS'] <= 1.7),\n",
    "    (payment_list_customer['payment_EPS'] > 1.7) & (payment_list_customer['payment_EPS'] <= 2.7),\n",
    "    (payment_list_customer['payment_EPS'] > 2.7 ) & (payment_list_customer['payment_EPS'] <= 3.7),\n",
    "    (payment_list_customer['payment_EPS'] > 3.7)\n",
    "    ]\n",
    "\n",
    "tiers = ['tier_1', 'tier_2', 'tier_3', 'tier_4']\n",
    "\n",
    "payment_list_customer['payment_EPS_tier'] = np.select(tier_conditions, tiers)\n"
   ]
  },
  {
   "cell_type": "markdown",
   "metadata": {},
   "source": [
    "## Merge data between Payment list and Open list"
   ]
  },
  {
   "cell_type": "code",
   "execution_count": 13,
   "metadata": {},
   "outputs": [],
   "source": [
    "# Merge open_list and payment_list\n",
    "merge_data = payment_list_customer.merge(open_list_customer, on ='id', how='outer',suffixes=('_pm', '_op'))\n",
    "\n",
    "merge_data = merge_data.fillna(0)\n",
    "\n",
    "merge_data['total'] = merge_data['total_payment'] + merge_data['open_exc_vat']\n"
   ]
  },
  {
   "cell_type": "code",
   "execution_count": 14,
   "metadata": {},
   "outputs": [
    {
     "data": {
      "text/html": [
       "<div>\n",
       "<style scoped>\n",
       "    .dataframe tbody tr th:only-of-type {\n",
       "        vertical-align: middle;\n",
       "    }\n",
       "\n",
       "    .dataframe tbody tr th {\n",
       "        vertical-align: top;\n",
       "    }\n",
       "\n",
       "    .dataframe thead th {\n",
       "        text-align: right;\n",
       "    }\n",
       "</style>\n",
       "<table border=\"1\" class=\"dataframe\">\n",
       "  <thead>\n",
       "    <tr style=\"text-align: right;\">\n",
       "      <th></th>\n",
       "      <th>total_payment</th>\n",
       "      <th>open_exc_vat</th>\n",
       "      <th>payment_EPS</th>\n",
       "      <th>open_EPS</th>\n",
       "      <th>base_amount</th>\n",
       "      <th>wtd_open</th>\n",
       "      <th>wtd_payment</th>\n",
       "    </tr>\n",
       "  </thead>\n",
       "  <tbody>\n",
       "    <tr>\n",
       "      <th>0</th>\n",
       "      <td>544.98</td>\n",
       "      <td>12,104.54</td>\n",
       "      <td>2.00</td>\n",
       "      <td>3.76</td>\n",
       "      <td>12,649.52</td>\n",
       "      <td>12,108.30</td>\n",
       "      <td>1,089.96</td>\n",
       "    </tr>\n",
       "  </tbody>\n",
       "</table>\n",
       "</div>"
      ],
      "text/plain": [
       "   total_payment  open_exc_vat  payment_EPS  open_EPS  base_amount  wtd_open  \\\n",
       "0         544.98     12,104.54         2.00      3.76    12,649.52 12,108.30   \n",
       "\n",
       "   wtd_payment  \n",
       "0     1,089.96  "
      ]
     },
     "execution_count": 14,
     "metadata": {},
     "output_type": "execute_result"
    }
   ],
   "source": [
    "# Create calculation columns in merge data\n",
    "merge_data['base_amount'] = merge_data['total_payment']+merge_data['open_exc_vat']\n",
    "merge_data['wtd_payment'] = (merge_data['total_payment']*merge_data['payment_EPS']) \n",
    "merge_data['wtd_open'] = (merge_data['open_exc_vat']+merge_data['open_EPS'])\n",
    "\n",
    "merge_data[merge_data['customer_number_pm'] == 1028331][['total_payment','open_exc_vat','payment_EPS','open_EPS','base_amount','wtd_open','wtd_payment']]"
   ]
  },
  {
   "cell_type": "code",
   "execution_count": 15,
   "metadata": {},
   "outputs": [],
   "source": [
    "# Calculate total EPS\n",
    "merge_data['EPS'] = ((merge_data['total_payment']*merge_data['payment_EPS']) + (merge_data['open_exc_vat']*merge_data['open_EPS']))/(merge_data['total_payment']+merge_data['open_exc_vat'])\n",
    "\n"
   ]
  },
  {
   "cell_type": "code",
   "execution_count": 16,
   "metadata": {},
   "outputs": [],
   "source": [
    "# Create EPS tier by customer\n",
    "tier_conditions = [\n",
    "    (merge_data['EPS'] <= 1.7),\n",
    "    (merge_data['EPS'] > 1.7) & (merge_data['EPS'] <= 2.7),\n",
    "    (merge_data['EPS'] > 2.7 ) & (merge_data['EPS'] <= 3.7),\n",
    "    (merge_data['EPS'] > 3.7)\n",
    "    ]\n",
    "\n",
    "tiers = ['tier_1', 'tier_2', 'tier_3', 'tier_4']\n",
    "\n",
    "merge_data['EPS_tier'] = np.select(tier_conditions, tiers)"
   ]
  },
  {
   "cell_type": "code",
   "execution_count": 17,
   "metadata": {},
   "outputs": [],
   "source": [
    "# Create tier by customer value\n",
    "value_conditions = [\n",
    "    (merge_data['total'] >= 100000),\n",
    "    (merge_data['total'] < 100000) & (merge_data['total'] >= 50000),\n",
    "    (merge_data['total'] < 50000 ) & (merge_data['total'] >= 25000),\n",
    "    (merge_data['total'] < 25000)\n",
    "    ]\n",
    "\n",
    "values = ['01. >100k', '02. >50K', '03. >25K', '04. <25K']\n",
    "\n",
    "merge_data['value_tier'] = np.select(value_conditions, values)\n"
   ]
  },
  {
   "cell_type": "code",
   "execution_count": 18,
   "metadata": {},
   "outputs": [],
   "source": [
    "# Calculate total due by customer\n",
    "merge_data['total_due'] = merge_data['overdue_10d'] + merge_data['overdue_11_30d'] + merge_data['overdue_31_60d'] + merge_data['overdue_61_90d'] + merge_data['overdue_90+d']"
   ]
  },
  {
   "cell_type": "markdown",
   "metadata": {},
   "source": [
    "## Waterfall chart & Matrix"
   ]
  },
  {
   "cell_type": "code",
   "execution_count": 19,
   "metadata": {},
   "outputs": [],
   "source": [
    "# Prepare data for waterfall chart\n",
    "operating_sales_rev = merge_data['discount_0.05'].sum().round(0)+merge_data['total'].sum().round(0)\n",
    "net_sale = merge_data['total'].sum().round(0)\n",
    "discount = merge_data['discount_0.05'].sum().round(0)\n",
    "paid = merge_data['total_payment'].sum().round(0)\n",
    "open_invoices = merge_data['open_exc_vat'].sum().round(0)\n",
    "not_due = merge_data['not_due'].sum().round(0)\n",
    "total_due = (merge_data['overdue_10d'].sum() + merge_data['overdue_11_30d'].sum() + merge_data['overdue_31_60d'].sum() + merge_data['overdue_61_90d'].sum() + merge_data['overdue_90+d'].sum()).round(0)\n",
    "overdue_1_10d = merge_data['overdue_10d'].sum().round(0)\n",
    "overdue_11_30d = merge_data['overdue_11_30d'].sum().round(0)\n",
    "overdue_31_60d = merge_data['overdue_31_60d'].sum().round(0)\n",
    "overdue_61_90d = merge_data['overdue_61_90d'].sum().round(0)\n",
    "overdue_more_91d = merge_data['overdue_90+d'].sum().round(0)\n",
    "\n",
    "# Create list from calculated data\n",
    "wf_list = ['operating_sales_rev','net_sale','discount','paid','open_invoices','not_due','total_due','overdue_1_10d','overdue_11_30d','overdue_31_60d','overdue_61_90d','overdue_more_91d']\n",
    "wf_data = [operating_sales_rev,net_sale,discount,paid,open_invoices,not_due,total_due,overdue_1_10d,overdue_11_30d,overdue_31_60d,overdue_61_90d,overdue_more_91d]\n"
   ]
  },
  {
   "cell_type": "code",
   "execution_count": 20,
   "metadata": {},
   "outputs": [
    {
     "data": {
      "application/vnd.plotly.v1+json": {
       "config": {
        "plotlyServerURL": "https://plot.ly"
       },
       "data": [
        {
         "base": 0,
         "decreasing": {
          "marker": {
           "color": "orange",
           "line": {
            "color": "red",
            "width": 2
           }
          }
         },
         "increasing": {
          "marker": {
           "color": "Teal"
          }
         },
         "measure": [
          "absolute",
          "relative",
          "absolute",
          "relative",
          "absolute",
          "relative",
          "absolute",
          "relative",
          "relative",
          "relative",
          "relative",
          "relative"
         ],
         "text": [
          "€3,532",
          "€4",
          "€3,528",
          "€1,695",
          "€1,834",
          "€825",
          "€1,009",
          "€333",
          "€89",
          "€104",
          "€228",
          "€256"
         ],
         "textposition": "outside",
         "totals": {
          "marker": {
           "color": "deep sky blue",
           "line": {
            "color": "blue",
            "width": 3
           }
          }
         },
         "type": "waterfall",
         "x": [
          "Net Sales",
          "Discount",
          "Operating Sales/Revenue",
          "Paid Invoices",
          "Account Receivables",
          "Not Due",
          "Overdue",
          "1-10 days overdue",
          "11-30 days overdue",
          "31-60 days overdue",
          "61-90 days overdue",
          "+90 days overdue"
         ],
         "y": [
          3532071,
          -3646,
          3528425,
          -1694709,
          1833716,
          -824715,
          1009001,
          -332715,
          -89072,
          -103666,
          -227966,
          -255584
         ]
        }
       ],
       "layout": {
        "template": {
         "data": {
          "bar": [
           {
            "error_x": {
             "color": "#2a3f5f"
            },
            "error_y": {
             "color": "#2a3f5f"
            },
            "marker": {
             "line": {
              "color": "#E5ECF6",
              "width": 0.5
             },
             "pattern": {
              "fillmode": "overlay",
              "size": 10,
              "solidity": 0.2
             }
            },
            "type": "bar"
           }
          ],
          "barpolar": [
           {
            "marker": {
             "line": {
              "color": "#E5ECF6",
              "width": 0.5
             },
             "pattern": {
              "fillmode": "overlay",
              "size": 10,
              "solidity": 0.2
             }
            },
            "type": "barpolar"
           }
          ],
          "carpet": [
           {
            "aaxis": {
             "endlinecolor": "#2a3f5f",
             "gridcolor": "white",
             "linecolor": "white",
             "minorgridcolor": "white",
             "startlinecolor": "#2a3f5f"
            },
            "baxis": {
             "endlinecolor": "#2a3f5f",
             "gridcolor": "white",
             "linecolor": "white",
             "minorgridcolor": "white",
             "startlinecolor": "#2a3f5f"
            },
            "type": "carpet"
           }
          ],
          "choropleth": [
           {
            "colorbar": {
             "outlinewidth": 0,
             "ticks": ""
            },
            "type": "choropleth"
           }
          ],
          "contour": [
           {
            "colorbar": {
             "outlinewidth": 0,
             "ticks": ""
            },
            "colorscale": [
             [
              0,
              "#0d0887"
             ],
             [
              0.1111111111111111,
              "#46039f"
             ],
             [
              0.2222222222222222,
              "#7201a8"
             ],
             [
              0.3333333333333333,
              "#9c179e"
             ],
             [
              0.4444444444444444,
              "#bd3786"
             ],
             [
              0.5555555555555556,
              "#d8576b"
             ],
             [
              0.6666666666666666,
              "#ed7953"
             ],
             [
              0.7777777777777778,
              "#fb9f3a"
             ],
             [
              0.8888888888888888,
              "#fdca26"
             ],
             [
              1,
              "#f0f921"
             ]
            ],
            "type": "contour"
           }
          ],
          "contourcarpet": [
           {
            "colorbar": {
             "outlinewidth": 0,
             "ticks": ""
            },
            "type": "contourcarpet"
           }
          ],
          "heatmap": [
           {
            "colorbar": {
             "outlinewidth": 0,
             "ticks": ""
            },
            "colorscale": [
             [
              0,
              "#0d0887"
             ],
             [
              0.1111111111111111,
              "#46039f"
             ],
             [
              0.2222222222222222,
              "#7201a8"
             ],
             [
              0.3333333333333333,
              "#9c179e"
             ],
             [
              0.4444444444444444,
              "#bd3786"
             ],
             [
              0.5555555555555556,
              "#d8576b"
             ],
             [
              0.6666666666666666,
              "#ed7953"
             ],
             [
              0.7777777777777778,
              "#fb9f3a"
             ],
             [
              0.8888888888888888,
              "#fdca26"
             ],
             [
              1,
              "#f0f921"
             ]
            ],
            "type": "heatmap"
           }
          ],
          "heatmapgl": [
           {
            "colorbar": {
             "outlinewidth": 0,
             "ticks": ""
            },
            "colorscale": [
             [
              0,
              "#0d0887"
             ],
             [
              0.1111111111111111,
              "#46039f"
             ],
             [
              0.2222222222222222,
              "#7201a8"
             ],
             [
              0.3333333333333333,
              "#9c179e"
             ],
             [
              0.4444444444444444,
              "#bd3786"
             ],
             [
              0.5555555555555556,
              "#d8576b"
             ],
             [
              0.6666666666666666,
              "#ed7953"
             ],
             [
              0.7777777777777778,
              "#fb9f3a"
             ],
             [
              0.8888888888888888,
              "#fdca26"
             ],
             [
              1,
              "#f0f921"
             ]
            ],
            "type": "heatmapgl"
           }
          ],
          "histogram": [
           {
            "marker": {
             "pattern": {
              "fillmode": "overlay",
              "size": 10,
              "solidity": 0.2
             }
            },
            "type": "histogram"
           }
          ],
          "histogram2d": [
           {
            "colorbar": {
             "outlinewidth": 0,
             "ticks": ""
            },
            "colorscale": [
             [
              0,
              "#0d0887"
             ],
             [
              0.1111111111111111,
              "#46039f"
             ],
             [
              0.2222222222222222,
              "#7201a8"
             ],
             [
              0.3333333333333333,
              "#9c179e"
             ],
             [
              0.4444444444444444,
              "#bd3786"
             ],
             [
              0.5555555555555556,
              "#d8576b"
             ],
             [
              0.6666666666666666,
              "#ed7953"
             ],
             [
              0.7777777777777778,
              "#fb9f3a"
             ],
             [
              0.8888888888888888,
              "#fdca26"
             ],
             [
              1,
              "#f0f921"
             ]
            ],
            "type": "histogram2d"
           }
          ],
          "histogram2dcontour": [
           {
            "colorbar": {
             "outlinewidth": 0,
             "ticks": ""
            },
            "colorscale": [
             [
              0,
              "#0d0887"
             ],
             [
              0.1111111111111111,
              "#46039f"
             ],
             [
              0.2222222222222222,
              "#7201a8"
             ],
             [
              0.3333333333333333,
              "#9c179e"
             ],
             [
              0.4444444444444444,
              "#bd3786"
             ],
             [
              0.5555555555555556,
              "#d8576b"
             ],
             [
              0.6666666666666666,
              "#ed7953"
             ],
             [
              0.7777777777777778,
              "#fb9f3a"
             ],
             [
              0.8888888888888888,
              "#fdca26"
             ],
             [
              1,
              "#f0f921"
             ]
            ],
            "type": "histogram2dcontour"
           }
          ],
          "mesh3d": [
           {
            "colorbar": {
             "outlinewidth": 0,
             "ticks": ""
            },
            "type": "mesh3d"
           }
          ],
          "parcoords": [
           {
            "line": {
             "colorbar": {
              "outlinewidth": 0,
              "ticks": ""
             }
            },
            "type": "parcoords"
           }
          ],
          "pie": [
           {
            "automargin": true,
            "type": "pie"
           }
          ],
          "scatter": [
           {
            "marker": {
             "colorbar": {
              "outlinewidth": 0,
              "ticks": ""
             }
            },
            "type": "scatter"
           }
          ],
          "scatter3d": [
           {
            "line": {
             "colorbar": {
              "outlinewidth": 0,
              "ticks": ""
             }
            },
            "marker": {
             "colorbar": {
              "outlinewidth": 0,
              "ticks": ""
             }
            },
            "type": "scatter3d"
           }
          ],
          "scattercarpet": [
           {
            "marker": {
             "colorbar": {
              "outlinewidth": 0,
              "ticks": ""
             }
            },
            "type": "scattercarpet"
           }
          ],
          "scattergeo": [
           {
            "marker": {
             "colorbar": {
              "outlinewidth": 0,
              "ticks": ""
             }
            },
            "type": "scattergeo"
           }
          ],
          "scattergl": [
           {
            "marker": {
             "colorbar": {
              "outlinewidth": 0,
              "ticks": ""
             }
            },
            "type": "scattergl"
           }
          ],
          "scattermapbox": [
           {
            "marker": {
             "colorbar": {
              "outlinewidth": 0,
              "ticks": ""
             }
            },
            "type": "scattermapbox"
           }
          ],
          "scatterpolar": [
           {
            "marker": {
             "colorbar": {
              "outlinewidth": 0,
              "ticks": ""
             }
            },
            "type": "scatterpolar"
           }
          ],
          "scatterpolargl": [
           {
            "marker": {
             "colorbar": {
              "outlinewidth": 0,
              "ticks": ""
             }
            },
            "type": "scatterpolargl"
           }
          ],
          "scatterternary": [
           {
            "marker": {
             "colorbar": {
              "outlinewidth": 0,
              "ticks": ""
             }
            },
            "type": "scatterternary"
           }
          ],
          "surface": [
           {
            "colorbar": {
             "outlinewidth": 0,
             "ticks": ""
            },
            "colorscale": [
             [
              0,
              "#0d0887"
             ],
             [
              0.1111111111111111,
              "#46039f"
             ],
             [
              0.2222222222222222,
              "#7201a8"
             ],
             [
              0.3333333333333333,
              "#9c179e"
             ],
             [
              0.4444444444444444,
              "#bd3786"
             ],
             [
              0.5555555555555556,
              "#d8576b"
             ],
             [
              0.6666666666666666,
              "#ed7953"
             ],
             [
              0.7777777777777778,
              "#fb9f3a"
             ],
             [
              0.8888888888888888,
              "#fdca26"
             ],
             [
              1,
              "#f0f921"
             ]
            ],
            "type": "surface"
           }
          ],
          "table": [
           {
            "cells": {
             "fill": {
              "color": "#EBF0F8"
             },
             "line": {
              "color": "white"
             }
            },
            "header": {
             "fill": {
              "color": "#C8D4E3"
             },
             "line": {
              "color": "white"
             }
            },
            "type": "table"
           }
          ]
         },
         "layout": {
          "annotationdefaults": {
           "arrowcolor": "#2a3f5f",
           "arrowhead": 0,
           "arrowwidth": 1
          },
          "autotypenumbers": "strict",
          "coloraxis": {
           "colorbar": {
            "outlinewidth": 0,
            "ticks": ""
           }
          },
          "colorscale": {
           "diverging": [
            [
             0,
             "#8e0152"
            ],
            [
             0.1,
             "#c51b7d"
            ],
            [
             0.2,
             "#de77ae"
            ],
            [
             0.3,
             "#f1b6da"
            ],
            [
             0.4,
             "#fde0ef"
            ],
            [
             0.5,
             "#f7f7f7"
            ],
            [
             0.6,
             "#e6f5d0"
            ],
            [
             0.7,
             "#b8e186"
            ],
            [
             0.8,
             "#7fbc41"
            ],
            [
             0.9,
             "#4d9221"
            ],
            [
             1,
             "#276419"
            ]
           ],
           "sequential": [
            [
             0,
             "#0d0887"
            ],
            [
             0.1111111111111111,
             "#46039f"
            ],
            [
             0.2222222222222222,
             "#7201a8"
            ],
            [
             0.3333333333333333,
             "#9c179e"
            ],
            [
             0.4444444444444444,
             "#bd3786"
            ],
            [
             0.5555555555555556,
             "#d8576b"
            ],
            [
             0.6666666666666666,
             "#ed7953"
            ],
            [
             0.7777777777777778,
             "#fb9f3a"
            ],
            [
             0.8888888888888888,
             "#fdca26"
            ],
            [
             1,
             "#f0f921"
            ]
           ],
           "sequentialminus": [
            [
             0,
             "#0d0887"
            ],
            [
             0.1111111111111111,
             "#46039f"
            ],
            [
             0.2222222222222222,
             "#7201a8"
            ],
            [
             0.3333333333333333,
             "#9c179e"
            ],
            [
             0.4444444444444444,
             "#bd3786"
            ],
            [
             0.5555555555555556,
             "#d8576b"
            ],
            [
             0.6666666666666666,
             "#ed7953"
            ],
            [
             0.7777777777777778,
             "#fb9f3a"
            ],
            [
             0.8888888888888888,
             "#fdca26"
            ],
            [
             1,
             "#f0f921"
            ]
           ]
          },
          "colorway": [
           "#636efa",
           "#EF553B",
           "#00cc96",
           "#ab63fa",
           "#FFA15A",
           "#19d3f3",
           "#FF6692",
           "#B6E880",
           "#FF97FF",
           "#FECB52"
          ],
          "font": {
           "color": "#2a3f5f"
          },
          "geo": {
           "bgcolor": "white",
           "lakecolor": "white",
           "landcolor": "#E5ECF6",
           "showlakes": true,
           "showland": true,
           "subunitcolor": "white"
          },
          "hoverlabel": {
           "align": "left"
          },
          "hovermode": "closest",
          "mapbox": {
           "style": "light"
          },
          "paper_bgcolor": "white",
          "plot_bgcolor": "#E5ECF6",
          "polar": {
           "angularaxis": {
            "gridcolor": "white",
            "linecolor": "white",
            "ticks": ""
           },
           "bgcolor": "#E5ECF6",
           "radialaxis": {
            "gridcolor": "white",
            "linecolor": "white",
            "ticks": ""
           }
          },
          "scene": {
           "xaxis": {
            "backgroundcolor": "#E5ECF6",
            "gridcolor": "white",
            "gridwidth": 2,
            "linecolor": "white",
            "showbackground": true,
            "ticks": "",
            "zerolinecolor": "white"
           },
           "yaxis": {
            "backgroundcolor": "#E5ECF6",
            "gridcolor": "white",
            "gridwidth": 2,
            "linecolor": "white",
            "showbackground": true,
            "ticks": "",
            "zerolinecolor": "white"
           },
           "zaxis": {
            "backgroundcolor": "#E5ECF6",
            "gridcolor": "white",
            "gridwidth": 2,
            "linecolor": "white",
            "showbackground": true,
            "ticks": "",
            "zerolinecolor": "white"
           }
          },
          "shapedefaults": {
           "line": {
            "color": "#2a3f5f"
           }
          },
          "ternary": {
           "aaxis": {
            "gridcolor": "white",
            "linecolor": "white",
            "ticks": ""
           },
           "baxis": {
            "gridcolor": "white",
            "linecolor": "white",
            "ticks": ""
           },
           "bgcolor": "#E5ECF6",
           "caxis": {
            "gridcolor": "white",
            "linecolor": "white",
            "ticks": ""
           }
          },
          "title": {
           "x": 0.05
          },
          "xaxis": {
           "automargin": true,
           "gridcolor": "white",
           "linecolor": "white",
           "ticks": "",
           "title": {
            "standoff": 15
           },
           "zerolinecolor": "white",
           "zerolinewidth": 2
          },
          "yaxis": {
           "automargin": true,
           "gridcolor": "white",
           "linecolor": "white",
           "ticks": "",
           "title": {
            "standoff": 15
           },
           "zerolinecolor": "white",
           "zerolinewidth": 2
          }
         }
        },
        "title": {
         "text": "Big Picture"
        },
        "waterfallgap": 0.3,
        "xaxis": {
         "tickangle": -45
        },
        "yaxis": {
         "range": [
          -500000,
          4000000
         ],
         "title": {
          "text": "EUR, in millions"
         }
        }
       }
      }
     },
     "metadata": {},
     "output_type": "display_data"
    }
   ],
   "source": [
    "# create waterfall chart\n",
    "\n",
    "fig = go.Figure(go.Waterfall(\n",
    "    x = ['Net Sales','Discount','Operating Sales/Revenue','Paid Invoices','Account Receivables','Not Due','Overdue','1-10 days overdue','11-30 days overdue','31-60 days overdue','61-90 days overdue','+90 days overdue'],\n",
    "    measure = [\"absolute\", \"relative\", \"absolute\", \"relative\", \"absolute\", \"relative\", \"absolute\", \"relative\", \"relative\",\"relative\",\"relative\",\"relative\"],\n",
    "    y = [operating_sales_rev,-discount,net_sale,-paid,open_invoices,-not_due,total_due,-overdue_1_10d,-overdue_11_30d,-overdue_31_60d,-overdue_61_90d,-overdue_more_91d], base = 0,\n",
    "    text = [\"€3,532\",\"€4\" , \"€3,528\", \"€1,695\", \"€1,834\", \"€825\",\"€1,009\",\"€333\",\"€89\",\"€104\",\"€228\",\"€256\"],\n",
    "    decreasing = {\"marker\":{\"color\":\"orange\", \"line\":{\"color\":\"red\", \"width\":2}}},\n",
    "    textposition = \"outside\",\n",
    "    increasing = {\"marker\":{\"color\":\"Teal\"}},\n",
    "    totals = {\"marker\":{\"color\":\"deep sky blue\", \"line\":{\"color\":\"blue\", \"width\":3}}}\n",
    "    \n",
    "))\n",
    "\n",
    "fig.update_layout(title = \"Big Picture\", waterfallgap = 0.3)\n",
    "fig.update_yaxes(range=[-500000, 4000000])\n",
    "fig.update_yaxes(title_text='EUR, in millions')\n",
    "fig.update_xaxes(tickangle=-45)\n",
    "fig.show()\n",
    "\n"
   ]
  },
  {
   "cell_type": "code",
   "execution_count": 21,
   "metadata": {},
   "outputs": [
    {
     "data": {
      "text/html": [
       "<div>\n",
       "<style scoped>\n",
       "    .dataframe tbody tr th:only-of-type {\n",
       "        vertical-align: middle;\n",
       "    }\n",
       "\n",
       "    .dataframe tbody tr th {\n",
       "        vertical-align: top;\n",
       "    }\n",
       "\n",
       "    .dataframe thead th {\n",
       "        text-align: right;\n",
       "    }\n",
       "</style>\n",
       "<table border=\"1\" class=\"dataframe\">\n",
       "  <thead>\n",
       "    <tr style=\"text-align: right;\">\n",
       "      <th>value_tier</th>\n",
       "      <th>01. &gt;100k</th>\n",
       "      <th>02. &gt;50K</th>\n",
       "      <th>03. &gt;25K</th>\n",
       "      <th>04. &lt;25K</th>\n",
       "      <th>All</th>\n",
       "    </tr>\n",
       "    <tr>\n",
       "      <th>EPS_tier</th>\n",
       "      <th></th>\n",
       "      <th></th>\n",
       "      <th></th>\n",
       "      <th></th>\n",
       "      <th></th>\n",
       "    </tr>\n",
       "  </thead>\n",
       "  <tbody>\n",
       "    <tr>\n",
       "      <th>tier_1</th>\n",
       "      <td>336,975</td>\n",
       "      <td>86,557</td>\n",
       "      <td>0</td>\n",
       "      <td>9,417</td>\n",
       "      <td>432,949</td>\n",
       "    </tr>\n",
       "    <tr>\n",
       "      <th>tier_2</th>\n",
       "      <td>996,927</td>\n",
       "      <td>0</td>\n",
       "      <td>0</td>\n",
       "      <td>31,416</td>\n",
       "      <td>1,028,343</td>\n",
       "    </tr>\n",
       "    <tr>\n",
       "      <th>tier_3</th>\n",
       "      <td>493,634</td>\n",
       "      <td>357,757</td>\n",
       "      <td>153,725</td>\n",
       "      <td>145,837</td>\n",
       "      <td>1,150,953</td>\n",
       "    </tr>\n",
       "    <tr>\n",
       "      <th>tier_4</th>\n",
       "      <td>818,700</td>\n",
       "      <td>0</td>\n",
       "      <td>32,370</td>\n",
       "      <td>65,110</td>\n",
       "      <td>916,180</td>\n",
       "    </tr>\n",
       "    <tr>\n",
       "      <th>All</th>\n",
       "      <td>2,646,236</td>\n",
       "      <td>444,314</td>\n",
       "      <td>186,095</td>\n",
       "      <td>251,779</td>\n",
       "      <td>3,528,425</td>\n",
       "    </tr>\n",
       "  </tbody>\n",
       "</table>\n",
       "</div>"
      ],
      "text/plain": [
       "value_tier  01. >100k  02. >50K  03. >25K  04. <25K       All\n",
       "EPS_tier                                                     \n",
       "tier_1        336,975    86,557         0     9,417   432,949\n",
       "tier_2        996,927         0         0    31,416 1,028,343\n",
       "tier_3        493,634   357,757   153,725   145,837 1,150,953\n",
       "tier_4        818,700         0    32,370    65,110   916,180\n",
       "All         2,646,236   444,314   186,095   251,779 3,528,425"
      ]
     },
     "execution_count": 21,
     "metadata": {},
     "output_type": "execute_result"
    }
   ],
   "source": [
    "# Calculate matrix for customer EPS tier and value tier\n",
    "matrix = pd.pivot_table(merge_data, values='total', index='EPS_tier', columns='value_tier', aggfunc='sum',margins=True)\n",
    "\n",
    "matrix = matrix.fillna(0)\n",
    "pd.options.display.float_format = '{:,.0f}'.format\n",
    "# matrix = matrix.style.background_gradient(cmap='coolwarm')\n",
    "\n",
    "matrix"
   ]
  },
  {
   "cell_type": "code",
   "execution_count": 22,
   "metadata": {},
   "outputs": [],
   "source": [
    "# Drop unnecessary columns\n",
    "merge_data = merge_data.drop(columns=['customer_number_op', 'customer_name_op', 'country_op', 'wtd_open'])"
   ]
  },
  {
   "cell_type": "code",
   "execution_count": 23,
   "metadata": {},
   "outputs": [
    {
     "data": {
      "text/html": [
       "<div>\n",
       "<style scoped>\n",
       "    .dataframe tbody tr th:only-of-type {\n",
       "        vertical-align: middle;\n",
       "    }\n",
       "\n",
       "    .dataframe tbody tr th {\n",
       "        vertical-align: top;\n",
       "    }\n",
       "\n",
       "    .dataframe thead th {\n",
       "        text-align: right;\n",
       "    }\n",
       "</style>\n",
       "<table border=\"1\" class=\"dataframe\">\n",
       "  <thead>\n",
       "    <tr style=\"text-align: right;\">\n",
       "      <th>value_tier</th>\n",
       "      <th>01. &gt;100k</th>\n",
       "      <th>02. &gt;50K</th>\n",
       "      <th>03. &gt;25K</th>\n",
       "      <th>04. &lt;25K</th>\n",
       "      <th>All</th>\n",
       "    </tr>\n",
       "    <tr>\n",
       "      <th>EPS_tier</th>\n",
       "      <th></th>\n",
       "      <th></th>\n",
       "      <th></th>\n",
       "      <th></th>\n",
       "      <th></th>\n",
       "    </tr>\n",
       "  </thead>\n",
       "  <tbody>\n",
       "    <tr>\n",
       "      <th>tier_1</th>\n",
       "      <td>2</td>\n",
       "      <td>1</td>\n",
       "      <td>0</td>\n",
       "      <td>3</td>\n",
       "      <td>6</td>\n",
       "    </tr>\n",
       "    <tr>\n",
       "      <th>tier_2</th>\n",
       "      <td>4</td>\n",
       "      <td>0</td>\n",
       "      <td>0</td>\n",
       "      <td>5</td>\n",
       "      <td>9</td>\n",
       "    </tr>\n",
       "    <tr>\n",
       "      <th>tier_3</th>\n",
       "      <td>2</td>\n",
       "      <td>6</td>\n",
       "      <td>4</td>\n",
       "      <td>11</td>\n",
       "      <td>23</td>\n",
       "    </tr>\n",
       "    <tr>\n",
       "      <th>tier_4</th>\n",
       "      <td>2</td>\n",
       "      <td>0</td>\n",
       "      <td>1</td>\n",
       "      <td>5</td>\n",
       "      <td>8</td>\n",
       "    </tr>\n",
       "    <tr>\n",
       "      <th>All</th>\n",
       "      <td>10</td>\n",
       "      <td>7</td>\n",
       "      <td>5</td>\n",
       "      <td>24</td>\n",
       "      <td>46</td>\n",
       "    </tr>\n",
       "  </tbody>\n",
       "</table>\n",
       "</div>"
      ],
      "text/plain": [
       "value_tier  01. >100k  02. >50K  03. >25K  04. <25K  All\n",
       "EPS_tier                                                \n",
       "tier_1              2         1         0         3    6\n",
       "tier_2              4         0         0         5    9\n",
       "tier_3              2         6         4        11   23\n",
       "tier_4              2         0         1         5    8\n",
       "All                10         7         5        24   46"
      ]
     },
     "execution_count": 23,
     "metadata": {},
     "output_type": "execute_result"
    }
   ],
   "source": [
    "# Block 2.a\n",
    "matrix = pd.pivot_table(merge_data, values='total', index='EPS_tier', columns='value_tier', aggfunc='count',margins=True)\n",
    "\n",
    "matrix = matrix.fillna(0)\n",
    "pd.options.display.float_format = '{:,.0f}'.format\n",
    "# matrix = matrix.style.background_gradient(cmap='coolwarm')\n",
    "\n",
    "matrix"
   ]
  },
  {
   "cell_type": "code",
   "execution_count": 24,
   "metadata": {},
   "outputs": [
    {
     "data": {
      "text/html": [
       "<div>\n",
       "<style scoped>\n",
       "    .dataframe tbody tr th:only-of-type {\n",
       "        vertical-align: middle;\n",
       "    }\n",
       "\n",
       "    .dataframe tbody tr th {\n",
       "        vertical-align: top;\n",
       "    }\n",
       "\n",
       "    .dataframe thead th {\n",
       "        text-align: right;\n",
       "    }\n",
       "</style>\n",
       "<table border=\"1\" class=\"dataframe\">\n",
       "  <thead>\n",
       "    <tr style=\"text-align: right;\">\n",
       "      <th>value_tier</th>\n",
       "      <th>01. &gt;100k</th>\n",
       "      <th>02. &gt;50K</th>\n",
       "      <th>03. &gt;25K</th>\n",
       "      <th>04. &lt;25K</th>\n",
       "      <th>All</th>\n",
       "    </tr>\n",
       "    <tr>\n",
       "      <th>EPS_tier</th>\n",
       "      <th></th>\n",
       "      <th></th>\n",
       "      <th></th>\n",
       "      <th></th>\n",
       "      <th></th>\n",
       "    </tr>\n",
       "  </thead>\n",
       "  <tbody>\n",
       "    <tr>\n",
       "      <th>tier_1</th>\n",
       "      <td>4.3%</td>\n",
       "      <td>2.2%</td>\n",
       "      <td>0.0%</td>\n",
       "      <td>6.5%</td>\n",
       "      <td>13.0%</td>\n",
       "    </tr>\n",
       "    <tr>\n",
       "      <th>tier_2</th>\n",
       "      <td>8.7%</td>\n",
       "      <td>0.0%</td>\n",
       "      <td>0.0%</td>\n",
       "      <td>10.9%</td>\n",
       "      <td>19.6%</td>\n",
       "    </tr>\n",
       "    <tr>\n",
       "      <th>tier_3</th>\n",
       "      <td>4.3%</td>\n",
       "      <td>13.0%</td>\n",
       "      <td>8.7%</td>\n",
       "      <td>23.9%</td>\n",
       "      <td>50.0%</td>\n",
       "    </tr>\n",
       "    <tr>\n",
       "      <th>tier_4</th>\n",
       "      <td>4.3%</td>\n",
       "      <td>0.0%</td>\n",
       "      <td>2.2%</td>\n",
       "      <td>10.9%</td>\n",
       "      <td>17.4%</td>\n",
       "    </tr>\n",
       "    <tr>\n",
       "      <th>All</th>\n",
       "      <td>21.7%</td>\n",
       "      <td>15.2%</td>\n",
       "      <td>10.9%</td>\n",
       "      <td>52.2%</td>\n",
       "      <td>100.0%</td>\n",
       "    </tr>\n",
       "  </tbody>\n",
       "</table>\n",
       "</div>"
      ],
      "text/plain": [
       "value_tier  01. >100k  02. >50K  03. >25K  04. <25K    All\n",
       "EPS_tier                                                  \n",
       "tier_1           4.3%      2.2%      0.0%      6.5%  13.0%\n",
       "tier_2           8.7%      0.0%      0.0%     10.9%  19.6%\n",
       "tier_3           4.3%     13.0%      8.7%     23.9%  50.0%\n",
       "tier_4           4.3%      0.0%      2.2%     10.9%  17.4%\n",
       "All             21.7%     15.2%     10.9%     52.2% 100.0%"
      ]
     },
     "execution_count": 24,
     "metadata": {},
     "output_type": "execute_result"
    }
   ],
   "source": [
    "# Block 2.a\n",
    "matrix_count = pd.pivot_table(merge_data, values='total', index='EPS_tier', columns='value_tier', aggfunc = lambda x: x.count() / merge_data['total'].count(),margins=True) \n",
    "\n",
    "matrix_count = matrix_count.fillna(0)\n",
    "\n",
    "cm = sns.light_palette(\"red\", as_cmap=True)\n",
    "pd.options.display.float_format = '{:,.1%}'.format\n",
    "# matrix_count.style.background_gradient(cmap='coolwarm')\n",
    "matrix_count\n"
   ]
  },
  {
   "cell_type": "code",
   "execution_count": 25,
   "metadata": {},
   "outputs": [],
   "source": [
    "merge_data.rename(columns={'customer_number_pm':'customer_number',\n",
    "                            'country_pm': 'country', 'customer_name_pm':'customer_name'},inplace=True)"
   ]
  },
  {
   "cell_type": "code",
   "execution_count": 26,
   "metadata": {},
   "outputs": [
    {
     "data": {
      "text/plain": [
       "Index(['id', 'customer_number', 'country', 'customer_name', 'discount_0.05',\n",
       "       'paid_in_10d', 'paid_11_30d', 'paid_31_60d', 'paid_61_90d', 'paid_90+d',\n",
       "       'total_payment', 'sum_weighted', 'payment_EPS', 'payment_EPS_tier',\n",
       "       'invoice_inc_vat', 'open_inc_vat', 'invoice_exc_vat', 'open_exc_vat',\n",
       "       'weighted_open_exc_vat', 'not_due', 'overdue_10d', 'overdue_11_30d',\n",
       "       'overdue_31_60d', 'overdue_61_90d', 'overdue_90+d', 'contract_days',\n",
       "       'open_EPS', 'total', 'base_amount', 'wtd_payment', 'EPS', 'EPS_tier',\n",
       "       'value_tier', 'total_due'],\n",
       "      dtype='object')"
      ]
     },
     "execution_count": 26,
     "metadata": {},
     "output_type": "execute_result"
    }
   ],
   "source": [
    "merge_data.columns"
   ]
  },
  {
   "cell_type": "code",
   "execution_count": 27,
   "metadata": {},
   "outputs": [
    {
     "data": {
      "text/html": [
       "<div>\n",
       "<style scoped>\n",
       "    .dataframe tbody tr th:only-of-type {\n",
       "        vertical-align: middle;\n",
       "    }\n",
       "\n",
       "    .dataframe tbody tr th {\n",
       "        vertical-align: top;\n",
       "    }\n",
       "\n",
       "    .dataframe thead th {\n",
       "        text-align: right;\n",
       "    }\n",
       "</style>\n",
       "<table border=\"1\" class=\"dataframe\">\n",
       "  <thead>\n",
       "    <tr style=\"text-align: right;\">\n",
       "      <th>value_tier</th>\n",
       "      <th>01. &gt;100k</th>\n",
       "      <th>02. &gt;50K</th>\n",
       "      <th>03. &gt;25K</th>\n",
       "      <th>04. &lt;25K</th>\n",
       "      <th>All</th>\n",
       "    </tr>\n",
       "    <tr>\n",
       "      <th>EPS_tier</th>\n",
       "      <th></th>\n",
       "      <th></th>\n",
       "      <th></th>\n",
       "      <th></th>\n",
       "      <th></th>\n",
       "    </tr>\n",
       "  </thead>\n",
       "  <tbody>\n",
       "    <tr>\n",
       "      <th>tier_1</th>\n",
       "      <td>335,988</td>\n",
       "      <td>84,558</td>\n",
       "      <td>0</td>\n",
       "      <td>7,688</td>\n",
       "      <td>428,234</td>\n",
       "    </tr>\n",
       "    <tr>\n",
       "      <th>tier_2</th>\n",
       "      <td>775,355</td>\n",
       "      <td>0</td>\n",
       "      <td>0</td>\n",
       "      <td>26,082</td>\n",
       "      <td>801,436</td>\n",
       "    </tr>\n",
       "    <tr>\n",
       "      <th>tier_3</th>\n",
       "      <td>253,118</td>\n",
       "      <td>14,874</td>\n",
       "      <td>53,565</td>\n",
       "      <td>23,750</td>\n",
       "      <td>345,306</td>\n",
       "    </tr>\n",
       "    <tr>\n",
       "      <th>tier_4</th>\n",
       "      <td>99,779</td>\n",
       "      <td>0</td>\n",
       "      <td>8,570</td>\n",
       "      <td>11,383</td>\n",
       "      <td>119,732</td>\n",
       "    </tr>\n",
       "    <tr>\n",
       "      <th>All</th>\n",
       "      <td>1,464,239</td>\n",
       "      <td>99,432</td>\n",
       "      <td>62,135</td>\n",
       "      <td>68,903</td>\n",
       "      <td>1,694,709</td>\n",
       "    </tr>\n",
       "  </tbody>\n",
       "</table>\n",
       "</div>"
      ],
      "text/plain": [
       "value_tier  01. >100k  02. >50K  03. >25K  04. <25K       All\n",
       "EPS_tier                                                     \n",
       "tier_1        335,988    84,558         0     7,688   428,234\n",
       "tier_2        775,355         0         0    26,082   801,436\n",
       "tier_3        253,118    14,874    53,565    23,750   345,306\n",
       "tier_4         99,779         0     8,570    11,383   119,732\n",
       "All         1,464,239    99,432    62,135    68,903 1,694,709"
      ]
     },
     "execution_count": 27,
     "metadata": {},
     "output_type": "execute_result"
    }
   ],
   "source": [
    "# Block 2.b - Paid Revenue\n",
    "matrix = pd.pivot_table(merge_data, values='total_payment', index='EPS_tier', columns='value_tier', aggfunc='sum',margins=True)\n",
    "\n",
    "matrix = matrix.fillna(0)\n",
    "pd.options.display.float_format = '{:,.0f}'.format\n",
    "# matrix = matrix.style.background_gradient(cmap='coolwarm')\n",
    "\n",
    "matrix"
   ]
  },
  {
   "cell_type": "code",
   "execution_count": 28,
   "metadata": {},
   "outputs": [
    {
     "data": {
      "text/html": [
       "<div>\n",
       "<style scoped>\n",
       "    .dataframe tbody tr th:only-of-type {\n",
       "        vertical-align: middle;\n",
       "    }\n",
       "\n",
       "    .dataframe tbody tr th {\n",
       "        vertical-align: top;\n",
       "    }\n",
       "\n",
       "    .dataframe thead th {\n",
       "        text-align: right;\n",
       "    }\n",
       "</style>\n",
       "<table border=\"1\" class=\"dataframe\">\n",
       "  <thead>\n",
       "    <tr style=\"text-align: right;\">\n",
       "      <th>value_tier</th>\n",
       "      <th>01. &gt;100k</th>\n",
       "      <th>02. &gt;50K</th>\n",
       "      <th>03. &gt;25K</th>\n",
       "      <th>04. &lt;25K</th>\n",
       "      <th>All</th>\n",
       "    </tr>\n",
       "    <tr>\n",
       "      <th>EPS_tier</th>\n",
       "      <th></th>\n",
       "      <th></th>\n",
       "      <th></th>\n",
       "      <th></th>\n",
       "      <th></th>\n",
       "    </tr>\n",
       "  </thead>\n",
       "  <tbody>\n",
       "    <tr>\n",
       "      <th>tier_1</th>\n",
       "      <td>987</td>\n",
       "      <td>1,998</td>\n",
       "      <td>0</td>\n",
       "      <td>1,729</td>\n",
       "      <td>4,714</td>\n",
       "    </tr>\n",
       "    <tr>\n",
       "      <th>tier_2</th>\n",
       "      <td>221,573</td>\n",
       "      <td>0</td>\n",
       "      <td>0</td>\n",
       "      <td>5,334</td>\n",
       "      <td>226,907</td>\n",
       "    </tr>\n",
       "    <tr>\n",
       "      <th>tier_3</th>\n",
       "      <td>240,516</td>\n",
       "      <td>342,884</td>\n",
       "      <td>100,160</td>\n",
       "      <td>122,087</td>\n",
       "      <td>805,647</td>\n",
       "    </tr>\n",
       "    <tr>\n",
       "      <th>tier_4</th>\n",
       "      <td>718,921</td>\n",
       "      <td>0</td>\n",
       "      <td>23,800</td>\n",
       "      <td>53,727</td>\n",
       "      <td>796,448</td>\n",
       "    </tr>\n",
       "    <tr>\n",
       "      <th>All</th>\n",
       "      <td>1,181,998</td>\n",
       "      <td>344,882</td>\n",
       "      <td>123,960</td>\n",
       "      <td>182,877</td>\n",
       "      <td>1,833,716</td>\n",
       "    </tr>\n",
       "  </tbody>\n",
       "</table>\n",
       "</div>"
      ],
      "text/plain": [
       "value_tier  01. >100k  02. >50K  03. >25K  04. <25K       All\n",
       "EPS_tier                                                     \n",
       "tier_1            987     1,998         0     1,729     4,714\n",
       "tier_2        221,573         0         0     5,334   226,907\n",
       "tier_3        240,516   342,884   100,160   122,087   805,647\n",
       "tier_4        718,921         0    23,800    53,727   796,448\n",
       "All         1,181,998   344,882   123,960   182,877 1,833,716"
      ]
     },
     "execution_count": 28,
     "metadata": {},
     "output_type": "execute_result"
    }
   ],
   "source": [
    "# Block 2.b - Open Revenue\n",
    "matrix = pd.pivot_table(merge_data, values='open_exc_vat', index='EPS_tier', columns='value_tier', aggfunc='sum',margins=True)\n",
    "\n",
    "matrix = matrix.fillna(0)\n",
    "pd.options.display.float_format = '{:,.0f}'.format\n",
    "# matrix = matrix.style.background_gradient(cmap='coolwarm')\n",
    "\n",
    "matrix"
   ]
  },
  {
   "cell_type": "code",
   "execution_count": 29,
   "metadata": {},
   "outputs": [
    {
     "data": {
      "text/html": [
       "<div>\n",
       "<style scoped>\n",
       "    .dataframe tbody tr th:only-of-type {\n",
       "        vertical-align: middle;\n",
       "    }\n",
       "\n",
       "    .dataframe tbody tr th {\n",
       "        vertical-align: top;\n",
       "    }\n",
       "\n",
       "    .dataframe thead th {\n",
       "        text-align: right;\n",
       "    }\n",
       "</style>\n",
       "<table border=\"1\" class=\"dataframe\">\n",
       "  <thead>\n",
       "    <tr style=\"text-align: right;\">\n",
       "      <th>value_tier</th>\n",
       "      <th>01. &gt;100k</th>\n",
       "      <th>02. &gt;50K</th>\n",
       "      <th>03. &gt;25K</th>\n",
       "      <th>04. &lt;25K</th>\n",
       "      <th>All</th>\n",
       "    </tr>\n",
       "    <tr>\n",
       "      <th>EPS_tier</th>\n",
       "      <th></th>\n",
       "      <th></th>\n",
       "      <th></th>\n",
       "      <th></th>\n",
       "      <th></th>\n",
       "    </tr>\n",
       "  </thead>\n",
       "  <tbody>\n",
       "    <tr>\n",
       "      <th>tier_1</th>\n",
       "      <td>1,047</td>\n",
       "      <td>255</td>\n",
       "      <td>0</td>\n",
       "      <td>39</td>\n",
       "      <td>1,340</td>\n",
       "    </tr>\n",
       "    <tr>\n",
       "      <th>tier_2</th>\n",
       "      <td>1,863</td>\n",
       "      <td>0</td>\n",
       "      <td>0</td>\n",
       "      <td>0</td>\n",
       "      <td>1,863</td>\n",
       "    </tr>\n",
       "    <tr>\n",
       "      <th>tier_3</th>\n",
       "      <td>285</td>\n",
       "      <td>75</td>\n",
       "      <td>39</td>\n",
       "      <td>0</td>\n",
       "      <td>399</td>\n",
       "    </tr>\n",
       "    <tr>\n",
       "      <th>tier_4</th>\n",
       "      <td>0</td>\n",
       "      <td>0</td>\n",
       "      <td>43</td>\n",
       "      <td>0</td>\n",
       "      <td>43</td>\n",
       "    </tr>\n",
       "    <tr>\n",
       "      <th>All</th>\n",
       "      <td>3,195</td>\n",
       "      <td>330</td>\n",
       "      <td>82</td>\n",
       "      <td>39</td>\n",
       "      <td>3,646</td>\n",
       "    </tr>\n",
       "  </tbody>\n",
       "</table>\n",
       "</div>"
      ],
      "text/plain": [
       "value_tier  01. >100k  02. >50K  03. >25K  04. <25K   All\n",
       "EPS_tier                                                 \n",
       "tier_1          1,047       255         0        39 1,340\n",
       "tier_2          1,863         0         0         0 1,863\n",
       "tier_3            285        75        39         0   399\n",
       "tier_4              0         0        43         0    43\n",
       "All             3,195       330        82        39 3,646"
      ]
     },
     "execution_count": 29,
     "metadata": {},
     "output_type": "execute_result"
    }
   ],
   "source": [
    "# Block 2.b - Total discount\n",
    "matrix = pd.pivot_table(merge_data, values='discount_0.05', index='EPS_tier', columns='value_tier', aggfunc='sum',margins=True)\n",
    "\n",
    "matrix = matrix.fillna(0)\n",
    "pd.options.display.float_format = '{:,.0f}'.format\n",
    "# matrix = matrix.style.background_gradient(cmap='coolwarm')\n",
    "\n",
    "matrix"
   ]
  },
  {
   "cell_type": "code",
   "execution_count": 30,
   "metadata": {},
   "outputs": [
    {
     "data": {
      "text/html": [
       "<div>\n",
       "<style scoped>\n",
       "    .dataframe tbody tr th:only-of-type {\n",
       "        vertical-align: middle;\n",
       "    }\n",
       "\n",
       "    .dataframe tbody tr th {\n",
       "        vertical-align: top;\n",
       "    }\n",
       "\n",
       "    .dataframe thead th {\n",
       "        text-align: right;\n",
       "    }\n",
       "</style>\n",
       "<table border=\"1\" class=\"dataframe\">\n",
       "  <thead>\n",
       "    <tr style=\"text-align: right;\">\n",
       "      <th>value_tier</th>\n",
       "      <th>01. &gt;100k</th>\n",
       "      <th>02. &gt;50K</th>\n",
       "      <th>03. &gt;25K</th>\n",
       "      <th>04. &lt;25K</th>\n",
       "      <th>All</th>\n",
       "    </tr>\n",
       "    <tr>\n",
       "      <th>EPS_tier</th>\n",
       "      <th></th>\n",
       "      <th></th>\n",
       "      <th></th>\n",
       "      <th></th>\n",
       "      <th></th>\n",
       "    </tr>\n",
       "  </thead>\n",
       "  <tbody>\n",
       "    <tr>\n",
       "      <th>tier_1</th>\n",
       "      <td>7</td>\n",
       "      <td>30</td>\n",
       "      <td>0</td>\n",
       "      <td>45</td>\n",
       "      <td>30</td>\n",
       "    </tr>\n",
       "    <tr>\n",
       "      <th>tier_2</th>\n",
       "      <td>81</td>\n",
       "      <td>0</td>\n",
       "      <td>0</td>\n",
       "      <td>12</td>\n",
       "      <td>43</td>\n",
       "    </tr>\n",
       "    <tr>\n",
       "      <th>tier_3</th>\n",
       "      <td>300</td>\n",
       "      <td>230</td>\n",
       "      <td>138</td>\n",
       "      <td>115</td>\n",
       "      <td>165</td>\n",
       "    </tr>\n",
       "    <tr>\n",
       "      <th>tier_4</th>\n",
       "      <td>330</td>\n",
       "      <td>0</td>\n",
       "      <td>0</td>\n",
       "      <td>54</td>\n",
       "      <td>116</td>\n",
       "    </tr>\n",
       "    <tr>\n",
       "      <th>All</th>\n",
       "      <td>160</td>\n",
       "      <td>201</td>\n",
       "      <td>110</td>\n",
       "      <td>72</td>\n",
       "      <td>115</td>\n",
       "    </tr>\n",
       "  </tbody>\n",
       "</table>\n",
       "</div>"
      ],
      "text/plain": [
       "value_tier  01. >100k  02. >50K  03. >25K  04. <25K  All\n",
       "EPS_tier                                                \n",
       "tier_1              7        30         0        45   30\n",
       "tier_2             81         0         0        12   43\n",
       "tier_3            300       230       138       115  165\n",
       "tier_4            330         0         0        54  116\n",
       "All               160       201       110        72  115"
      ]
     },
     "execution_count": 30,
     "metadata": {},
     "output_type": "execute_result"
    }
   ],
   "source": [
    "# Block 2.c​ - Avg. Contract Days​\n",
    "matrix = pd.pivot_table(merge_data, values='contract_days', index='EPS_tier', columns='value_tier', aggfunc='mean',margins=True)\n",
    "\n",
    "matrix = matrix.fillna(0)\n",
    "pd.options.display.float_format = '{:,.0f}'.format\n",
    "# matrix = matrix.style.background_gradient(cmap='coolwarm')\n",
    "\n",
    "matrix"
   ]
  },
  {
   "cell_type": "code",
   "execution_count": 31,
   "metadata": {},
   "outputs": [
    {
     "data": {
      "text/html": [
       "<div>\n",
       "<style scoped>\n",
       "    .dataframe tbody tr th:only-of-type {\n",
       "        vertical-align: middle;\n",
       "    }\n",
       "\n",
       "    .dataframe tbody tr th {\n",
       "        vertical-align: top;\n",
       "    }\n",
       "\n",
       "    .dataframe thead th {\n",
       "        text-align: right;\n",
       "    }\n",
       "</style>\n",
       "<table border=\"1\" class=\"dataframe\">\n",
       "  <thead>\n",
       "    <tr style=\"text-align: right;\">\n",
       "      <th>value_tier</th>\n",
       "      <th>01. &gt;100k</th>\n",
       "      <th>02. &gt;50K</th>\n",
       "      <th>03. &gt;25K</th>\n",
       "      <th>04. &lt;25K</th>\n",
       "      <th>All</th>\n",
       "    </tr>\n",
       "    <tr>\n",
       "      <th>EPS_tier</th>\n",
       "      <th></th>\n",
       "      <th></th>\n",
       "      <th></th>\n",
       "      <th></th>\n",
       "      <th></th>\n",
       "    </tr>\n",
       "  </thead>\n",
       "  <tbody>\n",
       "    <tr>\n",
       "      <th>tier_1</th>\n",
       "      <td>14</td>\n",
       "      <td>30</td>\n",
       "      <td>0</td>\n",
       "      <td>60</td>\n",
       "      <td>60</td>\n",
       "    </tr>\n",
       "    <tr>\n",
       "      <th>tier_2</th>\n",
       "      <td>175</td>\n",
       "      <td>0</td>\n",
       "      <td>0</td>\n",
       "      <td>60</td>\n",
       "      <td>175</td>\n",
       "    </tr>\n",
       "    <tr>\n",
       "      <th>tier_3</th>\n",
       "      <td>420</td>\n",
       "      <td>360</td>\n",
       "      <td>300</td>\n",
       "      <td>190</td>\n",
       "      <td>420</td>\n",
       "    </tr>\n",
       "    <tr>\n",
       "      <th>tier_4</th>\n",
       "      <td>360</td>\n",
       "      <td>0</td>\n",
       "      <td>0</td>\n",
       "      <td>60</td>\n",
       "      <td>360</td>\n",
       "    </tr>\n",
       "    <tr>\n",
       "      <th>All</th>\n",
       "      <td>420</td>\n",
       "      <td>360</td>\n",
       "      <td>300</td>\n",
       "      <td>190</td>\n",
       "      <td>420</td>\n",
       "    </tr>\n",
       "  </tbody>\n",
       "</table>\n",
       "</div>"
      ],
      "text/plain": [
       "value_tier  01. >100k  02. >50K  03. >25K  04. <25K  All\n",
       "EPS_tier                                                \n",
       "tier_1             14        30         0        60   60\n",
       "tier_2            175         0         0        60  175\n",
       "tier_3            420       360       300       190  420\n",
       "tier_4            360         0         0        60  360\n",
       "All               420       360       300       190  420"
      ]
     },
     "execution_count": 31,
     "metadata": {},
     "output_type": "execute_result"
    }
   ],
   "source": [
    "# Block 2.c​ - Max Contract Days​\n",
    "matrix = pd.pivot_table(merge_data, values='contract_days', index='EPS_tier', columns='value_tier', aggfunc='max',margins=True)\n",
    "\n",
    "matrix = matrix.fillna(0)\n",
    "pd.options.display.float_format = '{:,.0f}'.format\n",
    "# matrix = matrix.style.background_gradient(cmap='coolwarm')\n",
    "\n",
    "matrix"
   ]
  },
  {
   "cell_type": "code",
   "execution_count": 32,
   "metadata": {},
   "outputs": [
    {
     "data": {
      "text/html": [
       "<div>\n",
       "<style scoped>\n",
       "    .dataframe tbody tr th:only-of-type {\n",
       "        vertical-align: middle;\n",
       "    }\n",
       "\n",
       "    .dataframe tbody tr th {\n",
       "        vertical-align: top;\n",
       "    }\n",
       "\n",
       "    .dataframe thead th {\n",
       "        text-align: right;\n",
       "    }\n",
       "</style>\n",
       "<table border=\"1\" class=\"dataframe\">\n",
       "  <thead>\n",
       "    <tr style=\"text-align: right;\">\n",
       "      <th>value_tier</th>\n",
       "      <th>01. &gt;100k</th>\n",
       "      <th>02. &gt;50K</th>\n",
       "      <th>03. &gt;25K</th>\n",
       "      <th>04. &lt;25K</th>\n",
       "      <th>All</th>\n",
       "    </tr>\n",
       "    <tr>\n",
       "      <th>EPS_tier</th>\n",
       "      <th></th>\n",
       "      <th></th>\n",
       "      <th></th>\n",
       "      <th></th>\n",
       "      <th></th>\n",
       "    </tr>\n",
       "  </thead>\n",
       "  <tbody>\n",
       "    <tr>\n",
       "      <th>tier_1</th>\n",
       "      <td>0</td>\n",
       "      <td>30</td>\n",
       "      <td>0</td>\n",
       "      <td>30</td>\n",
       "      <td>0</td>\n",
       "    </tr>\n",
       "    <tr>\n",
       "      <th>tier_2</th>\n",
       "      <td>30</td>\n",
       "      <td>0</td>\n",
       "      <td>0</td>\n",
       "      <td>0</td>\n",
       "      <td>0</td>\n",
       "    </tr>\n",
       "    <tr>\n",
       "      <th>tier_3</th>\n",
       "      <td>180</td>\n",
       "      <td>120</td>\n",
       "      <td>60</td>\n",
       "      <td>60</td>\n",
       "      <td>60</td>\n",
       "    </tr>\n",
       "    <tr>\n",
       "      <th>tier_4</th>\n",
       "      <td>300</td>\n",
       "      <td>0</td>\n",
       "      <td>0</td>\n",
       "      <td>30</td>\n",
       "      <td>0</td>\n",
       "    </tr>\n",
       "    <tr>\n",
       "      <th>All</th>\n",
       "      <td>0</td>\n",
       "      <td>30</td>\n",
       "      <td>0</td>\n",
       "      <td>0</td>\n",
       "      <td>0</td>\n",
       "    </tr>\n",
       "  </tbody>\n",
       "</table>\n",
       "</div>"
      ],
      "text/plain": [
       "value_tier  01. >100k  02. >50K  03. >25K  04. <25K  All\n",
       "EPS_tier                                                \n",
       "tier_1              0        30         0        30    0\n",
       "tier_2             30         0         0         0    0\n",
       "tier_3            180       120        60        60   60\n",
       "tier_4            300         0         0        30    0\n",
       "All                 0        30         0         0    0"
      ]
     },
     "execution_count": 32,
     "metadata": {},
     "output_type": "execute_result"
    }
   ],
   "source": [
    "# block 2.c​ - Min Contract Days​\n",
    "matrix = pd.pivot_table(merge_data, values='contract_days', index='EPS_tier', columns='value_tier', aggfunc='min',margins=True)\n",
    "\n",
    "matrix = matrix.fillna(0)\n",
    "pd.options.display.float_format = '{:,.0f}'.format\n",
    "# matrix = matrix.style.background_gradient(cmap='coolwarm')\n",
    "\n",
    "matrix"
   ]
  },
  {
   "cell_type": "code",
   "execution_count": 33,
   "metadata": {},
   "outputs": [
    {
     "data": {
      "text/plain": [
       "Index(['id', 'customer_number', 'country', 'customer_name', 'discount_0.05',\n",
       "       'paid_in_10d', 'paid_11_30d', 'paid_31_60d', 'paid_61_90d', 'paid_90+d',\n",
       "       'total_payment', 'sum_weighted', 'payment_EPS', 'payment_EPS_tier',\n",
       "       'invoice_inc_vat', 'open_inc_vat', 'invoice_exc_vat', 'open_exc_vat',\n",
       "       'weighted_open_exc_vat', 'not_due', 'overdue_10d', 'overdue_11_30d',\n",
       "       'overdue_31_60d', 'overdue_61_90d', 'overdue_90+d', 'contract_days',\n",
       "       'open_EPS', 'total', 'base_amount', 'wtd_payment', 'EPS', 'EPS_tier',\n",
       "       'value_tier', 'total_due'],\n",
       "      dtype='object')"
      ]
     },
     "execution_count": 33,
     "metadata": {},
     "output_type": "execute_result"
    }
   ],
   "source": [
    "merge_data.columns"
   ]
  },
  {
   "cell_type": "code",
   "execution_count": 34,
   "metadata": {},
   "outputs": [
    {
     "data": {
      "text/html": [
       "<div>\n",
       "<style scoped>\n",
       "    .dataframe tbody tr th:only-of-type {\n",
       "        vertical-align: middle;\n",
       "    }\n",
       "\n",
       "    .dataframe tbody tr th {\n",
       "        vertical-align: top;\n",
       "    }\n",
       "\n",
       "    .dataframe thead th {\n",
       "        text-align: right;\n",
       "    }\n",
       "</style>\n",
       "<table border=\"1\" class=\"dataframe\">\n",
       "  <thead>\n",
       "    <tr style=\"text-align: right;\">\n",
       "      <th></th>\n",
       "      <th>country</th>\n",
       "      <th>customer_name</th>\n",
       "      <th>total_due_amount</th>\n",
       "    </tr>\n",
       "  </thead>\n",
       "  <tbody>\n",
       "    <tr>\n",
       "      <th>14</th>\n",
       "      <td>DE</td>\n",
       "      <td>EE Deutschland GmbH</td>\n",
       "      <td>323,607</td>\n",
       "    </tr>\n",
       "    <tr>\n",
       "      <th>29</th>\n",
       "      <td>DE</td>\n",
       "      <td>ZA SE</td>\n",
       "      <td>242,515</td>\n",
       "    </tr>\n",
       "    <tr>\n",
       "      <th>30</th>\n",
       "      <td>FR</td>\n",
       "      <td>AB Ltd.</td>\n",
       "      <td>82,735</td>\n",
       "    </tr>\n",
       "    <tr>\n",
       "      <th>12</th>\n",
       "      <td>DE</td>\n",
       "      <td>E  SE</td>\n",
       "      <td>69,499</td>\n",
       "    </tr>\n",
       "    <tr>\n",
       "      <th>39</th>\n",
       "      <td>SZ</td>\n",
       "      <td>PC Ltd.</td>\n",
       "      <td>63,899</td>\n",
       "    </tr>\n",
       "  </tbody>\n",
       "</table>\n",
       "</div>"
      ],
      "text/plain": [
       "   country        customer_name  total_due_amount\n",
       "14      DE  EE Deutschland GmbH           323,607\n",
       "29      DE                ZA SE           242,515\n",
       "30      FR              AB Ltd.            82,735\n",
       "12      DE                E  SE            69,499\n",
       "39      SZ              PC Ltd.            63,899"
      ]
     },
     "execution_count": 34,
     "metadata": {},
     "output_type": "execute_result"
    }
   ],
   "source": [
    "# 5 Biggest overdue customer\n",
    "top_due = merge_data.groupby(['country','customer_name'])['total_due'].sum().reset_index(name='total_due_amount')\n",
    "top_due.sort_values(by='total_due_amount', ascending=False)[:5]"
   ]
  },
  {
   "cell_type": "code",
   "execution_count": 35,
   "metadata": {},
   "outputs": [
    {
     "data": {
      "text/html": [
       "<div>\n",
       "<style scoped>\n",
       "    .dataframe tbody tr th:only-of-type {\n",
       "        vertical-align: middle;\n",
       "    }\n",
       "\n",
       "    .dataframe tbody tr th {\n",
       "        vertical-align: top;\n",
       "    }\n",
       "\n",
       "    .dataframe thead th {\n",
       "        text-align: right;\n",
       "    }\n",
       "</style>\n",
       "<table border=\"1\" class=\"dataframe\">\n",
       "  <thead>\n",
       "    <tr style=\"text-align: right;\">\n",
       "      <th></th>\n",
       "      <th>over_due_bracket</th>\n",
       "      <th>number_of_customer</th>\n",
       "    </tr>\n",
       "  </thead>\n",
       "  <tbody>\n",
       "    <tr>\n",
       "      <th>1</th>\n",
       "      <td>overdue_10d</td>\n",
       "      <td>17</td>\n",
       "    </tr>\n",
       "    <tr>\n",
       "      <th>2</th>\n",
       "      <td>overdue_11_30d</td>\n",
       "      <td>2</td>\n",
       "    </tr>\n",
       "    <tr>\n",
       "      <th>3</th>\n",
       "      <td>overdue_31_60d</td>\n",
       "      <td>1</td>\n",
       "    </tr>\n",
       "    <tr>\n",
       "      <th>4</th>\n",
       "      <td>overdue_61_90d</td>\n",
       "      <td>2</td>\n",
       "    </tr>\n",
       "    <tr>\n",
       "      <th>5</th>\n",
       "      <td>overdue_90+d</td>\n",
       "      <td>3</td>\n",
       "    </tr>\n",
       "  </tbody>\n",
       "</table>\n",
       "</div>"
      ],
      "text/plain": [
       "  over_due_bracket  number_of_customer\n",
       "1      overdue_10d                  17\n",
       "2   overdue_11_30d                   2\n",
       "3   overdue_31_60d                   1\n",
       "4   overdue_61_90d                   2\n",
       "5     overdue_90+d                   3"
      ]
     },
     "execution_count": 35,
     "metadata": {},
     "output_type": "execute_result"
    }
   ],
   "source": [
    "merge_data_copy = merge_data.copy()\n",
    "\n",
    "# create a list of our conditions\n",
    "bracket_open_conditions = [\n",
    "    (merge_data_copy['overdue_10d'] > 0),\n",
    "    (merge_data_copy['overdue_11_30d'] > 0),\n",
    "    (merge_data_copy['overdue_31_60d'] > 0),\n",
    "    (merge_data_copy['overdue_61_90d'] > 0),\n",
    "    (merge_data_copy['overdue_90+d'] > 0),\n",
    "    ]\n",
    "\n",
    "# create a list of the values we want to assign for each condition\n",
    "bracket_values = ['overdue_10d','overdue_11_30d','overdue_31_60d','overdue_61_90d','overdue_90+d']\n",
    "\n",
    "merge_data_copy['over_due_bracket'] = np.select(bracket_open_conditions, bracket_values)\n",
    "# open_list['weighted_open_exc_vat'] = open_list['open_exc_vat']*open_list['score_apply']\n",
    "\n",
    "overdue_by_bracket = merge_data_copy.groupby(merge_data_copy['over_due_bracket'])['customer_name'].size().reset_index(name='number_of_customer')[1:]\n",
    "overdue_by_bracket"
   ]
  },
  {
   "cell_type": "code",
   "execution_count": 36,
   "metadata": {},
   "outputs": [
    {
     "data": {
      "image/png": "[encoded data removed]",
      "text/plain": [
       "<Figure size 576x360 with 1 Axes>"
      ]
     },
     "metadata": {
      "needs_background": "light"
     },
     "output_type": "display_data"
    }
   ],
   "source": [
    "plt.figure(figsize=(8,5))\n",
    "plt.bar(overdue_by_bracket['over_due_bracket'],overdue_by_bracket['number_of_customer'],color='cornflowerblue')\n",
    "plt.xticks(rotation=45)\n",
    "plt.ylim(0,20)\n",
    "\n",
    "# Plot the figure.\n",
    "plt.title('Number of customer by overdue brackets')\n",
    "plt.xlabel('Overdue bracket')\n",
    "plt.ylabel('Number of customers')\n",
    "\n",
    "for x,y in zip(overdue_by_bracket['over_due_bracket'],overdue_by_bracket['number_of_customer']):\n",
    "\n",
    "    label = \"{:.0f}\".format(y)\n",
    "\n",
    "    plt.annotate(label, # this is the text\n",
    "                 (x,y), # these are the coordinates to position the label\n",
    "                 textcoords=\"offset points\", # how to position the text\n",
    "                 xytext=(0,5), # distance from text to points (x,y)\n",
    "                 ha='center') # horizontal alignment can be left, right or center\n",
    "\n",
    "plt.show()"
   ]
  },
  {
   "cell_type": "code",
   "execution_count": 37,
   "metadata": {},
   "outputs": [
    {
     "data": {
      "text/plain": [
       "Index(['id', 'customer_number', 'country', 'customer_name', 'discount_0.05',\n",
       "       'paid_in_10d', 'paid_11_30d', 'paid_31_60d', 'paid_61_90d', 'paid_90+d',\n",
       "       'total_payment', 'sum_weighted', 'payment_EPS', 'payment_EPS_tier',\n",
       "       'invoice_inc_vat', 'open_inc_vat', 'invoice_exc_vat', 'open_exc_vat',\n",
       "       'weighted_open_exc_vat', 'not_due', 'overdue_10d', 'overdue_11_30d',\n",
       "       'overdue_31_60d', 'overdue_61_90d', 'overdue_90+d', 'contract_days',\n",
       "       'open_EPS', 'total', 'base_amount', 'wtd_payment', 'EPS', 'EPS_tier',\n",
       "       'value_tier', 'total_due', 'over_due_bracket'],\n",
       "      dtype='object')"
      ]
     },
     "execution_count": 37,
     "metadata": {},
     "output_type": "execute_result"
    }
   ],
   "source": [
    "merge_data_copy.columns"
   ]
  },
  {
   "cell_type": "code",
   "execution_count": 38,
   "metadata": {},
   "outputs": [
    {
     "data": {
      "text/html": [
       "<div>\n",
       "<style scoped>\n",
       "    .dataframe tbody tr th:only-of-type {\n",
       "        vertical-align: middle;\n",
       "    }\n",
       "\n",
       "    .dataframe tbody tr th {\n",
       "        vertical-align: top;\n",
       "    }\n",
       "\n",
       "    .dataframe thead th {\n",
       "        text-align: right;\n",
       "    }\n",
       "</style>\n",
       "<table border=\"1\" class=\"dataframe\">\n",
       "  <thead>\n",
       "    <tr style=\"text-align: right;\">\n",
       "      <th></th>\n",
       "      <th>over_due_bracket</th>\n",
       "      <th>due_amount</th>\n",
       "    </tr>\n",
       "  </thead>\n",
       "  <tbody>\n",
       "    <tr>\n",
       "      <th>1</th>\n",
       "      <td>overdue_10d</td>\n",
       "      <td>608,237</td>\n",
       "    </tr>\n",
       "    <tr>\n",
       "      <th>2</th>\n",
       "      <td>overdue_11_30d</td>\n",
       "      <td>83,722</td>\n",
       "    </tr>\n",
       "    <tr>\n",
       "      <th>3</th>\n",
       "      <td>overdue_31_60d</td>\n",
       "      <td>242,515</td>\n",
       "    </tr>\n",
       "    <tr>\n",
       "      <th>4</th>\n",
       "      <td>overdue_61_90d</td>\n",
       "      <td>23,268</td>\n",
       "    </tr>\n",
       "    <tr>\n",
       "      <th>5</th>\n",
       "      <td>overdue_90+d</td>\n",
       "      <td>51,259</td>\n",
       "    </tr>\n",
       "  </tbody>\n",
       "</table>\n",
       "</div>"
      ],
      "text/plain": [
       "  over_due_bracket  due_amount\n",
       "1      overdue_10d     608,237\n",
       "2   overdue_11_30d      83,722\n",
       "3   overdue_31_60d     242,515\n",
       "4   overdue_61_90d      23,268\n",
       "5     overdue_90+d      51,259"
      ]
     },
     "execution_count": 38,
     "metadata": {},
     "output_type": "execute_result"
    }
   ],
   "source": [
    "# overdue by value\n",
    "overdue_value = merge_data_copy.groupby('over_due_bracket')['total_due'].sum().reset_index(name='due_amount')[1:]\n",
    "overdue_value\n"
   ]
  },
  {
   "cell_type": "code",
   "execution_count": 39,
   "metadata": {},
   "outputs": [
    {
     "data": {
      "image/png": "[encoded data removed]",
      "text/plain": [
       "<Figure size 576x360 with 1 Axes>"
      ]
     },
     "metadata": {
      "needs_background": "light"
     },
     "output_type": "display_data"
    }
   ],
   "source": [
    "plt.figure(figsize=(8, 5))\n",
    "plt.bar(overdue_value['over_due_bracket'],overdue_value['due_amount'],color='cornflowerblue')\n",
    "plt.xticks(rotation=45)\n",
    "plt.ylim(0,650000)\n",
    "\n",
    "# Plot the figure.\n",
    "plt.title('Total due amount by overdue brackets')\n",
    "plt.xlabel('Overdue bracket')\n",
    "plt.ylabel('Due amount')\n",
    "\n",
    "for x,y in zip(overdue_value['over_due_bracket'],overdue_value['due_amount']):\n",
    "\n",
    "    label = \"{:,.0f}\".format(y)\n",
    "\n",
    "    plt.annotate(label, # this is the text\n",
    "                 (x,y), # these are the coordinates to position the label\n",
    "                 textcoords=\"offset points\", # how to position the text\n",
    "                 xytext=(0,5), # distance from text to points (x,y)\n",
    "                 ha='center') # horizontal alignment can be left, right or center\n",
    "\n",
    "plt.show()"
   ]
  }
 ],
 "metadata": {
  "interpreter": {
   "hash": "3d597f4c481aa0f25dceb95d2a0067e73c0966dcbd003d741d821a7208527ecf"
  },
  "kernelspec": {
   "display_name": "Python 3.9.5 64-bit ('base': conda)",
   "language": "python",
   "name": "python3"
  },
  "language_info": {
   "codemirror_mode": {
    "name": "ipython",
    "version": 3
   },
   "file_extension": ".py",
   "mimetype": "text/x-python",
   "name": "python",
   "nbconvert_exporter": "python",
   "pygments_lexer": "ipython3",
   "version": "3.9.7"
  },
  "orig_nbformat": 4
 },
 "nbformat": 4,
 "nbformat_minor": 2
}

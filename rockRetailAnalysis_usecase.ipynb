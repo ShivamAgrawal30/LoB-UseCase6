{
 "cells": [
  {
   "cell_type": "code",
   "execution_count": 1,
   "metadata": {},
   "outputs": [],
   "source": [
    "import datetime\n",
    "import calendar\n",
    "import warnings\n",
    "\n",
    "import numpy as np\n",
    "import pandas as pd\n",
    "\n",
    "import matplotlib.cm as cm\n",
    "import matplotlib.pyplot as plt\n",
    "from matplotlib.colors import ListedColormap, LinearSegmentedColormap\n",
    "\n",
    "pd.set_option('display.max_rows', 15)\n",
    "pd.options.display.float_format = \"{:,.2f}\".format\n",
    "\n",
    "import seaborn as sns\n",
    "cm = sns.light_palette(\"red\", as_cmap=True)\n",
    "import datetime\n",
    "import plotly.graph_objects as go"
   ]
  },
  {
   "cell_type": "code",
   "execution_count": 2,
   "metadata": {},
   "outputs": [],
   "source": [
    "open_list = pd.read_csv('data/open_item_list.csv')\n",
    "payment_list = pd.read_csv('data/payment_list_of_customers.csv')"
   ]
  },
  {
   "cell_type": "markdown",
   "metadata": {},
   "source": [
    "## Open List"
   ]
  },
  {
   "cell_type": "code",
   "execution_count": 3,
   "metadata": {},
   "outputs": [],
   "source": [
    "# Format open_list, edit columns name\n",
    "open_list = open_list.rename(columns={'Cutomer number': 'customer_number',\n",
    "                                     'Customer name': 'customer_name',\n",
    "                                     'Country':'country',\n",
    "                                      'Invoice number':'invoice_number',\n",
    "                                      'Invoice date':'invoice_date',\n",
    "                                      'Invoice amount \\n(incl. VAT if applicable)':'invoice_inc_vat',\n",
    "                                      'Open amount\\n(incl. VAT if applicable)':'open_inc_vat',\n",
    "                                      'Due date': 'due_date',\n",
    "                                      'Days overdue \\nby 2021-10-31':'days_overdue_by_oct31',\n",
    "                                     }).reset_index()\n",
    "\n",
    "# open_list = open_list.reset_index()"
   ]
  },
  {
   "cell_type": "code",
   "execution_count": 4,
   "metadata": {},
   "outputs": [],
   "source": [
    "# Create id column in open_list\n",
    "open_list['id'] = open_list['customer_number'] + '-' + open_list['customer_name'] + open_list['country']\n",
    "open_list = open_list.drop(open_list.index[0])\n",
    "open_list = open_list.fillna(0)\n",
    "\n",
    "# Create additional columns\n",
    "open_list['invoice_exc_vat'] = np.where(open_list[\"country\"] == 'DE', open_list[\"invoice_inc_vat\"]/1.19, open_list[\"invoice_inc_vat\"])\n",
    "open_list['open_exc_vat'] = np.where(open_list[\"country\"] == 'DE', open_list[\"open_inc_vat\"]/1.19, open_list[\"open_inc_vat\"])\n",
    "open_list[['invoice_date','due_date']] = open_list[['invoice_date','due_date']].apply(pd.to_datetime, format='%Y-%m-%d')"
   ]
  },
  {
   "cell_type": "code",
   "execution_count": 5,
   "metadata": {},
   "outputs": [
    {
     "data": {
      "text/html": [
       "<div>\n",
       "<style scoped>\n",
       "    .dataframe tbody tr th:only-of-type {\n",
       "        vertical-align: middle;\n",
       "    }\n",
       "\n",
       "    .dataframe tbody tr th {\n",
       "        vertical-align: top;\n",
       "    }\n",
       "\n",
       "    .dataframe thead th {\n",
       "        text-align: right;\n",
       "    }\n",
       "</style>\n",
       "<table border=\"1\" class=\"dataframe\">\n",
       "  <thead>\n",
       "    <tr style=\"text-align: right;\">\n",
       "      <th></th>\n",
       "      <th>index</th>\n",
       "      <th>customer_number</th>\n",
       "      <th>customer_name</th>\n",
       "      <th>country</th>\n",
       "      <th>invoice_number</th>\n",
       "      <th>invoice_date</th>\n",
       "      <th>invoice_inc_vat</th>\n",
       "      <th>open_inc_vat</th>\n",
       "      <th>due_date</th>\n",
       "      <th>days_overdue_by_oct31</th>\n",
       "      <th>id</th>\n",
       "      <th>invoice_exc_vat</th>\n",
       "      <th>open_exc_vat</th>\n",
       "      <th>days_after_invoice</th>\n",
       "      <th>overdue_days</th>\n",
       "      <th>contract_days</th>\n",
       "    </tr>\n",
       "  </thead>\n",
       "  <tbody>\n",
       "    <tr>\n",
       "      <th>1</th>\n",
       "      <td>0</td>\n",
       "      <td>1071535</td>\n",
       "      <td>AB Ltd.</td>\n",
       "      <td>FR</td>\n",
       "      <td>10,142.00</td>\n",
       "      <td>2021-04-30</td>\n",
       "      <td>5,221.13</td>\n",
       "      <td>5,221.13</td>\n",
       "      <td>2021-05-30</td>\n",
       "      <td>154.00</td>\n",
       "      <td>1071535-AB Ltd.FR</td>\n",
       "      <td>5,221.13</td>\n",
       "      <td>5,221.13</td>\n",
       "      <td>184</td>\n",
       "      <td>154</td>\n",
       "      <td>30</td>\n",
       "    </tr>\n",
       "    <tr>\n",
       "      <th>2</th>\n",
       "      <td>1</td>\n",
       "      <td>1071535</td>\n",
       "      <td>AB Ltd.</td>\n",
       "      <td>FR</td>\n",
       "      <td>10,146.00</td>\n",
       "      <td>2021-04-30</td>\n",
       "      <td>12,771.68</td>\n",
       "      <td>12,771.68</td>\n",
       "      <td>2021-05-30</td>\n",
       "      <td>154.00</td>\n",
       "      <td>1071535-AB Ltd.FR</td>\n",
       "      <td>12,771.68</td>\n",
       "      <td>12,771.68</td>\n",
       "      <td>184</td>\n",
       "      <td>154</td>\n",
       "      <td>30</td>\n",
       "    </tr>\n",
       "    <tr>\n",
       "      <th>3</th>\n",
       "      <td>2</td>\n",
       "      <td>1071535</td>\n",
       "      <td>AB Ltd.</td>\n",
       "      <td>FR</td>\n",
       "      <td>10,180.00</td>\n",
       "      <td>2021-06-30</td>\n",
       "      <td>17,028.90</td>\n",
       "      <td>17,028.90</td>\n",
       "      <td>2021-08-14</td>\n",
       "      <td>78.00</td>\n",
       "      <td>1071535-AB Ltd.FR</td>\n",
       "      <td>17,028.90</td>\n",
       "      <td>17,028.90</td>\n",
       "      <td>123</td>\n",
       "      <td>78</td>\n",
       "      <td>45</td>\n",
       "    </tr>\n",
       "    <tr>\n",
       "      <th>4</th>\n",
       "      <td>3</td>\n",
       "      <td>1071535</td>\n",
       "      <td>AB Ltd.</td>\n",
       "      <td>FR</td>\n",
       "      <td>10,007.00</td>\n",
       "      <td>2021-09-08</td>\n",
       "      <td>7,470.23</td>\n",
       "      <td>7,470.23</td>\n",
       "      <td>2021-10-08</td>\n",
       "      <td>23.00</td>\n",
       "      <td>1071535-AB Ltd.FR</td>\n",
       "      <td>7,470.23</td>\n",
       "      <td>7,470.23</td>\n",
       "      <td>53</td>\n",
       "      <td>23</td>\n",
       "      <td>30</td>\n",
       "    </tr>\n",
       "    <tr>\n",
       "      <th>5</th>\n",
       "      <td>4</td>\n",
       "      <td>1071535</td>\n",
       "      <td>AB Ltd.</td>\n",
       "      <td>FR</td>\n",
       "      <td>10,014.00</td>\n",
       "      <td>2021-09-30</td>\n",
       "      <td>3,775.28</td>\n",
       "      <td>3,775.28</td>\n",
       "      <td>2021-11-09</td>\n",
       "      <td>-9.00</td>\n",
       "      <td>1071535-AB Ltd.FR</td>\n",
       "      <td>3,775.28</td>\n",
       "      <td>3,775.28</td>\n",
       "      <td>31</td>\n",
       "      <td>-9</td>\n",
       "      <td>40</td>\n",
       "    </tr>\n",
       "    <tr>\n",
       "      <th>6</th>\n",
       "      <td>5</td>\n",
       "      <td>1071535</td>\n",
       "      <td>AB Ltd.</td>\n",
       "      <td>FR</td>\n",
       "      <td>202,110.00</td>\n",
       "      <td>2021-10-19</td>\n",
       "      <td>40,242.84</td>\n",
       "      <td>40,242.84</td>\n",
       "      <td>2021-10-19</td>\n",
       "      <td>12.00</td>\n",
       "      <td>1071535-AB Ltd.FR</td>\n",
       "      <td>40,242.84</td>\n",
       "      <td>40,242.84</td>\n",
       "      <td>12</td>\n",
       "      <td>12</td>\n",
       "      <td>0</td>\n",
       "    </tr>\n",
       "  </tbody>\n",
       "</table>\n",
       "</div>"
      ],
      "text/plain": [
       "  index  customer_number customer_name country  invoice_number invoice_date  \\\n",
       "1     0          1071535       AB Ltd.      FR       10,142.00   2021-04-30   \n",
       "2     1          1071535       AB Ltd.      FR       10,146.00   2021-04-30   \n",
       "3     2          1071535       AB Ltd.      FR       10,180.00   2021-06-30   \n",
       "4     3          1071535       AB Ltd.      FR       10,007.00   2021-09-08   \n",
       "5     4          1071535       AB Ltd.      FR       10,014.00   2021-09-30   \n",
       "6     5          1071535       AB Ltd.      FR      202,110.00   2021-10-19   \n",
       "\n",
       "   invoice_inc_vat  open_inc_vat   due_date  days_overdue_by_oct31  \\\n",
       "1         5,221.13      5,221.13 2021-05-30                 154.00   \n",
       "2        12,771.68     12,771.68 2021-05-30                 154.00   \n",
       "3        17,028.90     17,028.90 2021-08-14                  78.00   \n",
       "4         7,470.23      7,470.23 2021-10-08                  23.00   \n",
       "5         3,775.28      3,775.28 2021-11-09                  -9.00   \n",
       "6        40,242.84     40,242.84 2021-10-19                  12.00   \n",
       "\n",
       "                  id  invoice_exc_vat  open_exc_vat  days_after_invoice  \\\n",
       "1  1071535-AB Ltd.FR         5,221.13      5,221.13                 184   \n",
       "2  1071535-AB Ltd.FR        12,771.68     12,771.68                 184   \n",
       "3  1071535-AB Ltd.FR        17,028.90     17,028.90                 123   \n",
       "4  1071535-AB Ltd.FR         7,470.23      7,470.23                  53   \n",
       "5  1071535-AB Ltd.FR         3,775.28      3,775.28                  31   \n",
       "6  1071535-AB Ltd.FR        40,242.84     40,242.84                  12   \n",
       "\n",
       "   overdue_days  contract_days  \n",
       "1           154             30  \n",
       "2           154             30  \n",
       "3            78             45  \n",
       "4            23             30  \n",
       "5            -9             40  \n",
       "6            12              0  "
      ]
     },
     "execution_count": 5,
     "metadata": {},
     "output_type": "execute_result"
    }
   ],
   "source": [
    "# test_open = open_list.copy()\n",
    "open_list.drop(columns='level_0',inplace=True)\n",
    "close_day = pd.to_datetime('31-10-2021')\n",
    "open_list['invoice_date'] = open_list['invoice_date'].apply(pd.to_datetime, format='%Y-%m-%d')\n",
    "open_list['due_date'] = open_list['due_date'].apply(pd.to_datetime, format='%Y-%m-%d')\n",
    "open_list['days_after_invoice'] = (close_day - open_list['invoice_date']).dt.days\n",
    "open_list['overdue_days'] = (close_day - open_list['due_date']).dt.days\n",
    "open_list['contract_days'] = (open_list['due_date'] - open_list['invoice_date']).dt.days\n",
    "open_list['customer_number'] = open_list['customer_number'].astype(np.integer)\n",
    "open_list[open_list['customer_number'] == 1071535]"
   ]
  },
  {
   "cell_type": "code",
   "execution_count": 6,
   "metadata": {},
   "outputs": [
    {
     "data": {
      "text/html": [
       "<div>\n",
       "<style scoped>\n",
       "    .dataframe tbody tr th:only-of-type {\n",
       "        vertical-align: middle;\n",
       "    }\n",
       "\n",
       "    .dataframe tbody tr th {\n",
       "        vertical-align: top;\n",
       "    }\n",
       "\n",
       "    .dataframe thead th {\n",
       "        text-align: right;\n",
       "    }\n",
       "</style>\n",
       "<table border=\"1\" class=\"dataframe\">\n",
       "  <thead>\n",
       "    <tr style=\"text-align: right;\">\n",
       "      <th></th>\n",
       "      <th>index</th>\n",
       "      <th>customer_number</th>\n",
       "      <th>customer_name</th>\n",
       "      <th>country</th>\n",
       "      <th>invoice_number</th>\n",
       "      <th>invoice_date</th>\n",
       "      <th>invoice_inc_vat</th>\n",
       "      <th>open_inc_vat</th>\n",
       "      <th>due_date</th>\n",
       "      <th>days_overdue_by_oct31</th>\n",
       "      <th>...</th>\n",
       "      <th>open_exc_vat</th>\n",
       "      <th>days_after_invoice</th>\n",
       "      <th>overdue_days</th>\n",
       "      <th>contract_days</th>\n",
       "      <th>not_due</th>\n",
       "      <th>overdue_10d</th>\n",
       "      <th>overdue_11_30d</th>\n",
       "      <th>overdue_31_60d</th>\n",
       "      <th>overdue_61_90d</th>\n",
       "      <th>overdue_90+d</th>\n",
       "    </tr>\n",
       "  </thead>\n",
       "  <tbody>\n",
       "    <tr>\n",
       "      <th>1</th>\n",
       "      <td>0</td>\n",
       "      <td>1071535</td>\n",
       "      <td>AB Ltd.</td>\n",
       "      <td>FR</td>\n",
       "      <td>10,142.00</td>\n",
       "      <td>2021-04-30</td>\n",
       "      <td>5,221.13</td>\n",
       "      <td>5,221.13</td>\n",
       "      <td>2021-05-30</td>\n",
       "      <td>154.00</td>\n",
       "      <td>...</td>\n",
       "      <td>5,221.13</td>\n",
       "      <td>184</td>\n",
       "      <td>154</td>\n",
       "      <td>30</td>\n",
       "      <td>0.00</td>\n",
       "      <td>0.00</td>\n",
       "      <td>0.00</td>\n",
       "      <td>0.00</td>\n",
       "      <td>0.00</td>\n",
       "      <td>5,221.13</td>\n",
       "    </tr>\n",
       "    <tr>\n",
       "      <th>2</th>\n",
       "      <td>1</td>\n",
       "      <td>1071535</td>\n",
       "      <td>AB Ltd.</td>\n",
       "      <td>FR</td>\n",
       "      <td>10,146.00</td>\n",
       "      <td>2021-04-30</td>\n",
       "      <td>12,771.68</td>\n",
       "      <td>12,771.68</td>\n",
       "      <td>2021-05-30</td>\n",
       "      <td>154.00</td>\n",
       "      <td>...</td>\n",
       "      <td>12,771.68</td>\n",
       "      <td>184</td>\n",
       "      <td>154</td>\n",
       "      <td>30</td>\n",
       "      <td>0.00</td>\n",
       "      <td>0.00</td>\n",
       "      <td>0.00</td>\n",
       "      <td>0.00</td>\n",
       "      <td>0.00</td>\n",
       "      <td>12,771.68</td>\n",
       "    </tr>\n",
       "    <tr>\n",
       "      <th>3</th>\n",
       "      <td>2</td>\n",
       "      <td>1071535</td>\n",
       "      <td>AB Ltd.</td>\n",
       "      <td>FR</td>\n",
       "      <td>10,180.00</td>\n",
       "      <td>2021-06-30</td>\n",
       "      <td>17,028.90</td>\n",
       "      <td>17,028.90</td>\n",
       "      <td>2021-08-14</td>\n",
       "      <td>78.00</td>\n",
       "      <td>...</td>\n",
       "      <td>17,028.90</td>\n",
       "      <td>123</td>\n",
       "      <td>78</td>\n",
       "      <td>45</td>\n",
       "      <td>0.00</td>\n",
       "      <td>0.00</td>\n",
       "      <td>0.00</td>\n",
       "      <td>0.00</td>\n",
       "      <td>17,028.90</td>\n",
       "      <td>0.00</td>\n",
       "    </tr>\n",
       "    <tr>\n",
       "      <th>4</th>\n",
       "      <td>3</td>\n",
       "      <td>1071535</td>\n",
       "      <td>AB Ltd.</td>\n",
       "      <td>FR</td>\n",
       "      <td>10,007.00</td>\n",
       "      <td>2021-09-08</td>\n",
       "      <td>7,470.23</td>\n",
       "      <td>7,470.23</td>\n",
       "      <td>2021-10-08</td>\n",
       "      <td>23.00</td>\n",
       "      <td>...</td>\n",
       "      <td>7,470.23</td>\n",
       "      <td>53</td>\n",
       "      <td>23</td>\n",
       "      <td>30</td>\n",
       "      <td>0.00</td>\n",
       "      <td>0.00</td>\n",
       "      <td>7,470.23</td>\n",
       "      <td>0.00</td>\n",
       "      <td>0.00</td>\n",
       "      <td>0.00</td>\n",
       "    </tr>\n",
       "    <tr>\n",
       "      <th>5</th>\n",
       "      <td>4</td>\n",
       "      <td>1071535</td>\n",
       "      <td>AB Ltd.</td>\n",
       "      <td>FR</td>\n",
       "      <td>10,014.00</td>\n",
       "      <td>2021-09-30</td>\n",
       "      <td>3,775.28</td>\n",
       "      <td>3,775.28</td>\n",
       "      <td>2021-11-09</td>\n",
       "      <td>-9.00</td>\n",
       "      <td>...</td>\n",
       "      <td>3,775.28</td>\n",
       "      <td>31</td>\n",
       "      <td>-9</td>\n",
       "      <td>40</td>\n",
       "      <td>3,775.28</td>\n",
       "      <td>0.00</td>\n",
       "      <td>0.00</td>\n",
       "      <td>0.00</td>\n",
       "      <td>0.00</td>\n",
       "      <td>0.00</td>\n",
       "    </tr>\n",
       "    <tr>\n",
       "      <th>...</th>\n",
       "      <td>...</td>\n",
       "      <td>...</td>\n",
       "      <td>...</td>\n",
       "      <td>...</td>\n",
       "      <td>...</td>\n",
       "      <td>...</td>\n",
       "      <td>...</td>\n",
       "      <td>...</td>\n",
       "      <td>...</td>\n",
       "      <td>...</td>\n",
       "      <td>...</td>\n",
       "      <td>...</td>\n",
       "      <td>...</td>\n",
       "      <td>...</td>\n",
       "      <td>...</td>\n",
       "      <td>...</td>\n",
       "      <td>...</td>\n",
       "      <td>...</td>\n",
       "      <td>...</td>\n",
       "      <td>...</td>\n",
       "      <td>...</td>\n",
       "    </tr>\n",
       "    <tr>\n",
       "      <th>93</th>\n",
       "      <td>92</td>\n",
       "      <td>1066009</td>\n",
       "      <td>ZA SE</td>\n",
       "      <td>DE</td>\n",
       "      <td>20,577.00</td>\n",
       "      <td>2021-06-30</td>\n",
       "      <td>13,291.28</td>\n",
       "      <td>13,291.28</td>\n",
       "      <td>2021-08-29</td>\n",
       "      <td>63.00</td>\n",
       "      <td>...</td>\n",
       "      <td>11,169.14</td>\n",
       "      <td>123</td>\n",
       "      <td>63</td>\n",
       "      <td>60</td>\n",
       "      <td>0.00</td>\n",
       "      <td>0.00</td>\n",
       "      <td>0.00</td>\n",
       "      <td>0.00</td>\n",
       "      <td>11,169.14</td>\n",
       "      <td>0.00</td>\n",
       "    </tr>\n",
       "    <tr>\n",
       "      <th>94</th>\n",
       "      <td>93</td>\n",
       "      <td>1066009</td>\n",
       "      <td>ZA SE</td>\n",
       "      <td>DE</td>\n",
       "      <td>20,578.00</td>\n",
       "      <td>2021-06-30</td>\n",
       "      <td>177,310.00</td>\n",
       "      <td>177,310.00</td>\n",
       "      <td>2021-08-29</td>\n",
       "      <td>63.00</td>\n",
       "      <td>...</td>\n",
       "      <td>149,000.00</td>\n",
       "      <td>123</td>\n",
       "      <td>63</td>\n",
       "      <td>60</td>\n",
       "      <td>0.00</td>\n",
       "      <td>0.00</td>\n",
       "      <td>0.00</td>\n",
       "      <td>0.00</td>\n",
       "      <td>149,000.00</td>\n",
       "      <td>0.00</td>\n",
       "    </tr>\n",
       "    <tr>\n",
       "      <th>95</th>\n",
       "      <td>94</td>\n",
       "      <td>1066009</td>\n",
       "      <td>ZA SE</td>\n",
       "      <td>DE</td>\n",
       "      <td>20,000.00</td>\n",
       "      <td>2021-07-20</td>\n",
       "      <td>6,220.50</td>\n",
       "      <td>6,220.50</td>\n",
       "      <td>2021-09-18</td>\n",
       "      <td>43.00</td>\n",
       "      <td>...</td>\n",
       "      <td>5,227.31</td>\n",
       "      <td>103</td>\n",
       "      <td>43</td>\n",
       "      <td>60</td>\n",
       "      <td>0.00</td>\n",
       "      <td>0.00</td>\n",
       "      <td>0.00</td>\n",
       "      <td>5,227.31</td>\n",
       "      <td>0.00</td>\n",
       "      <td>0.00</td>\n",
       "    </tr>\n",
       "    <tr>\n",
       "      <th>96</th>\n",
       "      <td>95</td>\n",
       "      <td>1066009</td>\n",
       "      <td>ZA SE</td>\n",
       "      <td>DE</td>\n",
       "      <td>20,001.00</td>\n",
       "      <td>2021-07-22</td>\n",
       "      <td>59,046.31</td>\n",
       "      <td>59,046.31</td>\n",
       "      <td>2021-09-20</td>\n",
       "      <td>41.00</td>\n",
       "      <td>...</td>\n",
       "      <td>49,618.75</td>\n",
       "      <td>101</td>\n",
       "      <td>41</td>\n",
       "      <td>60</td>\n",
       "      <td>0.00</td>\n",
       "      <td>0.00</td>\n",
       "      <td>0.00</td>\n",
       "      <td>49,618.75</td>\n",
       "      <td>0.00</td>\n",
       "      <td>0.00</td>\n",
       "    </tr>\n",
       "    <tr>\n",
       "      <th>97</th>\n",
       "      <td>96</td>\n",
       "      <td>1066009</td>\n",
       "      <td>ZA SE</td>\n",
       "      <td>DE</td>\n",
       "      <td>20,123.00</td>\n",
       "      <td>2021-09-30</td>\n",
       "      <td>31,468.06</td>\n",
       "      <td>31,468.06</td>\n",
       "      <td>2021-11-29</td>\n",
       "      <td>-29.00</td>\n",
       "      <td>...</td>\n",
       "      <td>26,443.75</td>\n",
       "      <td>31</td>\n",
       "      <td>-29</td>\n",
       "      <td>60</td>\n",
       "      <td>26,443.75</td>\n",
       "      <td>0.00</td>\n",
       "      <td>0.00</td>\n",
       "      <td>0.00</td>\n",
       "      <td>0.00</td>\n",
       "      <td>0.00</td>\n",
       "    </tr>\n",
       "  </tbody>\n",
       "</table>\n",
       "<p>97 rows × 22 columns</p>\n",
       "</div>"
      ],
      "text/plain": [
       "   index  customer_number customer_name country  invoice_number invoice_date  \\\n",
       "1      0          1071535       AB Ltd.      FR       10,142.00   2021-04-30   \n",
       "2      1          1071535       AB Ltd.      FR       10,146.00   2021-04-30   \n",
       "3      2          1071535       AB Ltd.      FR       10,180.00   2021-06-30   \n",
       "4      3          1071535       AB Ltd.      FR       10,007.00   2021-09-08   \n",
       "5      4          1071535       AB Ltd.      FR       10,014.00   2021-09-30   \n",
       "..   ...              ...           ...     ...             ...          ...   \n",
       "93    92          1066009         ZA SE      DE       20,577.00   2021-06-30   \n",
       "94    93          1066009         ZA SE      DE       20,578.00   2021-06-30   \n",
       "95    94          1066009         ZA SE      DE       20,000.00   2021-07-20   \n",
       "96    95          1066009         ZA SE      DE       20,001.00   2021-07-22   \n",
       "97    96          1066009         ZA SE      DE       20,123.00   2021-09-30   \n",
       "\n",
       "    invoice_inc_vat  open_inc_vat   due_date  days_overdue_by_oct31  ...  \\\n",
       "1          5,221.13      5,221.13 2021-05-30                 154.00  ...   \n",
       "2         12,771.68     12,771.68 2021-05-30                 154.00  ...   \n",
       "3         17,028.90     17,028.90 2021-08-14                  78.00  ...   \n",
       "4          7,470.23      7,470.23 2021-10-08                  23.00  ...   \n",
       "5          3,775.28      3,775.28 2021-11-09                  -9.00  ...   \n",
       "..              ...           ...        ...                    ...  ...   \n",
       "93        13,291.28     13,291.28 2021-08-29                  63.00  ...   \n",
       "94       177,310.00    177,310.00 2021-08-29                  63.00  ...   \n",
       "95         6,220.50      6,220.50 2021-09-18                  43.00  ...   \n",
       "96        59,046.31     59,046.31 2021-09-20                  41.00  ...   \n",
       "97        31,468.06     31,468.06 2021-11-29                 -29.00  ...   \n",
       "\n",
       "   open_exc_vat  days_after_invoice  overdue_days  contract_days   not_due  \\\n",
       "1      5,221.13                 184           154             30      0.00   \n",
       "2     12,771.68                 184           154             30      0.00   \n",
       "3     17,028.90                 123            78             45      0.00   \n",
       "4      7,470.23                  53            23             30      0.00   \n",
       "5      3,775.28                  31            -9             40  3,775.28   \n",
       "..          ...                 ...           ...            ...       ...   \n",
       "93    11,169.14                 123            63             60      0.00   \n",
       "94   149,000.00                 123            63             60      0.00   \n",
       "95     5,227.31                 103            43             60      0.00   \n",
       "96    49,618.75                 101            41             60      0.00   \n",
       "97    26,443.75                  31           -29             60 26,443.75   \n",
       "\n",
       "    overdue_10d  overdue_11_30d  overdue_31_60d  overdue_61_90d  overdue_90+d  \n",
       "1          0.00            0.00            0.00            0.00      5,221.13  \n",
       "2          0.00            0.00            0.00            0.00     12,771.68  \n",
       "3          0.00            0.00            0.00       17,028.90          0.00  \n",
       "4          0.00        7,470.23            0.00            0.00          0.00  \n",
       "5          0.00            0.00            0.00            0.00          0.00  \n",
       "..          ...             ...             ...             ...           ...  \n",
       "93         0.00            0.00            0.00       11,169.14          0.00  \n",
       "94         0.00            0.00            0.00      149,000.00          0.00  \n",
       "95         0.00            0.00        5,227.31            0.00          0.00  \n",
       "96         0.00            0.00       49,618.75            0.00          0.00  \n",
       "97         0.00            0.00            0.00            0.00          0.00  \n",
       "\n",
       "[97 rows x 22 columns]"
      ]
     },
     "execution_count": 6,
     "metadata": {},
     "output_type": "execute_result"
    }
   ],
   "source": [
    "# create due days columns for open_list\n",
    "open_list['not_due'] = open_list[['open_exc_vat']].sum(axis=1).where(open_list['overdue_days'] <= 0, 0)\n",
    "open_list['overdue_10d'] = open_list[['open_exc_vat']].sum(axis=1).where((open_list['overdue_days'] > 0) & (open_list['overdue_days'] <= 10), 0)\n",
    "open_list['overdue_11_30d'] = open_list[['open_exc_vat']].sum(axis=1).where((open_list['overdue_days'] > 10) & (open_list['overdue_days'] <= 30), 0)\n",
    "open_list['overdue_31_60d'] = open_list[['open_exc_vat']].sum(axis=1).where((open_list['overdue_days'] > 30) & (open_list['overdue_days'] <= 60), 0)\n",
    "open_list['overdue_61_90d'] = open_list[['open_exc_vat']].sum(axis=1).where((open_list['overdue_days'] > 60) & (open_list['overdue_days'] <= 90), 0)\n",
    "open_list['overdue_90+d'] = open_list[['open_exc_vat']].sum(axis=1).where(open_list['overdue_days'] > 90, 0)\n",
    "\n",
    "open_list"
   ]
  },
  {
   "cell_type": "code",
   "execution_count": 7,
   "metadata": {},
   "outputs": [],
   "source": [
    "# create a list of our conditions\n",
    "open_conditions = [\n",
    "    (open_list['days_after_invoice'] <= 10),\n",
    "    (open_list['days_after_invoice'] > 10) & (open_list['days_after_invoice'] <= 30),\n",
    "    (open_list['days_after_invoice'] > 30) & (open_list['days_after_invoice'] <= 60),\n",
    "    (open_list['days_after_invoice'] > 60) & (open_list['days_after_invoice'] <= 90),\n",
    "    (open_list['days_after_invoice'] > 90)\n",
    "    ]\n",
    "\n",
    "# create a list of the values we want to assign for each condition\n",
    "values = [1,2,3,4,5]\n",
    "\n",
    "# create the tier base of value\n",
    "open_list['score_apply'] = np.select(open_conditions, values)\n",
    "open_list['weighted_open_exc_vat'] = open_list['open_exc_vat']*open_list['score_apply']\n",
    "# open_list"
   ]
  },
  {
   "cell_type": "code",
   "execution_count": 8,
   "metadata": {},
   "outputs": [],
   "source": [
    "# Summary open_list by customer\n",
    "open_list_customer = open_list.groupby(['id','customer_number', 'customer_name', 'country'])[['invoice_inc_vat', 'open_inc_vat','invoice_exc_vat',\n",
    "       'open_exc_vat','weighted_open_exc_vat','not_due', 'overdue_10d', 'overdue_11_30d', 'overdue_31_60d',\n",
    "       'overdue_61_90d', 'overdue_90+d']].sum().reset_index()\n",
    "\n",
    "# Calculate open EPS for customer\n",
    "open_list_customer['open_EPS'] = open_list_customer['weighted_open_exc_vat']/open_list_customer['open_exc_vat']"
   ]
  },
  {
   "cell_type": "markdown",
   "metadata": {},
   "source": [
    "## Payment List"
   ]
  },
  {
   "cell_type": "code",
   "execution_count": 9,
   "metadata": {},
   "outputs": [],
   "source": [
    "# Format payment_list \n",
    "# Edit columns name\n",
    "payment_list = payment_list.rename(columns={'Customer  No.': 'customer_number',\n",
    "                                     'Country':'country',\n",
    "                                     'Customer':'customer_name',\n",
    "                                      'Revenues (net w/o VAT)':'revenue_net_wo_vat',\n",
    "                                      'Discount (0,05%)':'discount_0.05',\n",
    "                                      'Paid within 10 Days':'paid_in_10d',\n",
    "                                      'Paid 11-30 Days':'paid_11_30d',\n",
    "                                      'Paid 31-60Days':'paid_31_60d',\n",
    "                                      'Paid 61-90 Days': 'paid_61_90d',\n",
    "                                      'Paid 90+ Days': 'paid_90+d',\n",
    "                                      'Total amount':'total_payment',\n",
    "                                     })\n",
    "\n",
    "# Create id column in payment_list\n",
    "payment_list['id'] = payment_list['customer_number'].astype('str') + '-' + payment_list['customer_name'] + payment_list['country']   \n",
    "\n",
    "# Fillna in payment_list\n",
    "payment_list = payment_list.fillna(0)           "
   ]
  },
  {
   "cell_type": "code",
   "execution_count": 10,
   "metadata": {},
   "outputs": [],
   "source": [
    "# Summarize payment_list by customers\n",
    "payment_list_customer = payment_list.groupby(['id', 'customer_number', 'country', 'customer_name'])[['discount_0.05','paid_in_10d', 'paid_11_30d',\n",
    "       'paid_31_60d', 'paid_61_90d', 'paid_90+d', 'total_payment']].sum().reset_index()\n"
   ]
  },
  {
   "cell_type": "code",
   "execution_count": 11,
   "metadata": {},
   "outputs": [],
   "source": [
    "# Calculate EPS in payment_list\n",
    "weighted_list = [1,2,3,4,5]\n",
    "\n",
    "# test_payment_list = payment_list.copy()\n",
    "\n",
    "for i in weighted_list:\n",
    "    payment_list_customer['sum_weighted'] = payment_list_customer['paid_in_10d']*weighted_list[0] + payment_list_customer['paid_11_30d']*weighted_list[1] + payment_list_customer['paid_31_60d']*weighted_list[2] + payment_list_customer['paid_61_90d']*weighted_list[3] + payment_list_customer['paid_90+d']*weighted_list[4]\n",
    "\n",
    "payment_list_customer['payment_EPS'] = payment_list_customer['sum_weighted'] / payment_list_customer['total_payment']\n",
    "\n"
   ]
  },
  {
   "cell_type": "code",
   "execution_count": 12,
   "metadata": {},
   "outputs": [],
   "source": [
    "# Create EPS tier by customer\n",
    "tier_conditions = [\n",
    "    (payment_list_customer['payment_EPS'] <= 1.7),\n",
    "    (payment_list_customer['payment_EPS'] > 1.7) & (payment_list_customer['payment_EPS'] <= 2.7),\n",
    "    (payment_list_customer['payment_EPS'] > 2.7 ) & (payment_list_customer['payment_EPS'] <= 3.7),\n",
    "    (payment_list_customer['payment_EPS'] > 3.7)\n",
    "    ]\n",
    "\n",
    "tiers = ['Tier 1', 'Tier 2', 'Tier 3', 'Tier 4']\n",
    "\n",
    "payment_list_customer['payment_EPS_tier'] = np.select(tier_conditions, tiers)\n"
   ]
  },
  {
   "cell_type": "markdown",
   "metadata": {},
   "source": [
    "## Merge data between Payment list and Open list"
   ]
  },
  {
   "cell_type": "code",
   "execution_count": 13,
   "metadata": {},
   "outputs": [],
   "source": [
    "# Merge open_list and payment_list\n",
    "merge_data = payment_list_customer.merge(open_list_customer, on ='id', how='outer',suffixes=('_pm', '_op'))\n",
    "\n",
    "merge_data = merge_data.fillna(0)\n",
    "\n",
    "merge_data['total'] = merge_data['total_payment'] + merge_data['open_exc_vat']\n"
   ]
  },
  {
   "cell_type": "code",
   "execution_count": 14,
   "metadata": {},
   "outputs": [],
   "source": [
    "# Create calculation columns in merge data\n",
    "merge_data['base_amount'] = merge_data['total_payment']+merge_data['open_exc_vat']\n",
    "merge_data['wtd_payment'] = (merge_data['total_payment']*merge_data['payment_EPS']) \n",
    "merge_data['wtd_open'] = (merge_data['open_exc_vat']+merge_data['open_EPS'])\n"
   ]
  },
  {
   "cell_type": "code",
   "execution_count": 15,
   "metadata": {},
   "outputs": [],
   "source": [
    "# Calculate total EPS\n",
    "merge_data['EPS'] = ((merge_data['total_payment']*merge_data['payment_EPS']) + (merge_data['open_exc_vat']*merge_data['open_EPS']))/(merge_data['total_payment']+merge_data['open_exc_vat'])\n"
   ]
  },
  {
   "cell_type": "code",
   "execution_count": 16,
   "metadata": {},
   "outputs": [],
   "source": [
    "# Create EPS tier by customer\n",
    "tier_conditions = [\n",
    "    (merge_data['EPS'] <= 1.7),\n",
    "    (merge_data['EPS'] > 1.7) & (merge_data['EPS'] <= 2.7),\n",
    "    (merge_data['EPS'] > 2.7 ) & (merge_data['EPS'] <= 3.7),\n",
    "    (merge_data['EPS'] > 3.7)\n",
    "    ]\n",
    "\n",
    "tiers = ['Tier 1', 'Tier 2', 'Tier 3', 'Tier 4']\n",
    "\n",
    "merge_data['EPS_tier'] = np.select(tier_conditions, tiers)"
   ]
  },
  {
   "cell_type": "code",
   "execution_count": 17,
   "metadata": {},
   "outputs": [],
   "source": [
    "# Create tier by customer value\n",
    "value_conditions = [\n",
    "    (merge_data['total'] >= 100000),\n",
    "    (merge_data['total'] < 100000) & (merge_data['total'] >= 50000),\n",
    "    (merge_data['total'] < 50000 ) & (merge_data['total'] >= 25000),\n",
    "    (merge_data['total'] < 25000)\n",
    "    ]\n",
    "\n",
    "values = ['01. >100k', '02. >50K', '03. >25K', '04. <25K']\n",
    "\n",
    "merge_data['value_tier'] = np.select(value_conditions, values)\n"
   ]
  },
  {
   "cell_type": "code",
   "execution_count": 23,
   "metadata": {},
   "outputs": [],
   "source": [
    "# Calculate total due by customer\n",
    "merge_data['total_due'] = merge_data['overdue_10d'] + merge_data['overdue_11_30d'] + merge_data['overdue_31_60d'] + merge_data['overdue_61_90d'] + merge_data['overdue_90+d']"
   ]
  },
  {
   "cell_type": "markdown",
   "metadata": {},
   "source": [
    "## Waterfall chart & Matrix"
   ]
  },
  {
   "cell_type": "code",
   "execution_count": 24,
   "metadata": {},
   "outputs": [],
   "source": [
    "# Prepare data for waterfall chart\n",
    "operating_sales_rev = merge_data['discount_0.05'].sum().round(0)+merge_data['total'].sum().round(0)\n",
    "net_sale = merge_data['total'].sum().round(0)\n",
    "discount = merge_data['discount_0.05'].sum().round(0)\n",
    "paid = merge_data['total_payment'].sum().round(0)\n",
    "open_invoices = merge_data['open_exc_vat'].sum().round(0)\n",
    "not_due = merge_data['not_due'].sum().round(0)\n",
    "total_due = (merge_data['overdue_10d'].sum() + merge_data['overdue_11_30d'].sum() + merge_data['overdue_31_60d'].sum() + merge_data['overdue_61_90d'].sum() + merge_data['overdue_90+d'].sum()).round(0)\n",
    "overdue_1_10d = merge_data['overdue_10d'].sum().round(0)\n",
    "overdue_11_30d = merge_data['overdue_11_30d'].sum().round(0)\n",
    "overdue_31_60d = merge_data['overdue_31_60d'].sum().round(0)\n",
    "overdue_61_90d = merge_data['overdue_61_90d'].sum().round(0)\n",
    "overdue_more_91d = merge_data['overdue_90+d'].sum().round(0)\n",
    "\n",
    "# Create list from calculated data\n",
    "wf_list = ['operating_sales_rev','net_sale','discount','paid','open_invoices','not_due','total_due','overdue_1_10d','overdue_11_30d','overdue_31_60d','overdue_61_90d','overdue_more_91d']\n",
    "wf_data = [operating_sales_rev,net_sale,discount,paid,open_invoices,not_due,total_due,overdue_1_10d,overdue_11_30d,overdue_31_60d,overdue_61_90d,overdue_more_91d]\n"
   ]
  },
  {
   "cell_type": "code",
   "execution_count": 19,
   "metadata": {},
   "outputs": [
    {
     "data": {
      "application/vnd.plotly.v1+json": {
       "config": {
        "plotlyServerURL": "https://plot.ly"
       },
       "data": [
        {
         "base": 0,
         "decreasing": {
          "marker": {
           "color": "orange",
           "line": {
            "color": "red",
            "width": 2
           }
          }
         },
         "increasing": {
          "marker": {
           "color": "Teal"
          }
         },
         "measure": [
          "absolute",
          "relative",
          "absolute",
          "relative",
          "absolute",
          "relative",
          "absolute",
          "relative",
          "relative",
          "relative",
          "relative",
          "relative"
         ],
         "text": [
          "€3,532",
          "€4",
          "€3,528",
          "€1,695",
          "€1,834",
          "€825",
          "€1,009",
          "€333",
          "€89",
          "€104",
          "€228",
          "€256"
         ],
         "textposition": "outside",
         "totals": {
          "marker": {
           "color": "deep sky blue",
           "line": {
            "color": "blue",
            "width": 3
           }
          }
         },
         "type": "waterfall",
         "x": [
          "Net Sales",
          "Discount",
          "Operating Sales/Revenue",
          "Paid Invoices",
          "Account Receivables",
          "Not Due",
          "Overdue",
          "1-10 days overdue",
          "11-30 days overdue",
          "31-60 days overdue",
          "61-90 days overdue",
          "+90 days overdue"
         ],
         "y": [
          3532071,
          -3646,
          3528425,
          -1694709,
          1833716,
          -824715,
          1009001,
          -332715,
          -89072,
          -103666,
          -227966,
          -255584
         ]
        }
       ],
       "layout": {
        "template": {
         "data": {
          "bar": [
           {
            "error_x": {
             "color": "#2a3f5f"
            },
            "error_y": {
             "color": "#2a3f5f"
            },
            "marker": {
             "line": {
              "color": "#E5ECF6",
              "width": 0.5
             },
             "pattern": {
              "fillmode": "overlay",
              "size": 10,
              "solidity": 0.2
             }
            },
            "type": "bar"
           }
          ],
          "barpolar": [
           {
            "marker": {
             "line": {
              "color": "#E5ECF6",
              "width": 0.5
             },
             "pattern": {
              "fillmode": "overlay",
              "size": 10,
              "solidity": 0.2
             }
            },
            "type": "barpolar"
           }
          ],
          "carpet": [
           {
            "aaxis": {
             "endlinecolor": "#2a3f5f",
             "gridcolor": "white",
             "linecolor": "white",
             "minorgridcolor": "white",
             "startlinecolor": "#2a3f5f"
            },
            "baxis": {
             "endlinecolor": "#2a3f5f",
             "gridcolor": "white",
             "linecolor": "white",
             "minorgridcolor": "white",
             "startlinecolor": "#2a3f5f"
            },
            "type": "carpet"
           }
          ],
          "choropleth": [
           {
            "colorbar": {
             "outlinewidth": 0,
             "ticks": ""
            },
            "type": "choropleth"
           }
          ],
          "contour": [
           {
            "colorbar": {
             "outlinewidth": 0,
             "ticks": ""
            },
            "colorscale": [
             [
              0,
              "#0d0887"
             ],
             [
              0.1111111111111111,
              "#46039f"
             ],
             [
              0.2222222222222222,
              "#7201a8"
             ],
             [
              0.3333333333333333,
              "#9c179e"
             ],
             [
              0.4444444444444444,
              "#bd3786"
             ],
             [
              0.5555555555555556,
              "#d8576b"
             ],
             [
              0.6666666666666666,
              "#ed7953"
             ],
             [
              0.7777777777777778,
              "#fb9f3a"
             ],
             [
              0.8888888888888888,
              "#fdca26"
             ],
             [
              1,
              "#f0f921"
             ]
            ],
            "type": "contour"
           }
          ],
          "contourcarpet": [
           {
            "colorbar": {
             "outlinewidth": 0,
             "ticks": ""
            },
            "type": "contourcarpet"
           }
          ],
          "heatmap": [
           {
            "colorbar": {
             "outlinewidth": 0,
             "ticks": ""
            },
            "colorscale": [
             [
              0,
              "#0d0887"
             ],
             [
              0.1111111111111111,
              "#46039f"
             ],
             [
              0.2222222222222222,
              "#7201a8"
             ],
             [
              0.3333333333333333,
              "#9c179e"
             ],
             [
              0.4444444444444444,
              "#bd3786"
             ],
             [
              0.5555555555555556,
              "#d8576b"
             ],
             [
              0.6666666666666666,
              "#ed7953"
             ],
             [
              0.7777777777777778,
              "#fb9f3a"
             ],
             [
              0.8888888888888888,
              "#fdca26"
             ],
             [
              1,
              "#f0f921"
             ]
            ],
            "type": "heatmap"
           }
          ],
          "heatmapgl": [
           {
            "colorbar": {
             "outlinewidth": 0,
             "ticks": ""
            },
            "colorscale": [
             [
              0,
              "#0d0887"
             ],
             [
              0.1111111111111111,
              "#46039f"
             ],
             [
              0.2222222222222222,
              "#7201a8"
             ],
             [
              0.3333333333333333,
              "#9c179e"
             ],
             [
              0.4444444444444444,
              "#bd3786"
             ],
             [
              0.5555555555555556,
              "#d8576b"
             ],
             [
              0.6666666666666666,
              "#ed7953"
             ],
             [
              0.7777777777777778,
              "#fb9f3a"
             ],
             [
              0.8888888888888888,
              "#fdca26"
             ],
             [
              1,
              "#f0f921"
             ]
            ],
            "type": "heatmapgl"
           }
          ],
          "histogram": [
           {
            "marker": {
             "pattern": {
              "fillmode": "overlay",
              "size": 10,
              "solidity": 0.2
             }
            },
            "type": "histogram"
           }
          ],
          "histogram2d": [
           {
            "colorbar": {
             "outlinewidth": 0,
             "ticks": ""
            },
            "colorscale": [
             [
              0,
              "#0d0887"
             ],
             [
              0.1111111111111111,
              "#46039f"
             ],
             [
              0.2222222222222222,
              "#7201a8"
             ],
             [
              0.3333333333333333,
              "#9c179e"
             ],
             [
              0.4444444444444444,
              "#bd3786"
             ],
             [
              0.5555555555555556,
              "#d8576b"
             ],
             [
              0.6666666666666666,
              "#ed7953"
             ],
             [
              0.7777777777777778,
              "#fb9f3a"
             ],
             [
              0.8888888888888888,
              "#fdca26"
             ],
             [
              1,
              "#f0f921"
             ]
            ],
            "type": "histogram2d"
           }
          ],
          "histogram2dcontour": [
           {
            "colorbar": {
             "outlinewidth": 0,
             "ticks": ""
            },
            "colorscale": [
             [
              0,
              "#0d0887"
             ],
             [
              0.1111111111111111,
              "#46039f"
             ],
             [
              0.2222222222222222,
              "#7201a8"
             ],
             [
              0.3333333333333333,
              "#9c179e"
             ],
             [
              0.4444444444444444,
              "#bd3786"
             ],
             [
              0.5555555555555556,
              "#d8576b"
             ],
             [
              0.6666666666666666,
              "#ed7953"
             ],
             [
              0.7777777777777778,
              "#fb9f3a"
             ],
             [
              0.8888888888888888,
              "#fdca26"
             ],
             [
              1,
              "#f0f921"
             ]
            ],
            "type": "histogram2dcontour"
           }
          ],
          "mesh3d": [
           {
            "colorbar": {
             "outlinewidth": 0,
             "ticks": ""
            },
            "type": "mesh3d"
           }
          ],
          "parcoords": [
           {
            "line": {
             "colorbar": {
              "outlinewidth": 0,
              "ticks": ""
             }
            },
            "type": "parcoords"
           }
          ],
          "pie": [
           {
            "automargin": true,
            "type": "pie"
           }
          ],
          "scatter": [
           {
            "marker": {
             "colorbar": {
              "outlinewidth": 0,
              "ticks": ""
             }
            },
            "type": "scatter"
           }
          ],
          "scatter3d": [
           {
            "line": {
             "colorbar": {
              "outlinewidth": 0,
              "ticks": ""
             }
            },
            "marker": {
             "colorbar": {
              "outlinewidth": 0,
              "ticks": ""
             }
            },
            "type": "scatter3d"
           }
          ],
          "scattercarpet": [
           {
            "marker": {
             "colorbar": {
              "outlinewidth": 0,
              "ticks": ""
             }
            },
            "type": "scattercarpet"
           }
          ],
          "scattergeo": [
           {
            "marker": {
             "colorbar": {
              "outlinewidth": 0,
              "ticks": ""
             }
            },
            "type": "scattergeo"
           }
          ],
          "scattergl": [
           {
            "marker": {
             "colorbar": {
              "outlinewidth": 0,
              "ticks": ""
             }
            },
            "type": "scattergl"
           }
          ],
          "scattermapbox": [
           {
            "marker": {
             "colorbar": {
              "outlinewidth": 0,
              "ticks": ""
             }
            },
            "type": "scattermapbox"
           }
          ],
          "scatterpolar": [
           {
            "marker": {
             "colorbar": {
              "outlinewidth": 0,
              "ticks": ""
             }
            },
            "type": "scatterpolar"
           }
          ],
          "scatterpolargl": [
           {
            "marker": {
             "colorbar": {
              "outlinewidth": 0,
              "ticks": ""
             }
            },
            "type": "scatterpolargl"
           }
          ],
          "scatterternary": [
           {
            "marker": {
             "colorbar": {
              "outlinewidth": 0,
              "ticks": ""
             }
            },
            "type": "scatterternary"
           }
          ],
          "surface": [
           {
            "colorbar": {
             "outlinewidth": 0,
             "ticks": ""
            },
            "colorscale": [
             [
              0,
              "#0d0887"
             ],
             [
              0.1111111111111111,
              "#46039f"
             ],
             [
              0.2222222222222222,
              "#7201a8"
             ],
             [
              0.3333333333333333,
              "#9c179e"
             ],
             [
              0.4444444444444444,
              "#bd3786"
             ],
             [
              0.5555555555555556,
              "#d8576b"
             ],
             [
              0.6666666666666666,
              "#ed7953"
             ],
             [
              0.7777777777777778,
              "#fb9f3a"
             ],
             [
              0.8888888888888888,
              "#fdca26"
             ],
             [
              1,
              "#f0f921"
             ]
            ],
            "type": "surface"
           }
          ],
          "table": [
           {
            "cells": {
             "fill": {
              "color": "#EBF0F8"
             },
             "line": {
              "color": "white"
             }
            },
            "header": {
             "fill": {
              "color": "#C8D4E3"
             },
             "line": {
              "color": "white"
             }
            },
            "type": "table"
           }
          ]
         },
         "layout": {
          "annotationdefaults": {
           "arrowcolor": "#2a3f5f",
           "arrowhead": 0,
           "arrowwidth": 1
          },
          "autotypenumbers": "strict",
          "coloraxis": {
           "colorbar": {
            "outlinewidth": 0,
            "ticks": ""
           }
          },
          "colorscale": {
           "diverging": [
            [
             0,
             "#8e0152"
            ],
            [
             0.1,
             "#c51b7d"
            ],
            [
             0.2,
             "#de77ae"
            ],
            [
             0.3,
             "#f1b6da"
            ],
            [
             0.4,
             "#fde0ef"
            ],
            [
             0.5,
             "#f7f7f7"
            ],
            [
             0.6,
             "#e6f5d0"
            ],
            [
             0.7,
             "#b8e186"
            ],
            [
             0.8,
             "#7fbc41"
            ],
            [
             0.9,
             "#4d9221"
            ],
            [
             1,
             "#276419"
            ]
           ],
           "sequential": [
            [
             0,
             "#0d0887"
            ],
            [
             0.1111111111111111,
             "#46039f"
            ],
            [
             0.2222222222222222,
             "#7201a8"
            ],
            [
             0.3333333333333333,
             "#9c179e"
            ],
            [
             0.4444444444444444,
             "#bd3786"
            ],
            [
             0.5555555555555556,
             "#d8576b"
            ],
            [
             0.6666666666666666,
             "#ed7953"
            ],
            [
             0.7777777777777778,
             "#fb9f3a"
            ],
            [
             0.8888888888888888,
             "#fdca26"
            ],
            [
             1,
             "#f0f921"
            ]
           ],
           "sequentialminus": [
            [
             0,
             "#0d0887"
            ],
            [
             0.1111111111111111,
             "#46039f"
            ],
            [
             0.2222222222222222,
             "#7201a8"
            ],
            [
             0.3333333333333333,
             "#9c179e"
            ],
            [
             0.4444444444444444,
             "#bd3786"
            ],
            [
             0.5555555555555556,
             "#d8576b"
            ],
            [
             0.6666666666666666,
             "#ed7953"
            ],
            [
             0.7777777777777778,
             "#fb9f3a"
            ],
            [
             0.8888888888888888,
             "#fdca26"
            ],
            [
             1,
             "#f0f921"
            ]
           ]
          },
          "colorway": [
           "#636efa",
           "#EF553B",
           "#00cc96",
           "#ab63fa",
           "#FFA15A",
           "#19d3f3",
           "#FF6692",
           "#B6E880",
           "#FF97FF",
           "#FECB52"
          ],
          "font": {
           "color": "#2a3f5f"
          },
          "geo": {
           "bgcolor": "white",
           "lakecolor": "white",
           "landcolor": "#E5ECF6",
           "showlakes": true,
           "showland": true,
           "subunitcolor": "white"
          },
          "hoverlabel": {
           "align": "left"
          },
          "hovermode": "closest",
          "mapbox": {
           "style": "light"
          },
          "paper_bgcolor": "white",
          "plot_bgcolor": "#E5ECF6",
          "polar": {
           "angularaxis": {
            "gridcolor": "white",
            "linecolor": "white",
            "ticks": ""
           },
           "bgcolor": "#E5ECF6",
           "radialaxis": {
            "gridcolor": "white",
            "linecolor": "white",
            "ticks": ""
           }
          },
          "scene": {
           "xaxis": {
            "backgroundcolor": "#E5ECF6",
            "gridcolor": "white",
            "gridwidth": 2,
            "linecolor": "white",
            "showbackground": true,
            "ticks": "",
            "zerolinecolor": "white"
           },
           "yaxis": {
            "backgroundcolor": "#E5ECF6",
            "gridcolor": "white",
            "gridwidth": 2,
            "linecolor": "white",
            "showbackground": true,
            "ticks": "",
            "zerolinecolor": "white"
           },
           "zaxis": {
            "backgroundcolor": "#E5ECF6",
            "gridcolor": "white",
            "gridwidth": 2,
            "linecolor": "white",
            "showbackground": true,
            "ticks": "",
            "zerolinecolor": "white"
           }
          },
          "shapedefaults": {
           "line": {
            "color": "#2a3f5f"
           }
          },
          "ternary": {
           "aaxis": {
            "gridcolor": "white",
            "linecolor": "white",
            "ticks": ""
           },
           "baxis": {
            "gridcolor": "white",
            "linecolor": "white",
            "ticks": ""
           },
           "bgcolor": "#E5ECF6",
           "caxis": {
            "gridcolor": "white",
            "linecolor": "white",
            "ticks": ""
           }
          },
          "title": {
           "x": 0.05
          },
          "xaxis": {
           "automargin": true,
           "gridcolor": "white",
           "linecolor": "white",
           "ticks": "",
           "title": {
            "standoff": 15
           },
           "zerolinecolor": "white",
           "zerolinewidth": 2
          },
          "yaxis": {
           "automargin": true,
           "gridcolor": "white",
           "linecolor": "white",
           "ticks": "",
           "title": {
            "standoff": 15
           },
           "zerolinecolor": "white",
           "zerolinewidth": 2
          }
         }
        },
        "title": {
         "text": "Big Picture"
        },
        "waterfallgap": 0.3,
        "xaxis": {
         "tickangle": -45
        },
        "yaxis": {
         "range": [
          -500000,
          4000000
         ],
         "title": {
          "text": "EUR, in millions"
         }
        }
       }
      }
     },
     "metadata": {},
     "output_type": "display_data"
    }
   ],
   "source": [
    "# create waterfall chart\n",
    "\n",
    "fig = go.Figure(go.Waterfall(\n",
    "    x = ['Net Sales','Discount','Operating Sales/Revenue','Paid Invoices','Account Receivables','Not Due','Overdue'\n",
    "            ,'1-10 days overdue','11-30 days overdue','31-60 days overdue','61-90 days overdue','+90 days overdue'],\n",
    "    measure = [\"absolute\", \"relative\", \"absolute\", \"relative\", \"absolute\", \"relative\", \"absolute\", \"relative\", \"relative\",\"relative\",\"relative\",\"relative\"],\n",
    "    y = [operating_sales_rev,-discount,net_sale,-paid,open_invoices,-not_due,total_due,-overdue_1_10d,-overdue_11_30d,-overdue_31_60d,-overdue_61_90d,-overdue_more_91d], base = 0,\n",
    "    text = [\"€3,532\",\"€4\" , \"€3,528\", \"€1,695\", \"€1,834\", \"€825\",\"€1,009\",\"€333\",\"€89\",\"€104\",\"€228\",\"€256\"],\n",
    "    decreasing = {\"marker\":{\"color\":\"orange\", \"line\":{\"color\":\"red\", \"width\":2}}},\n",
    "    textposition = \"outside\",\n",
    "    increasing = {\"marker\":{\"color\":\"Teal\"}},\n",
    "    totals = {\"marker\":{\"color\":\"deep sky blue\", \"line\":{\"color\":\"blue\", \"width\":3}}},\n",
    "    # bgclor = None\n",
    "))\n",
    "\n",
    "fig.update_layout(title = \"Big Picture\", waterfallgap = 0.3)\n",
    "fig.update_yaxes(range=[-500000, 4000000])\n",
    "fig.update_yaxes(title_text='EUR, in millions')\n",
    "fig.update_xaxes(tickangle=-45)\n",
    "# plot_url = py.plot(fig, filename='transparent-background')\n",
    "fig.show()\n",
    "\n"
   ]
  },
  {
   "cell_type": "code",
   "execution_count": 20,
   "metadata": {},
   "outputs": [
    {
     "data": {
      "text/html": [
       "<div>\n",
       "<style scoped>\n",
       "    .dataframe tbody tr th:only-of-type {\n",
       "        vertical-align: middle;\n",
       "    }\n",
       "\n",
       "    .dataframe tbody tr th {\n",
       "        vertical-align: top;\n",
       "    }\n",
       "\n",
       "    .dataframe thead th {\n",
       "        text-align: right;\n",
       "    }\n",
       "</style>\n",
       "<table border=\"1\" class=\"dataframe\">\n",
       "  <thead>\n",
       "    <tr style=\"text-align: right;\">\n",
       "      <th>value_tier</th>\n",
       "      <th>01. &gt;100k</th>\n",
       "      <th>02. &gt;50K</th>\n",
       "      <th>03. &gt;25K</th>\n",
       "      <th>04. &lt;25K</th>\n",
       "      <th>Grand Total</th>\n",
       "    </tr>\n",
       "    <tr>\n",
       "      <th>EPS_tier</th>\n",
       "      <th></th>\n",
       "      <th></th>\n",
       "      <th></th>\n",
       "      <th></th>\n",
       "      <th></th>\n",
       "    </tr>\n",
       "  </thead>\n",
       "  <tbody>\n",
       "    <tr>\n",
       "      <th>Tier 1</th>\n",
       "      <td>336,975</td>\n",
       "      <td>86,557</td>\n",
       "      <td>0</td>\n",
       "      <td>9,417</td>\n",
       "      <td>432,949</td>\n",
       "    </tr>\n",
       "    <tr>\n",
       "      <th>Tier 2</th>\n",
       "      <td>996,927</td>\n",
       "      <td>0</td>\n",
       "      <td>0</td>\n",
       "      <td>31,416</td>\n",
       "      <td>1,028,343</td>\n",
       "    </tr>\n",
       "    <tr>\n",
       "      <th>Tier 3</th>\n",
       "      <td>493,634</td>\n",
       "      <td>357,757</td>\n",
       "      <td>153,725</td>\n",
       "      <td>145,837</td>\n",
       "      <td>1,150,953</td>\n",
       "    </tr>\n",
       "    <tr>\n",
       "      <th>Tier 4</th>\n",
       "      <td>818,700</td>\n",
       "      <td>0</td>\n",
       "      <td>32,370</td>\n",
       "      <td>65,110</td>\n",
       "      <td>916,180</td>\n",
       "    </tr>\n",
       "    <tr>\n",
       "      <th>Grand Total</th>\n",
       "      <td>2,646,236</td>\n",
       "      <td>444,314</td>\n",
       "      <td>186,095</td>\n",
       "      <td>251,779</td>\n",
       "      <td>3,528,425</td>\n",
       "    </tr>\n",
       "  </tbody>\n",
       "</table>\n",
       "</div>"
      ],
      "text/plain": [
       "value_tier   01. >100k  02. >50K  03. >25K  04. <25K  Grand Total\n",
       "EPS_tier                                                         \n",
       "Tier 1         336,975    86,557         0     9,417      432,949\n",
       "Tier 2         996,927         0         0    31,416    1,028,343\n",
       "Tier 3         493,634   357,757   153,725   145,837    1,150,953\n",
       "Tier 4         818,700         0    32,370    65,110      916,180\n",
       "Grand Total  2,646,236   444,314   186,095   251,779    3,528,425"
      ]
     },
     "execution_count": 20,
     "metadata": {},
     "output_type": "execute_result"
    }
   ],
   "source": [
    "# Calculate matrix for customer EPS tier and value tier\n",
    "matrix = pd.pivot_table(merge_data, values='total', index='EPS_tier', columns='value_tier', aggfunc='sum',margins=True,margins_name='Grand Total')\n",
    "\n",
    "matrix = matrix.fillna(0)\n",
    "pd.options.display.float_format = '{:,.0f}'.format\n",
    "# matrix = matrix.style.background_gradient(cmap='coolwarm')\n",
    "\n",
    "matrix"
   ]
  },
  {
   "cell_type": "code",
   "execution_count": 57,
   "metadata": {},
   "outputs": [
    {
     "data": {
      "text/html": [
       "<div>\n",
       "<style scoped>\n",
       "    .dataframe tbody tr th:only-of-type {\n",
       "        vertical-align: middle;\n",
       "    }\n",
       "\n",
       "    .dataframe tbody tr th {\n",
       "        vertical-align: top;\n",
       "    }\n",
       "\n",
       "    .dataframe thead th {\n",
       "        text-align: right;\n",
       "    }\n",
       "</style>\n",
       "<table border=\"1\" class=\"dataframe\">\n",
       "  <thead>\n",
       "    <tr style=\"text-align: right;\">\n",
       "      <th></th>\n",
       "      <th>value_tier</th>\n",
       "      <th>number of customer</th>\n",
       "      <th>total payment</th>\n",
       "      <th>% of total payment</th>\n",
       "    </tr>\n",
       "  </thead>\n",
       "  <tbody>\n",
       "    <tr>\n",
       "      <th>0</th>\n",
       "      <td>01. &gt;100k</td>\n",
       "      <td>10</td>\n",
       "      <td>2,646,236.41</td>\n",
       "      <td>0.75</td>\n",
       "    </tr>\n",
       "    <tr>\n",
       "      <th>1</th>\n",
       "      <td>02. &gt;50K</td>\n",
       "      <td>7</td>\n",
       "      <td>444,314.02</td>\n",
       "      <td>0.13</td>\n",
       "    </tr>\n",
       "    <tr>\n",
       "      <th>2</th>\n",
       "      <td>03. &gt;25K</td>\n",
       "      <td>5</td>\n",
       "      <td>186,095.38</td>\n",
       "      <td>0.05</td>\n",
       "    </tr>\n",
       "    <tr>\n",
       "      <th>3</th>\n",
       "      <td>04. &lt;25K</td>\n",
       "      <td>23</td>\n",
       "      <td>251,561.74</td>\n",
       "      <td>0.07</td>\n",
       "    </tr>\n",
       "  </tbody>\n",
       "</table>\n",
       "</div>"
      ],
      "text/plain": [
       "  value_tier  number of customer  total payment  % of total payment\n",
       "0  01. >100k                  10   2,646,236.41                0.75\n",
       "1   02. >50K                   7     444,314.02                0.13\n",
       "2   03. >25K                   5     186,095.38                0.05\n",
       "3   04. <25K                  23     251,561.74                0.07"
      ]
     },
     "execution_count": 57,
     "metadata": {},
     "output_type": "execute_result"
    }
   ],
   "source": [
    "# Customer net sale and bracket\n",
    "payment_list_mapping = payment_list_customer.merge(merge_data, on='id')\n",
    "payment_list_mapping['total_c'] = payment_list_mapping['total']\n",
    "payment_list_mapping_check = pd.pivot_table(payment_list_mapping, index=['value_tier'],\n",
    "                     aggfunc={'id' : 'count', 'total' : 'sum', 'total_c': lambda x: x.sum() / payment_list_mapping['total'].sum()}).reset_index()\n",
    "\n",
    "payment_list_mapping_check.rename(columns={'id':'number of customer','total':'total payment', 'total_c': '% of total payment'}, inplace=True)\n",
    "pd.options.display.float_format = '{:,.2f}'.format\n",
    "payment_list_mapping_check"
   ]
  },
  {
   "cell_type": "code",
   "execution_count": 27,
   "metadata": {},
   "outputs": [],
   "source": [
    "# Drop unnecessary columns\n",
    "merge_data = merge_data.drop(columns=['customer_number_op', 'customer_name_op', 'country_op', 'wtd_open'])"
   ]
  },
  {
   "cell_type": "code",
   "execution_count": 28,
   "metadata": {},
   "outputs": [
    {
     "data": {
      "text/html": [
       "<style type=\"text/css\">\n",
       "#T_d847f_row0_col0, #T_d847f_row0_col2, #T_d847f_row0_col3, #T_d847f_row0_col4, #T_d847f_row1_col1, #T_d847f_row1_col2, #T_d847f_row2_col0, #T_d847f_row3_col0, #T_d847f_row3_col1 {\n",
       "  background-color: #e7e3f0;\n",
       "  color: #000000;\n",
       "}\n",
       "#T_d847f_row0_col1 {\n",
       "  background-color: #d9d8ea;\n",
       "  color: #000000;\n",
       "}\n",
       "#T_d847f_row1_col0 {\n",
       "  background-color: #ced0e6;\n",
       "  color: #000000;\n",
       "}\n",
       "#T_d847f_row1_col3, #T_d847f_row3_col3 {\n",
       "  background-color: #dedcec;\n",
       "  color: #000000;\n",
       "}\n",
       "#T_d847f_row1_col4 {\n",
       "  background-color: #e0dded;\n",
       "  color: #000000;\n",
       "}\n",
       "#T_d847f_row2_col1 {\n",
       "  background-color: #6da6cd;\n",
       "  color: #f1f1f1;\n",
       "}\n",
       "#T_d847f_row2_col2 {\n",
       "  background-color: #78abd0;\n",
       "  color: #f1f1f1;\n",
       "}\n",
       "#T_d847f_row2_col3 {\n",
       "  background-color: #bcc7e1;\n",
       "  color: #000000;\n",
       "}\n",
       "#T_d847f_row2_col4 {\n",
       "  background-color: #b5c4df;\n",
       "  color: #000000;\n",
       "}\n",
       "#T_d847f_row3_col2 {\n",
       "  background-color: #d4d4e8;\n",
       "  color: #000000;\n",
       "}\n",
       "#T_d847f_row3_col4 {\n",
       "  background-color: #e2dfee;\n",
       "  color: #000000;\n",
       "}\n",
       "#T_d847f_row4_col0, #T_d847f_row4_col1, #T_d847f_row4_col2, #T_d847f_row4_col3, #T_d847f_row4_col4 {\n",
       "  background-color: #4e9ac6;\n",
       "  color: #f1f1f1;\n",
       "}\n",
       "</style>\n",
       "<table id=\"T_d847f_\">\n",
       "  <thead>\n",
       "    <tr>\n",
       "      <th class=\"index_name level0\" >value_tier</th>\n",
       "      <th class=\"col_heading level0 col0\" >01. >100k</th>\n",
       "      <th class=\"col_heading level0 col1\" >02. >50K</th>\n",
       "      <th class=\"col_heading level0 col2\" >03. >25K</th>\n",
       "      <th class=\"col_heading level0 col3\" >04. <25K</th>\n",
       "      <th class=\"col_heading level0 col4\" >Grand Total</th>\n",
       "    </tr>\n",
       "    <tr>\n",
       "      <th class=\"index_name level0\" >EPS_tier</th>\n",
       "      <th class=\"blank col0\" >&nbsp;</th>\n",
       "      <th class=\"blank col1\" >&nbsp;</th>\n",
       "      <th class=\"blank col2\" >&nbsp;</th>\n",
       "      <th class=\"blank col3\" >&nbsp;</th>\n",
       "      <th class=\"blank col4\" >&nbsp;</th>\n",
       "    </tr>\n",
       "  </thead>\n",
       "  <tbody>\n",
       "    <tr>\n",
       "      <th id=\"T_d847f_level0_row0\" class=\"row_heading level0 row0\" >Tier 1</th>\n",
       "      <td id=\"T_d847f_row0_col0\" class=\"data row0 col0\" >2</td>\n",
       "      <td id=\"T_d847f_row0_col1\" class=\"data row0 col1\" >1</td>\n",
       "      <td id=\"T_d847f_row0_col2\" class=\"data row0 col2\" >0</td>\n",
       "      <td id=\"T_d847f_row0_col3\" class=\"data row0 col3\" >3</td>\n",
       "      <td id=\"T_d847f_row0_col4\" class=\"data row0 col4\" >6</td>\n",
       "    </tr>\n",
       "    <tr>\n",
       "      <th id=\"T_d847f_level0_row1\" class=\"row_heading level0 row1\" >Tier 2</th>\n",
       "      <td id=\"T_d847f_row1_col0\" class=\"data row1 col0\" >4</td>\n",
       "      <td id=\"T_d847f_row1_col1\" class=\"data row1 col1\" >0</td>\n",
       "      <td id=\"T_d847f_row1_col2\" class=\"data row1 col2\" >0</td>\n",
       "      <td id=\"T_d847f_row1_col3\" class=\"data row1 col3\" >5</td>\n",
       "      <td id=\"T_d847f_row1_col4\" class=\"data row1 col4\" >9</td>\n",
       "    </tr>\n",
       "    <tr>\n",
       "      <th id=\"T_d847f_level0_row2\" class=\"row_heading level0 row2\" >Tier 3</th>\n",
       "      <td id=\"T_d847f_row2_col0\" class=\"data row2 col0\" >2</td>\n",
       "      <td id=\"T_d847f_row2_col1\" class=\"data row2 col1\" >6</td>\n",
       "      <td id=\"T_d847f_row2_col2\" class=\"data row2 col2\" >4</td>\n",
       "      <td id=\"T_d847f_row2_col3\" class=\"data row2 col3\" >11</td>\n",
       "      <td id=\"T_d847f_row2_col4\" class=\"data row2 col4\" >23</td>\n",
       "    </tr>\n",
       "    <tr>\n",
       "      <th id=\"T_d847f_level0_row3\" class=\"row_heading level0 row3\" >Tier 4</th>\n",
       "      <td id=\"T_d847f_row3_col0\" class=\"data row3 col0\" >2</td>\n",
       "      <td id=\"T_d847f_row3_col1\" class=\"data row3 col1\" >0</td>\n",
       "      <td id=\"T_d847f_row3_col2\" class=\"data row3 col2\" >1</td>\n",
       "      <td id=\"T_d847f_row3_col3\" class=\"data row3 col3\" >5</td>\n",
       "      <td id=\"T_d847f_row3_col4\" class=\"data row3 col4\" >8</td>\n",
       "    </tr>\n",
       "    <tr>\n",
       "      <th id=\"T_d847f_level0_row4\" class=\"row_heading level0 row4\" >Grand Total</th>\n",
       "      <td id=\"T_d847f_row4_col0\" class=\"data row4 col0\" >10</td>\n",
       "      <td id=\"T_d847f_row4_col1\" class=\"data row4 col1\" >7</td>\n",
       "      <td id=\"T_d847f_row4_col2\" class=\"data row4 col2\" >5</td>\n",
       "      <td id=\"T_d847f_row4_col3\" class=\"data row4 col3\" >24</td>\n",
       "      <td id=\"T_d847f_row4_col4\" class=\"data row4 col4\" >46</td>\n",
       "    </tr>\n",
       "  </tbody>\n",
       "</table>\n"
      ],
      "text/plain": [
       "<pandas.io.formats.style.Styler at 0x7f79aaddae80>"
      ]
     },
     "execution_count": 28,
     "metadata": {},
     "output_type": "execute_result"
    }
   ],
   "source": [
    "# Block 2.a\n",
    "matrix = pd.pivot_table(merge_data, values='total', index='EPS_tier', columns='value_tier', aggfunc='count',margins=True,margins_name='Grand Total')\n",
    "\n",
    "matrix = matrix.fillna(0)\n",
    "matrix = matrix.astype(int)\n",
    "matrix = matrix.style.background_gradient(low=0.35, high=1.0)\n",
    "# matrix = matrix.style.background_gradient(cmap='coolwarm')\n",
    "\n",
    "matrix"
   ]
  },
  {
   "cell_type": "code",
   "execution_count": 29,
   "metadata": {},
   "outputs": [
    {
     "data": {
      "text/html": [
       "<div>\n",
       "<style scoped>\n",
       "    .dataframe tbody tr th:only-of-type {\n",
       "        vertical-align: middle;\n",
       "    }\n",
       "\n",
       "    .dataframe tbody tr th {\n",
       "        vertical-align: top;\n",
       "    }\n",
       "\n",
       "    .dataframe thead th {\n",
       "        text-align: right;\n",
       "    }\n",
       "</style>\n",
       "<table border=\"1\" class=\"dataframe\">\n",
       "  <thead>\n",
       "    <tr style=\"text-align: right;\">\n",
       "      <th>value_tier</th>\n",
       "      <th>01. &gt;100k</th>\n",
       "      <th>02. &gt;50K</th>\n",
       "      <th>03. &gt;25K</th>\n",
       "      <th>04. &lt;25K</th>\n",
       "      <th>Grand Total</th>\n",
       "    </tr>\n",
       "    <tr>\n",
       "      <th>EPS_tier</th>\n",
       "      <th></th>\n",
       "      <th></th>\n",
       "      <th></th>\n",
       "      <th></th>\n",
       "      <th></th>\n",
       "    </tr>\n",
       "  </thead>\n",
       "  <tbody>\n",
       "    <tr>\n",
       "      <th>Tier 1</th>\n",
       "      <td>4.3%</td>\n",
       "      <td>2.2%</td>\n",
       "      <td>0.0%</td>\n",
       "      <td>6.5%</td>\n",
       "      <td>13.0%</td>\n",
       "    </tr>\n",
       "    <tr>\n",
       "      <th>Tier 2</th>\n",
       "      <td>8.7%</td>\n",
       "      <td>0.0%</td>\n",
       "      <td>0.0%</td>\n",
       "      <td>10.9%</td>\n",
       "      <td>19.6%</td>\n",
       "    </tr>\n",
       "    <tr>\n",
       "      <th>Tier 3</th>\n",
       "      <td>4.3%</td>\n",
       "      <td>13.0%</td>\n",
       "      <td>8.7%</td>\n",
       "      <td>23.9%</td>\n",
       "      <td>50.0%</td>\n",
       "    </tr>\n",
       "    <tr>\n",
       "      <th>Tier 4</th>\n",
       "      <td>4.3%</td>\n",
       "      <td>0.0%</td>\n",
       "      <td>2.2%</td>\n",
       "      <td>10.9%</td>\n",
       "      <td>17.4%</td>\n",
       "    </tr>\n",
       "    <tr>\n",
       "      <th>Grand Total</th>\n",
       "      <td>21.7%</td>\n",
       "      <td>15.2%</td>\n",
       "      <td>10.9%</td>\n",
       "      <td>52.2%</td>\n",
       "      <td>100.0%</td>\n",
       "    </tr>\n",
       "  </tbody>\n",
       "</table>\n",
       "</div>"
      ],
      "text/plain": [
       "value_tier   01. >100k  02. >50K  03. >25K  04. <25K  Grand Total\n",
       "EPS_tier                                                         \n",
       "Tier 1            4.3%      2.2%      0.0%      6.5%        13.0%\n",
       "Tier 2            8.7%      0.0%      0.0%     10.9%        19.6%\n",
       "Tier 3            4.3%     13.0%      8.7%     23.9%        50.0%\n",
       "Tier 4            4.3%      0.0%      2.2%     10.9%        17.4%\n",
       "Grand Total      21.7%     15.2%     10.9%     52.2%       100.0%"
      ]
     },
     "execution_count": 29,
     "metadata": {},
     "output_type": "execute_result"
    }
   ],
   "source": [
    "# Block 2.a\n",
    "matrix_count = pd.pivot_table(merge_data, values='total', index='EPS_tier', columns='value_tier', aggfunc = lambda x: x.count() / merge_data['total'].count(),margins=True,margins_name='Grand Total') \n",
    "\n",
    "matrix_count = matrix_count.fillna(0)\n",
    "\n",
    "cm = sns.light_palette(\"red\", as_cmap=True)\n",
    "pd.options.display.float_format = '{:,.1%}'.format\n",
    "# matrix_count.style.background_gradient(cmap='coolwarm')\n",
    "matrix_count\n"
   ]
  },
  {
   "cell_type": "code",
   "execution_count": 30,
   "metadata": {},
   "outputs": [],
   "source": [
    "merge_data.rename(columns={'customer_number_pm':'customer_number',\n",
    "                            'country_pm': 'country', 'customer_name_pm':'customer_name'},inplace=True)"
   ]
  },
  {
   "cell_type": "code",
   "execution_count": 31,
   "metadata": {},
   "outputs": [
    {
     "data": {
      "text/plain": [
       "Index(['id', 'customer_number', 'country', 'customer_name', 'discount_0.05',\n",
       "       'paid_in_10d', 'paid_11_30d', 'paid_31_60d', 'paid_61_90d', 'paid_90+d',\n",
       "       'total_payment', 'sum_weighted', 'payment_EPS', 'payment_EPS_tier',\n",
       "       'invoice_inc_vat', 'open_inc_vat', 'invoice_exc_vat', 'open_exc_vat',\n",
       "       'weighted_open_exc_vat', 'not_due', 'overdue_10d', 'overdue_11_30d',\n",
       "       'overdue_31_60d', 'overdue_61_90d', 'overdue_90+d', 'open_EPS', 'total',\n",
       "       'base_amount', 'wtd_payment', 'EPS', 'EPS_tier', 'value_tier',\n",
       "       'total_due'],\n",
       "      dtype='object')"
      ]
     },
     "execution_count": 31,
     "metadata": {},
     "output_type": "execute_result"
    }
   ],
   "source": [
    "merge_data.columns"
   ]
  },
  {
   "cell_type": "code",
   "execution_count": 32,
   "metadata": {},
   "outputs": [
    {
     "data": {
      "text/html": [
       "<style type=\"text/css\">\n",
       "#T_f5098_row0_col0 {\n",
       "  background-color: #d7d6e9;\n",
       "  color: #000000;\n",
       "}\n",
       "#T_f5098_row0_col1 {\n",
       "  background-color: #6fa7ce;\n",
       "  color: #f1f1f1;\n",
       "}\n",
       "#T_f5098_row0_col2, #T_f5098_row0_col3, #T_f5098_row1_col1, #T_f5098_row1_col2, #T_f5098_row3_col0, #T_f5098_row3_col1, #T_f5098_row3_col4 {\n",
       "  background-color: #e7e3f0;\n",
       "  color: #000000;\n",
       "}\n",
       "#T_f5098_row0_col4 {\n",
       "  background-color: #d4d4e8;\n",
       "  color: #000000;\n",
       "}\n",
       "#T_f5098_row1_col0 {\n",
       "  background-color: #abbfdc;\n",
       "  color: #000000;\n",
       "}\n",
       "#T_f5098_row1_col3 {\n",
       "  background-color: #c8cde4;\n",
       "  color: #000000;\n",
       "}\n",
       "#T_f5098_row1_col4 {\n",
       "  background-color: #b4c4df;\n",
       "  color: #000000;\n",
       "}\n",
       "#T_f5098_row2_col0 {\n",
       "  background-color: #dcdaeb;\n",
       "  color: #000000;\n",
       "}\n",
       "#T_f5098_row2_col1, #T_f5098_row2_col4, #T_f5098_row3_col2 {\n",
       "  background-color: #d9d8ea;\n",
       "  color: #000000;\n",
       "}\n",
       "#T_f5098_row2_col2 {\n",
       "  background-color: #6ba5cd;\n",
       "  color: #f1f1f1;\n",
       "}\n",
       "#T_f5098_row2_col3 {\n",
       "  background-color: #cdd0e5;\n",
       "  color: #000000;\n",
       "}\n",
       "#T_f5098_row3_col3 {\n",
       "  background-color: #e1dfed;\n",
       "  color: #000000;\n",
       "}\n",
       "#T_f5098_row4_col0, #T_f5098_row4_col1, #T_f5098_row4_col2, #T_f5098_row4_col3, #T_f5098_row4_col4 {\n",
       "  background-color: #4e9ac6;\n",
       "  color: #f1f1f1;\n",
       "}\n",
       "</style>\n",
       "<table id=\"T_f5098_\">\n",
       "  <thead>\n",
       "    <tr>\n",
       "      <th class=\"index_name level0\" >value_tier</th>\n",
       "      <th class=\"col_heading level0 col0\" >01. >100k</th>\n",
       "      <th class=\"col_heading level0 col1\" >02. >50K</th>\n",
       "      <th class=\"col_heading level0 col2\" >03. >25K</th>\n",
       "      <th class=\"col_heading level0 col3\" >04. <25K</th>\n",
       "      <th class=\"col_heading level0 col4\" >Grand Total</th>\n",
       "    </tr>\n",
       "    <tr>\n",
       "      <th class=\"index_name level0\" >EPS_tier</th>\n",
       "      <th class=\"blank col0\" >&nbsp;</th>\n",
       "      <th class=\"blank col1\" >&nbsp;</th>\n",
       "      <th class=\"blank col2\" >&nbsp;</th>\n",
       "      <th class=\"blank col3\" >&nbsp;</th>\n",
       "      <th class=\"blank col4\" >&nbsp;</th>\n",
       "    </tr>\n",
       "  </thead>\n",
       "  <tbody>\n",
       "    <tr>\n",
       "      <th id=\"T_f5098_level0_row0\" class=\"row_heading level0 row0\" >Tier 1</th>\n",
       "      <td id=\"T_f5098_row0_col0\" class=\"data row0 col0\" >335988</td>\n",
       "      <td id=\"T_f5098_row0_col1\" class=\"data row0 col1\" >84558</td>\n",
       "      <td id=\"T_f5098_row0_col2\" class=\"data row0 col2\" >0</td>\n",
       "      <td id=\"T_f5098_row0_col3\" class=\"data row0 col3\" >7688</td>\n",
       "      <td id=\"T_f5098_row0_col4\" class=\"data row0 col4\" >428234</td>\n",
       "    </tr>\n",
       "    <tr>\n",
       "      <th id=\"T_f5098_level0_row1\" class=\"row_heading level0 row1\" >Tier 2</th>\n",
       "      <td id=\"T_f5098_row1_col0\" class=\"data row1 col0\" >775354</td>\n",
       "      <td id=\"T_f5098_row1_col1\" class=\"data row1 col1\" >0</td>\n",
       "      <td id=\"T_f5098_row1_col2\" class=\"data row1 col2\" >0</td>\n",
       "      <td id=\"T_f5098_row1_col3\" class=\"data row1 col3\" >26081</td>\n",
       "      <td id=\"T_f5098_row1_col4\" class=\"data row1 col4\" >801436</td>\n",
       "    </tr>\n",
       "    <tr>\n",
       "      <th id=\"T_f5098_level0_row2\" class=\"row_heading level0 row2\" >Tier 3</th>\n",
       "      <td id=\"T_f5098_row2_col0\" class=\"data row2 col0\" >253117</td>\n",
       "      <td id=\"T_f5098_row2_col1\" class=\"data row2 col1\" >14873</td>\n",
       "      <td id=\"T_f5098_row2_col2\" class=\"data row2 col2\" >53565</td>\n",
       "      <td id=\"T_f5098_row2_col3\" class=\"data row2 col3\" >23749</td>\n",
       "      <td id=\"T_f5098_row2_col4\" class=\"data row2 col4\" >345306</td>\n",
       "    </tr>\n",
       "    <tr>\n",
       "      <th id=\"T_f5098_level0_row3\" class=\"row_heading level0 row3\" >Tier 4</th>\n",
       "      <td id=\"T_f5098_row3_col0\" class=\"data row3 col0\" >99778</td>\n",
       "      <td id=\"T_f5098_row3_col1\" class=\"data row3 col1\" >0</td>\n",
       "      <td id=\"T_f5098_row3_col2\" class=\"data row3 col2\" >8570</td>\n",
       "      <td id=\"T_f5098_row3_col3\" class=\"data row3 col3\" >11383</td>\n",
       "      <td id=\"T_f5098_row3_col4\" class=\"data row3 col4\" >119731</td>\n",
       "    </tr>\n",
       "    <tr>\n",
       "      <th id=\"T_f5098_level0_row4\" class=\"row_heading level0 row4\" >Grand Total</th>\n",
       "      <td id=\"T_f5098_row4_col0\" class=\"data row4 col0\" >1464238</td>\n",
       "      <td id=\"T_f5098_row4_col1\" class=\"data row4 col1\" >99432</td>\n",
       "      <td id=\"T_f5098_row4_col2\" class=\"data row4 col2\" >62135</td>\n",
       "      <td id=\"T_f5098_row4_col3\" class=\"data row4 col3\" >68902</td>\n",
       "      <td id=\"T_f5098_row4_col4\" class=\"data row4 col4\" >1694708</td>\n",
       "    </tr>\n",
       "  </tbody>\n",
       "</table>\n"
      ],
      "text/plain": [
       "<pandas.io.formats.style.Styler at 0x7f79a9400070>"
      ]
     },
     "execution_count": 32,
     "metadata": {},
     "output_type": "execute_result"
    }
   ],
   "source": [
    "# Block 2.b - Paid Revenue\n",
    "matrix = pd.pivot_table(merge_data, values='total_payment', index='EPS_tier', columns='value_tier', aggfunc='sum',margins=True,margins_name='Grand Total')\n",
    "\n",
    "matrix = matrix.fillna(0)\n",
    "matrix = matrix.astype(int)\n",
    "pd.options.display.float_format = '{:,.0f}'.format\n",
    "matrix = matrix.style.background_gradient(low=0.35, high=1.0)\n",
    "\n",
    "matrix"
   ]
  },
  {
   "cell_type": "code",
   "execution_count": 33,
   "metadata": {},
   "outputs": [
    {
     "data": {
      "text/html": [
       "<style type=\"text/css\">\n",
       "#T_cc22b_row0_col0, #T_cc22b_row0_col1, #T_cc22b_row0_col2, #T_cc22b_row0_col3, #T_cc22b_row0_col4, #T_cc22b_row1_col1, #T_cc22b_row1_col2, #T_cc22b_row3_col1 {\n",
       "  background-color: #e7e3f0;\n",
       "  color: #000000;\n",
       "}\n",
       "#T_cc22b_row1_col0 {\n",
       "  background-color: #d5d5e8;\n",
       "  color: #000000;\n",
       "}\n",
       "#T_cc22b_row1_col3 {\n",
       "  background-color: #e5e1ef;\n",
       "  color: #000000;\n",
       "}\n",
       "#T_cc22b_row1_col4 {\n",
       "  background-color: #dbdaeb;\n",
       "  color: #000000;\n",
       "}\n",
       "#T_cc22b_row2_col0 {\n",
       "  background-color: #d3d4e7;\n",
       "  color: #000000;\n",
       "}\n",
       "#T_cc22b_row2_col1 {\n",
       "  background-color: #509ac6;\n",
       "  color: #f1f1f1;\n",
       "}\n",
       "#T_cc22b_row2_col2 {\n",
       "  background-color: #76aad0;\n",
       "  color: #f1f1f1;\n",
       "}\n",
       "#T_cc22b_row2_col3 {\n",
       "  background-color: #8fb4d6;\n",
       "  color: #000000;\n",
       "}\n",
       "#T_cc22b_row2_col4, #T_cc22b_row3_col4 {\n",
       "  background-color: #b4c4df;\n",
       "  color: #000000;\n",
       "}\n",
       "#T_cc22b_row3_col0 {\n",
       "  background-color: #99b8d8;\n",
       "  color: #000000;\n",
       "}\n",
       "#T_cc22b_row3_col2 {\n",
       "  background-color: #d4d4e8;\n",
       "  color: #000000;\n",
       "}\n",
       "#T_cc22b_row3_col3 {\n",
       "  background-color: #c9cee4;\n",
       "  color: #000000;\n",
       "}\n",
       "#T_cc22b_row4_col0, #T_cc22b_row4_col1, #T_cc22b_row4_col2, #T_cc22b_row4_col3, #T_cc22b_row4_col4 {\n",
       "  background-color: #4e9ac6;\n",
       "  color: #f1f1f1;\n",
       "}\n",
       "</style>\n",
       "<table id=\"T_cc22b_\">\n",
       "  <thead>\n",
       "    <tr>\n",
       "      <th class=\"index_name level0\" >value_tier</th>\n",
       "      <th class=\"col_heading level0 col0\" >01. >100k</th>\n",
       "      <th class=\"col_heading level0 col1\" >02. >50K</th>\n",
       "      <th class=\"col_heading level0 col2\" >03. >25K</th>\n",
       "      <th class=\"col_heading level0 col3\" >04. <25K</th>\n",
       "      <th class=\"col_heading level0 col4\" >Grand Total</th>\n",
       "    </tr>\n",
       "    <tr>\n",
       "      <th class=\"index_name level0\" >EPS_tier</th>\n",
       "      <th class=\"blank col0\" >&nbsp;</th>\n",
       "      <th class=\"blank col1\" >&nbsp;</th>\n",
       "      <th class=\"blank col2\" >&nbsp;</th>\n",
       "      <th class=\"blank col3\" >&nbsp;</th>\n",
       "      <th class=\"blank col4\" >&nbsp;</th>\n",
       "    </tr>\n",
       "  </thead>\n",
       "  <tbody>\n",
       "    <tr>\n",
       "      <th id=\"T_cc22b_level0_row0\" class=\"row_heading level0 row0\" >Tier 1</th>\n",
       "      <td id=\"T_cc22b_row0_col0\" class=\"data row0 col0\" >987</td>\n",
       "      <td id=\"T_cc22b_row0_col1\" class=\"data row0 col1\" >1998</td>\n",
       "      <td id=\"T_cc22b_row0_col2\" class=\"data row0 col2\" >0</td>\n",
       "      <td id=\"T_cc22b_row0_col3\" class=\"data row0 col3\" >1728</td>\n",
       "      <td id=\"T_cc22b_row0_col4\" class=\"data row0 col4\" >4714</td>\n",
       "    </tr>\n",
       "    <tr>\n",
       "      <th id=\"T_cc22b_level0_row1\" class=\"row_heading level0 row1\" >Tier 2</th>\n",
       "      <td id=\"T_cc22b_row1_col0\" class=\"data row1 col0\" >221572</td>\n",
       "      <td id=\"T_cc22b_row1_col1\" class=\"data row1 col1\" >0</td>\n",
       "      <td id=\"T_cc22b_row1_col2\" class=\"data row1 col2\" >0</td>\n",
       "      <td id=\"T_cc22b_row1_col3\" class=\"data row1 col3\" >5334</td>\n",
       "      <td id=\"T_cc22b_row1_col4\" class=\"data row1 col4\" >226906</td>\n",
       "    </tr>\n",
       "    <tr>\n",
       "      <th id=\"T_cc22b_level0_row2\" class=\"row_heading level0 row2\" >Tier 3</th>\n",
       "      <td id=\"T_cc22b_row2_col0\" class=\"data row2 col0\" >240516</td>\n",
       "      <td id=\"T_cc22b_row2_col1\" class=\"data row2 col1\" >342883</td>\n",
       "      <td id=\"T_cc22b_row2_col2\" class=\"data row2 col2\" >100159</td>\n",
       "      <td id=\"T_cc22b_row2_col3\" class=\"data row2 col3\" >122087</td>\n",
       "      <td id=\"T_cc22b_row2_col4\" class=\"data row2 col4\" >805646</td>\n",
       "    </tr>\n",
       "    <tr>\n",
       "      <th id=\"T_cc22b_level0_row3\" class=\"row_heading level0 row3\" >Tier 4</th>\n",
       "      <td id=\"T_cc22b_row3_col0\" class=\"data row3 col0\" >718921</td>\n",
       "      <td id=\"T_cc22b_row3_col1\" class=\"data row3 col1\" >0</td>\n",
       "      <td id=\"T_cc22b_row3_col2\" class=\"data row3 col2\" >23800</td>\n",
       "      <td id=\"T_cc22b_row3_col3\" class=\"data row3 col3\" >53726</td>\n",
       "      <td id=\"T_cc22b_row3_col4\" class=\"data row3 col4\" >796448</td>\n",
       "    </tr>\n",
       "    <tr>\n",
       "      <th id=\"T_cc22b_level0_row4\" class=\"row_heading level0 row4\" >Grand Total</th>\n",
       "      <td id=\"T_cc22b_row4_col0\" class=\"data row4 col0\" >1181997</td>\n",
       "      <td id=\"T_cc22b_row4_col1\" class=\"data row4 col1\" >344881</td>\n",
       "      <td id=\"T_cc22b_row4_col2\" class=\"data row4 col2\" >123959</td>\n",
       "      <td id=\"T_cc22b_row4_col3\" class=\"data row4 col3\" >182876</td>\n",
       "      <td id=\"T_cc22b_row4_col4\" class=\"data row4 col4\" >1833716</td>\n",
       "    </tr>\n",
       "  </tbody>\n",
       "</table>\n"
      ],
      "text/plain": [
       "<pandas.io.formats.style.Styler at 0x7f79aac59100>"
      ]
     },
     "execution_count": 33,
     "metadata": {},
     "output_type": "execute_result"
    }
   ],
   "source": [
    "# Block 2.b - Open Revenue\n",
    "matrix = pd.pivot_table(merge_data, values='open_exc_vat', index='EPS_tier', columns='value_tier', aggfunc='sum',margins=True,margins_name='Grand Total')\n",
    "\n",
    "matrix = matrix.fillna(0)\n",
    "matrix = matrix.astype(int)\n",
    "# pd.options.display.float_format = '{:,.0f}'.format\n",
    "matrix = matrix.style.background_gradient(low=0.35, high=1.0)\n",
    "\n",
    "matrix"
   ]
  },
  {
   "cell_type": "code",
   "execution_count": 34,
   "metadata": {},
   "outputs": [
    {
     "data": {
      "text/html": [
       "<style type=\"text/css\">\n",
       "#T_21c91_row0_col0, #T_21c91_row0_col2, #T_21c91_row0_col3, #T_21c91_row0_col4, #T_21c91_row1_col1, #T_21c91_row1_col2, #T_21c91_row3_col1 {\n",
       "  background-color: #e7e3f0;\n",
       "  color: #000000;\n",
       "}\n",
       "#T_21c91_row0_col1, #T_21c91_row1_col4 {\n",
       "  background-color: #d4d4e8;\n",
       "  color: #000000;\n",
       "}\n",
       "#T_21c91_row1_col0 {\n",
       "  background-color: #c9cee4;\n",
       "  color: #000000;\n",
       "}\n",
       "#T_21c91_row1_col3 {\n",
       "  background-color: #dedcec;\n",
       "  color: #000000;\n",
       "}\n",
       "#T_21c91_row2_col0 {\n",
       "  background-color: #e0deed;\n",
       "  color: #000000;\n",
       "}\n",
       "#T_21c91_row2_col1 {\n",
       "  background-color: #78abd0;\n",
       "  color: #f1f1f1;\n",
       "}\n",
       "#T_21c91_row2_col2 {\n",
       "  background-color: #73a9cf;\n",
       "  color: #f1f1f1;\n",
       "}\n",
       "#T_21c91_row2_col3 {\n",
       "  background-color: #a1bbda;\n",
       "  color: #000000;\n",
       "}\n",
       "#T_21c91_row2_col4, #T_21c91_row3_col3 {\n",
       "  background-color: #d1d2e6;\n",
       "  color: #000000;\n",
       "}\n",
       "#T_21c91_row3_col0 {\n",
       "  background-color: #d3d4e7;\n",
       "  color: #000000;\n",
       "}\n",
       "#T_21c91_row3_col2 {\n",
       "  background-color: #d6d6e9;\n",
       "  color: #000000;\n",
       "}\n",
       "#T_21c91_row3_col4 {\n",
       "  background-color: #d8d7e9;\n",
       "  color: #000000;\n",
       "}\n",
       "#T_21c91_row4_col0, #T_21c91_row4_col1, #T_21c91_row4_col2, #T_21c91_row4_col3, #T_21c91_row4_col4 {\n",
       "  background-color: #4e9ac6;\n",
       "  color: #f1f1f1;\n",
       "}\n",
       "</style>\n",
       "<table id=\"T_21c91_\">\n",
       "  <thead>\n",
       "    <tr>\n",
       "      <th class=\"index_name level0\" >value_tier</th>\n",
       "      <th class=\"col_heading level0 col0\" >01. >100k</th>\n",
       "      <th class=\"col_heading level0 col1\" >02. >50K</th>\n",
       "      <th class=\"col_heading level0 col2\" >03. >25K</th>\n",
       "      <th class=\"col_heading level0 col3\" >04. <25K</th>\n",
       "      <th class=\"col_heading level0 col4\" >Grand Total</th>\n",
       "    </tr>\n",
       "    <tr>\n",
       "      <th class=\"index_name level0\" >EPS_tier</th>\n",
       "      <th class=\"blank col0\" >&nbsp;</th>\n",
       "      <th class=\"blank col1\" >&nbsp;</th>\n",
       "      <th class=\"blank col2\" >&nbsp;</th>\n",
       "      <th class=\"blank col3\" >&nbsp;</th>\n",
       "      <th class=\"blank col4\" >&nbsp;</th>\n",
       "    </tr>\n",
       "  </thead>\n",
       "  <tbody>\n",
       "    <tr>\n",
       "      <th id=\"T_21c91_level0_row0\" class=\"row_heading level0 row0\" >Tier 1</th>\n",
       "      <td id=\"T_21c91_row0_col0\" class=\"data row0 col0\" >336975</td>\n",
       "      <td id=\"T_21c91_row0_col1\" class=\"data row0 col1\" >86556</td>\n",
       "      <td id=\"T_21c91_row0_col2\" class=\"data row0 col2\" >0</td>\n",
       "      <td id=\"T_21c91_row0_col3\" class=\"data row0 col3\" >9416</td>\n",
       "      <td id=\"T_21c91_row0_col4\" class=\"data row0 col4\" >432948</td>\n",
       "    </tr>\n",
       "    <tr>\n",
       "      <th id=\"T_21c91_level0_row1\" class=\"row_heading level0 row1\" >Tier 2</th>\n",
       "      <td id=\"T_21c91_row1_col0\" class=\"data row1 col0\" >996927</td>\n",
       "      <td id=\"T_21c91_row1_col1\" class=\"data row1 col1\" >0</td>\n",
       "      <td id=\"T_21c91_row1_col2\" class=\"data row1 col2\" >0</td>\n",
       "      <td id=\"T_21c91_row1_col3\" class=\"data row1 col3\" >31415</td>\n",
       "      <td id=\"T_21c91_row1_col4\" class=\"data row1 col4\" >1028342</td>\n",
       "    </tr>\n",
       "    <tr>\n",
       "      <th id=\"T_21c91_level0_row2\" class=\"row_heading level0 row2\" >Tier 3</th>\n",
       "      <td id=\"T_21c91_row2_col0\" class=\"data row2 col0\" >493633</td>\n",
       "      <td id=\"T_21c91_row2_col1\" class=\"data row2 col1\" >357757</td>\n",
       "      <td id=\"T_21c91_row2_col2\" class=\"data row2 col2\" >153725</td>\n",
       "      <td id=\"T_21c91_row2_col3\" class=\"data row2 col3\" >145836</td>\n",
       "      <td id=\"T_21c91_row2_col4\" class=\"data row2 col4\" >1150953</td>\n",
       "    </tr>\n",
       "    <tr>\n",
       "      <th id=\"T_21c91_level0_row3\" class=\"row_heading level0 row3\" >Tier 4</th>\n",
       "      <td id=\"T_21c91_row3_col0\" class=\"data row3 col0\" >818700</td>\n",
       "      <td id=\"T_21c91_row3_col1\" class=\"data row3 col1\" >0</td>\n",
       "      <td id=\"T_21c91_row3_col2\" class=\"data row3 col2\" >32370</td>\n",
       "      <td id=\"T_21c91_row3_col3\" class=\"data row3 col3\" >65109</td>\n",
       "      <td id=\"T_21c91_row3_col4\" class=\"data row3 col4\" >916180</td>\n",
       "    </tr>\n",
       "    <tr>\n",
       "      <th id=\"T_21c91_level0_row4\" class=\"row_heading level0 row4\" >Grand Total</th>\n",
       "      <td id=\"T_21c91_row4_col0\" class=\"data row4 col0\" >2646236</td>\n",
       "      <td id=\"T_21c91_row4_col1\" class=\"data row4 col1\" >444314</td>\n",
       "      <td id=\"T_21c91_row4_col2\" class=\"data row4 col2\" >186095</td>\n",
       "      <td id=\"T_21c91_row4_col3\" class=\"data row4 col3\" >251779</td>\n",
       "      <td id=\"T_21c91_row4_col4\" class=\"data row4 col4\" >3528424</td>\n",
       "    </tr>\n",
       "  </tbody>\n",
       "</table>\n"
      ],
      "text/plain": [
       "<pandas.io.formats.style.Styler at 0x7f79a9463580>"
      ]
     },
     "execution_count": 34,
     "metadata": {},
     "output_type": "execute_result"
    }
   ],
   "source": [
    "# Block 2.b - Open Revenue\n",
    "matrix = pd.pivot_table(merge_data, values='total', index='EPS_tier', columns='value_tier', aggfunc='sum',margins=True,margins_name='Grand Total')\n",
    "\n",
    "matrix = matrix.fillna(0)\n",
    "matrix = matrix.astype(int)\n",
    "# pd.options.display.float_format = '{:,.0f}'.format\n",
    "matrix = matrix.style.background_gradient(low=0.35, high=1.0)\n",
    "\n",
    "matrix"
   ]
  },
  {
   "cell_type": "code",
   "execution_count": 35,
   "metadata": {},
   "outputs": [
    {
     "data": {
      "text/html": [
       "<style type=\"text/css\">\n",
       "#T_536b5_row0_col0 {\n",
       "  background-color: #c4cbe3;\n",
       "  color: #000000;\n",
       "}\n",
       "#T_536b5_row0_col1 {\n",
       "  background-color: #7dacd1;\n",
       "  color: #f1f1f1;\n",
       "}\n",
       "#T_536b5_row0_col2, #T_536b5_row1_col1, #T_536b5_row1_col2, #T_536b5_row1_col3, #T_536b5_row2_col3, #T_536b5_row3_col0, #T_536b5_row3_col1, #T_536b5_row3_col3, #T_536b5_row3_col4 {\n",
       "  background-color: #e7e3f0;\n",
       "  color: #000000;\n",
       "}\n",
       "#T_536b5_row0_col3, #T_536b5_row4_col0, #T_536b5_row4_col1, #T_536b5_row4_col2, #T_536b5_row4_col3, #T_536b5_row4_col4 {\n",
       "  background-color: #4e9ac6;\n",
       "  color: #f1f1f1;\n",
       "}\n",
       "#T_536b5_row0_col4 {\n",
       "  background-color: #bfc9e1;\n",
       "  color: #000000;\n",
       "}\n",
       "#T_536b5_row1_col0 {\n",
       "  background-color: #9ebad9;\n",
       "  color: #000000;\n",
       "}\n",
       "#T_536b5_row1_col4 {\n",
       "  background-color: #a9bfdc;\n",
       "  color: #000000;\n",
       "}\n",
       "#T_536b5_row2_col0 {\n",
       "  background-color: #dfddec;\n",
       "  color: #000000;\n",
       "}\n",
       "#T_536b5_row2_col1 {\n",
       "  background-color: #d2d2e7;\n",
       "  color: #000000;\n",
       "}\n",
       "#T_536b5_row2_col2 {\n",
       "  background-color: #afc1dd;\n",
       "  color: #000000;\n",
       "}\n",
       "#T_536b5_row2_col4 {\n",
       "  background-color: #dedcec;\n",
       "  color: #000000;\n",
       "}\n",
       "#T_536b5_row3_col2 {\n",
       "  background-color: #a7bddb;\n",
       "  color: #000000;\n",
       "}\n",
       "</style>\n",
       "<table id=\"T_536b5_\">\n",
       "  <thead>\n",
       "    <tr>\n",
       "      <th class=\"index_name level0\" >value_tier</th>\n",
       "      <th class=\"col_heading level0 col0\" >01. >100k</th>\n",
       "      <th class=\"col_heading level0 col1\" >02. >50K</th>\n",
       "      <th class=\"col_heading level0 col2\" >03. >25K</th>\n",
       "      <th class=\"col_heading level0 col3\" >04. <25K</th>\n",
       "      <th class=\"col_heading level0 col4\" >Grand Total</th>\n",
       "    </tr>\n",
       "    <tr>\n",
       "      <th class=\"index_name level0\" >EPS_tier</th>\n",
       "      <th class=\"blank col0\" >&nbsp;</th>\n",
       "      <th class=\"blank col1\" >&nbsp;</th>\n",
       "      <th class=\"blank col2\" >&nbsp;</th>\n",
       "      <th class=\"blank col3\" >&nbsp;</th>\n",
       "      <th class=\"blank col4\" >&nbsp;</th>\n",
       "    </tr>\n",
       "  </thead>\n",
       "  <tbody>\n",
       "    <tr>\n",
       "      <th id=\"T_536b5_level0_row0\" class=\"row_heading level0 row0\" >Tier 1</th>\n",
       "      <td id=\"T_536b5_row0_col0\" class=\"data row0 col0\" >1046</td>\n",
       "      <td id=\"T_536b5_row0_col1\" class=\"data row0 col1\" >254</td>\n",
       "      <td id=\"T_536b5_row0_col2\" class=\"data row0 col2\" >0</td>\n",
       "      <td id=\"T_536b5_row0_col3\" class=\"data row0 col3\" >38</td>\n",
       "      <td id=\"T_536b5_row0_col4\" class=\"data row0 col4\" >1340</td>\n",
       "    </tr>\n",
       "    <tr>\n",
       "      <th id=\"T_536b5_level0_row1\" class=\"row_heading level0 row1\" >Tier 2</th>\n",
       "      <td id=\"T_536b5_row1_col0\" class=\"data row1 col0\" >1863</td>\n",
       "      <td id=\"T_536b5_row1_col1\" class=\"data row1 col1\" >0</td>\n",
       "      <td id=\"T_536b5_row1_col2\" class=\"data row1 col2\" >0</td>\n",
       "      <td id=\"T_536b5_row1_col3\" class=\"data row1 col3\" >0</td>\n",
       "      <td id=\"T_536b5_row1_col4\" class=\"data row1 col4\" >1863</td>\n",
       "    </tr>\n",
       "    <tr>\n",
       "      <th id=\"T_536b5_level0_row2\" class=\"row_heading level0 row2\" >Tier 3</th>\n",
       "      <td id=\"T_536b5_row2_col0\" class=\"data row2 col0\" >285</td>\n",
       "      <td id=\"T_536b5_row2_col1\" class=\"data row2 col1\" >74</td>\n",
       "      <td id=\"T_536b5_row2_col2\" class=\"data row2 col2\" >38</td>\n",
       "      <td id=\"T_536b5_row2_col3\" class=\"data row2 col3\" >0</td>\n",
       "      <td id=\"T_536b5_row2_col4\" class=\"data row2 col4\" >398</td>\n",
       "    </tr>\n",
       "    <tr>\n",
       "      <th id=\"T_536b5_level0_row3\" class=\"row_heading level0 row3\" >Tier 4</th>\n",
       "      <td id=\"T_536b5_row3_col0\" class=\"data row3 col0\" >0</td>\n",
       "      <td id=\"T_536b5_row3_col1\" class=\"data row3 col1\" >0</td>\n",
       "      <td id=\"T_536b5_row3_col2\" class=\"data row3 col2\" >43</td>\n",
       "      <td id=\"T_536b5_row3_col3\" class=\"data row3 col3\" >0</td>\n",
       "      <td id=\"T_536b5_row3_col4\" class=\"data row3 col4\" >43</td>\n",
       "    </tr>\n",
       "    <tr>\n",
       "      <th id=\"T_536b5_level0_row4\" class=\"row_heading level0 row4\" >Grand Total</th>\n",
       "      <td id=\"T_536b5_row4_col0\" class=\"data row4 col0\" >3195</td>\n",
       "      <td id=\"T_536b5_row4_col1\" class=\"data row4 col1\" >329</td>\n",
       "      <td id=\"T_536b5_row4_col2\" class=\"data row4 col2\" >81</td>\n",
       "      <td id=\"T_536b5_row4_col3\" class=\"data row4 col3\" >38</td>\n",
       "      <td id=\"T_536b5_row4_col4\" class=\"data row4 col4\" >3645</td>\n",
       "    </tr>\n",
       "  </tbody>\n",
       "</table>\n"
      ],
      "text/plain": [
       "<pandas.io.formats.style.Styler at 0x7f798907fb20>"
      ]
     },
     "execution_count": 35,
     "metadata": {},
     "output_type": "execute_result"
    }
   ],
   "source": [
    "# Block 2.b - Total discount\n",
    "matrix = pd.pivot_table(merge_data, values='discount_0.05', index='EPS_tier', columns='value_tier', aggfunc='sum',margins=True,margins_name='Grand Total')\n",
    "\n",
    "matrix = matrix.fillna(0)\n",
    "pd.options.display.float_format = '{:,.0f}'.format\n",
    "matrix = matrix.astype(int)\n",
    "matrix = matrix.style.background_gradient(low=0.35, high=1.0)\n",
    "\n",
    "matrix"
   ]
  },
  {
   "cell_type": "code",
   "execution_count": 37,
   "metadata": {},
   "outputs": [],
   "source": [
    "# open_list.to_csv('open_list.csv')\n",
    "contract_day = open_list[['id', 'customer_number', 'customer_name', 'country','contract_days']]\n",
    "merge_data_contract_day = merge_data[['id', 'customer_number', 'country', 'customer_name','EPS', 'EPS_tier','value_tier']]\n",
    "contract_day_total = contract_day.merge(merge_data_contract_day,on='id')\n"
   ]
  },
  {
   "cell_type": "code",
   "execution_count": 38,
   "metadata": {},
   "outputs": [
    {
     "data": {
      "text/html": [
       "<style type=\"text/css\">\n",
       "#T_61a97_row0_col0, #T_61a97_row0_col2, #T_61a97_row0_col3, #T_61a97_row0_col4, #T_61a97_row1_col1, #T_61a97_row1_col2, #T_61a97_row3_col1, #T_61a97_row3_col2 {\n",
       "  background-color: #e7e3f0;\n",
       "  color: #000000;\n",
       "}\n",
       "#T_61a97_row0_col1 {\n",
       "  background-color: #abbfdc;\n",
       "  color: #000000;\n",
       "}\n",
       "#T_61a97_row1_col0 {\n",
       "  background-color: #adc1dd;\n",
       "  color: #000000;\n",
       "}\n",
       "#T_61a97_row1_col3, #T_61a97_row2_col0, #T_61a97_row2_col1, #T_61a97_row2_col2, #T_61a97_row2_col3, #T_61a97_row2_col4, #T_61a97_row3_col0 {\n",
       "  background-color: #4e9ac6;\n",
       "  color: #f1f1f1;\n",
       "}\n",
       "#T_61a97_row1_col4 {\n",
       "  background-color: #dad9ea;\n",
       "  color: #000000;\n",
       "}\n",
       "#T_61a97_row3_col3 {\n",
       "  background-color: #9ab8d8;\n",
       "  color: #000000;\n",
       "}\n",
       "#T_61a97_row3_col4, #T_61a97_row4_col4 {\n",
       "  background-color: #73a9cf;\n",
       "  color: #f1f1f1;\n",
       "}\n",
       "#T_61a97_row4_col0, #T_61a97_row4_col3 {\n",
       "  background-color: #78abd0;\n",
       "  color: #f1f1f1;\n",
       "}\n",
       "#T_61a97_row4_col1 {\n",
       "  background-color: #569dc8;\n",
       "  color: #f1f1f1;\n",
       "}\n",
       "#T_61a97_row4_col2 {\n",
       "  background-color: #63a2cb;\n",
       "  color: #f1f1f1;\n",
       "}\n",
       "</style>\n",
       "<table id=\"T_61a97_\">\n",
       "  <thead>\n",
       "    <tr>\n",
       "      <th class=\"index_name level0\" >value_tier</th>\n",
       "      <th class=\"col_heading level0 col0\" >01. >100k</th>\n",
       "      <th class=\"col_heading level0 col1\" >02. >50K</th>\n",
       "      <th class=\"col_heading level0 col2\" >03. >25K</th>\n",
       "      <th class=\"col_heading level0 col3\" >04. <25K</th>\n",
       "      <th class=\"col_heading level0 col4\" >Grand Total</th>\n",
       "    </tr>\n",
       "    <tr>\n",
       "      <th class=\"index_name level0\" >EPS_tier</th>\n",
       "      <th class=\"blank col0\" >&nbsp;</th>\n",
       "      <th class=\"blank col1\" >&nbsp;</th>\n",
       "      <th class=\"blank col2\" >&nbsp;</th>\n",
       "      <th class=\"blank col3\" >&nbsp;</th>\n",
       "      <th class=\"blank col4\" >&nbsp;</th>\n",
       "    </tr>\n",
       "  </thead>\n",
       "  <tbody>\n",
       "    <tr>\n",
       "      <th id=\"T_61a97_level0_row0\" class=\"row_heading level0 row0\" >Tier 1</th>\n",
       "      <td id=\"T_61a97_row0_col0\" class=\"data row0 col0\" >14</td>\n",
       "      <td id=\"T_61a97_row0_col1\" class=\"data row0 col1\" >30</td>\n",
       "      <td id=\"T_61a97_row0_col2\" class=\"data row0 col2\" >0</td>\n",
       "      <td id=\"T_61a97_row0_col3\" class=\"data row0 col3\" >45</td>\n",
       "      <td id=\"T_61a97_row0_col4\" class=\"data row0 col4\" >35</td>\n",
       "    </tr>\n",
       "    <tr>\n",
       "      <th id=\"T_61a97_level0_row1\" class=\"row_heading level0 row1\" >Tier 2</th>\n",
       "      <td id=\"T_61a97_row1_col0\" class=\"data row1 col0\" >36</td>\n",
       "      <td id=\"T_61a97_row1_col1\" class=\"data row1 col1\" >0</td>\n",
       "      <td id=\"T_61a97_row1_col2\" class=\"data row1 col2\" >0</td>\n",
       "      <td id=\"T_61a97_row1_col3\" class=\"data row1 col3\" >60</td>\n",
       "      <td id=\"T_61a97_row1_col4\" class=\"data row1 col4\" >38</td>\n",
       "    </tr>\n",
       "    <tr>\n",
       "      <th id=\"T_61a97_level0_row2\" class=\"row_heading level0 row2\" >Tier 3</th>\n",
       "      <td id=\"T_61a97_row2_col0\" class=\"data row2 col0\" >60</td>\n",
       "      <td id=\"T_61a97_row2_col1\" class=\"data row2 col1\" >60</td>\n",
       "      <td id=\"T_61a97_row2_col2\" class=\"data row2 col2\" >50</td>\n",
       "      <td id=\"T_61a97_row2_col3\" class=\"data row2 col3\" >60</td>\n",
       "      <td id=\"T_61a97_row2_col4\" class=\"data row2 col4\" >58</td>\n",
       "    </tr>\n",
       "    <tr>\n",
       "      <th id=\"T_61a97_level0_row3\" class=\"row_heading level0 row3\" >Tier 4</th>\n",
       "      <td id=\"T_61a97_row3_col0\" class=\"data row3 col0\" >60</td>\n",
       "      <td id=\"T_61a97_row3_col1\" class=\"data row3 col1\" >0</td>\n",
       "      <td id=\"T_61a97_row3_col2\" class=\"data row3 col2\" >0</td>\n",
       "      <td id=\"T_61a97_row3_col3\" class=\"data row3 col3\" >54</td>\n",
       "      <td id=\"T_61a97_row3_col4\" class=\"data row3 col4\" >54</td>\n",
       "    </tr>\n",
       "    <tr>\n",
       "      <th id=\"T_61a97_level0_row4\" class=\"row_heading level0 row4\" >Grand Total</th>\n",
       "      <td id=\"T_61a97_row4_col0\" class=\"data row4 col0\" >51</td>\n",
       "      <td id=\"T_61a97_row4_col1\" class=\"data row4 col1\" >58</td>\n",
       "      <td id=\"T_61a97_row4_col2\" class=\"data row4 col2\" >45</td>\n",
       "      <td id=\"T_61a97_row4_col3\" class=\"data row4 col3\" >57</td>\n",
       "      <td id=\"T_61a97_row4_col4\" class=\"data row4 col4\" >54</td>\n",
       "    </tr>\n",
       "  </tbody>\n",
       "</table>\n"
      ],
      "text/plain": [
       "<pandas.io.formats.style.Styler at 0x7f79783542b0>"
      ]
     },
     "execution_count": 38,
     "metadata": {},
     "output_type": "execute_result"
    }
   ],
   "source": [
    "# Block 2.c​ - Avg. Contract Days​\n",
    "contract_day_matrix = pd.pivot_table(contract_day_total, values='contract_days', index='EPS_tier', columns='value_tier', aggfunc='mean',margins=True,margins_name='Grand Total')\n",
    "\n",
    "contract_day_matrix = contract_day_matrix.fillna(0)\n",
    "# pd.options.display.float_format = '{:,.0f}'.format\n",
    "# contract_day_matrix = contract_day_matrix.style.background_gradient(cmap='coolwarm')\n",
    "\n",
    "contract_day_matrix = contract_day_matrix.astype(int)\n",
    "contract_day_matrix = contract_day_matrix.style.background_gradient(low=0.35, high=1.0)\n",
    "\n",
    "contract_day_matrix"
   ]
  },
  {
   "cell_type": "code",
   "execution_count": 39,
   "metadata": {},
   "outputs": [
    {
     "data": {
      "text/html": [
       "<div>\n",
       "<style scoped>\n",
       "    .dataframe tbody tr th:only-of-type {\n",
       "        vertical-align: middle;\n",
       "    }\n",
       "\n",
       "    .dataframe tbody tr th {\n",
       "        vertical-align: top;\n",
       "    }\n",
       "\n",
       "    .dataframe thead th {\n",
       "        text-align: right;\n",
       "    }\n",
       "</style>\n",
       "<table border=\"1\" class=\"dataframe\">\n",
       "  <thead>\n",
       "    <tr style=\"text-align: right;\">\n",
       "      <th>value_tier</th>\n",
       "      <th>01. &gt;100k</th>\n",
       "      <th>02. &gt;50K</th>\n",
       "      <th>03. &gt;25K</th>\n",
       "      <th>04. &lt;25K</th>\n",
       "      <th>Grand Total</th>\n",
       "    </tr>\n",
       "    <tr>\n",
       "      <th>EPS_tier</th>\n",
       "      <th></th>\n",
       "      <th></th>\n",
       "      <th></th>\n",
       "      <th></th>\n",
       "      <th></th>\n",
       "    </tr>\n",
       "  </thead>\n",
       "  <tbody>\n",
       "    <tr>\n",
       "      <th>Tier 1</th>\n",
       "      <td>14.0</td>\n",
       "      <td>30.0</td>\n",
       "      <td>0.0</td>\n",
       "      <td>60.0</td>\n",
       "      <td>60</td>\n",
       "    </tr>\n",
       "    <tr>\n",
       "      <th>Tier 2</th>\n",
       "      <td>60.0</td>\n",
       "      <td>0.0</td>\n",
       "      <td>0.0</td>\n",
       "      <td>60.0</td>\n",
       "      <td>60</td>\n",
       "    </tr>\n",
       "    <tr>\n",
       "      <th>Tier 3</th>\n",
       "      <td>60.0</td>\n",
       "      <td>60.0</td>\n",
       "      <td>60.0</td>\n",
       "      <td>70.0</td>\n",
       "      <td>70</td>\n",
       "    </tr>\n",
       "    <tr>\n",
       "      <th>Tier 4</th>\n",
       "      <td>60.0</td>\n",
       "      <td>0.0</td>\n",
       "      <td>0.0</td>\n",
       "      <td>60.0</td>\n",
       "      <td>60</td>\n",
       "    </tr>\n",
       "    <tr>\n",
       "      <th>Grand Total</th>\n",
       "      <td>60.0</td>\n",
       "      <td>60.0</td>\n",
       "      <td>60.0</td>\n",
       "      <td>70.0</td>\n",
       "      <td>70</td>\n",
       "    </tr>\n",
       "  </tbody>\n",
       "</table>\n",
       "</div>"
      ],
      "text/plain": [
       "value_tier   01. >100k  02. >50K  03. >25K  04. <25K  Grand Total\n",
       "EPS_tier                                                         \n",
       "Tier 1            14.0      30.0       0.0      60.0           60\n",
       "Tier 2            60.0       0.0       0.0      60.0           60\n",
       "Tier 3            60.0      60.0      60.0      70.0           70\n",
       "Tier 4            60.0       0.0       0.0      60.0           60\n",
       "Grand Total       60.0      60.0      60.0      70.0           70"
      ]
     },
     "execution_count": 39,
     "metadata": {},
     "output_type": "execute_result"
    }
   ],
   "source": [
    "# Block 2.c​ - Avg. Contract Days​\n",
    "contract_day_matrix = pd.pivot_table(contract_day_total, values='contract_days', index='EPS_tier', columns='value_tier', aggfunc='max',margins=True,margins_name='Grand Total')\n",
    "\n",
    "contract_day_matrix = contract_day_matrix.fillna(0)\n",
    "pd.options.display.float_format = '{:,.1f}'.format\n",
    "# matrix = matrix.style.background_gradient(cmap='coolwarm')\n",
    "\n",
    "contract_day_matrix"
   ]
  },
  {
   "cell_type": "code",
   "execution_count": 40,
   "metadata": {},
   "outputs": [
    {
     "data": {
      "text/html": [
       "<div>\n",
       "<style scoped>\n",
       "    .dataframe tbody tr th:only-of-type {\n",
       "        vertical-align: middle;\n",
       "    }\n",
       "\n",
       "    .dataframe tbody tr th {\n",
       "        vertical-align: top;\n",
       "    }\n",
       "\n",
       "    .dataframe thead th {\n",
       "        text-align: right;\n",
       "    }\n",
       "</style>\n",
       "<table border=\"1\" class=\"dataframe\">\n",
       "  <thead>\n",
       "    <tr style=\"text-align: right;\">\n",
       "      <th>value_tier</th>\n",
       "      <th>01. &gt;100k</th>\n",
       "      <th>02. &gt;50K</th>\n",
       "      <th>03. &gt;25K</th>\n",
       "      <th>04. &lt;25K</th>\n",
       "      <th>Grand Total</th>\n",
       "    </tr>\n",
       "    <tr>\n",
       "      <th>EPS_tier</th>\n",
       "      <th></th>\n",
       "      <th></th>\n",
       "      <th></th>\n",
       "      <th></th>\n",
       "      <th></th>\n",
       "    </tr>\n",
       "  </thead>\n",
       "  <tbody>\n",
       "    <tr>\n",
       "      <th>Tier 1</th>\n",
       "      <td>14.0</td>\n",
       "      <td>30.0</td>\n",
       "      <td>0.0</td>\n",
       "      <td>30.0</td>\n",
       "      <td>14</td>\n",
       "    </tr>\n",
       "    <tr>\n",
       "      <th>Tier 2</th>\n",
       "      <td>0.0</td>\n",
       "      <td>0.0</td>\n",
       "      <td>0.0</td>\n",
       "      <td>60.0</td>\n",
       "      <td>0</td>\n",
       "    </tr>\n",
       "    <tr>\n",
       "      <th>Tier 3</th>\n",
       "      <td>60.0</td>\n",
       "      <td>60.0</td>\n",
       "      <td>10.0</td>\n",
       "      <td>60.0</td>\n",
       "      <td>10</td>\n",
       "    </tr>\n",
       "    <tr>\n",
       "      <th>Tier 4</th>\n",
       "      <td>60.0</td>\n",
       "      <td>0.0</td>\n",
       "      <td>0.0</td>\n",
       "      <td>30.0</td>\n",
       "      <td>0</td>\n",
       "    </tr>\n",
       "    <tr>\n",
       "      <th>Grand Total</th>\n",
       "      <td>0.0</td>\n",
       "      <td>30.0</td>\n",
       "      <td>0.0</td>\n",
       "      <td>30.0</td>\n",
       "      <td>0</td>\n",
       "    </tr>\n",
       "  </tbody>\n",
       "</table>\n",
       "</div>"
      ],
      "text/plain": [
       "value_tier   01. >100k  02. >50K  03. >25K  04. <25K  Grand Total\n",
       "EPS_tier                                                         \n",
       "Tier 1            14.0      30.0       0.0      30.0           14\n",
       "Tier 2             0.0       0.0       0.0      60.0            0\n",
       "Tier 3            60.0      60.0      10.0      60.0           10\n",
       "Tier 4            60.0       0.0       0.0      30.0            0\n",
       "Grand Total        0.0      30.0       0.0      30.0            0"
      ]
     },
     "execution_count": 40,
     "metadata": {},
     "output_type": "execute_result"
    }
   ],
   "source": [
    "# Block 2.c​ - Avg. Contract Days​\n",
    "contract_day_matrix = pd.pivot_table(contract_day_total, values='contract_days', index='EPS_tier', columns='value_tier', aggfunc='min',margins=True,margins_name='Grand Total')\n",
    "\n",
    "contract_day_matrix = contract_day_matrix.fillna(0)\n",
    "pd.options.display.float_format = '{:,.1f}'.format\n",
    "# matrix = matrix.style.background_gradient(cmap='coolwarm')\n",
    "\n",
    "contract_day_matrix"
   ]
  },
  {
   "cell_type": "code",
   "execution_count": 41,
   "metadata": {},
   "outputs": [
    {
     "data": {
      "text/html": [
       "<div>\n",
       "<style scoped>\n",
       "    .dataframe tbody tr th:only-of-type {\n",
       "        vertical-align: middle;\n",
       "    }\n",
       "\n",
       "    .dataframe tbody tr th {\n",
       "        vertical-align: top;\n",
       "    }\n",
       "\n",
       "    .dataframe thead th {\n",
       "        text-align: right;\n",
       "    }\n",
       "</style>\n",
       "<table border=\"1\" class=\"dataframe\">\n",
       "  <thead>\n",
       "    <tr style=\"text-align: right;\">\n",
       "      <th></th>\n",
       "      <th>country</th>\n",
       "      <th>customer_name</th>\n",
       "      <th>total_due_amount</th>\n",
       "    </tr>\n",
       "  </thead>\n",
       "  <tbody>\n",
       "    <tr>\n",
       "      <th>14</th>\n",
       "      <td>DE</td>\n",
       "      <td>EE Deutschland GmbH</td>\n",
       "      <td>323,607.0</td>\n",
       "    </tr>\n",
       "    <tr>\n",
       "      <th>29</th>\n",
       "      <td>DE</td>\n",
       "      <td>ZA SE</td>\n",
       "      <td>242,515.2</td>\n",
       "    </tr>\n",
       "    <tr>\n",
       "      <th>30</th>\n",
       "      <td>FR</td>\n",
       "      <td>AB Ltd.</td>\n",
       "      <td>82,734.8</td>\n",
       "    </tr>\n",
       "    <tr>\n",
       "      <th>12</th>\n",
       "      <td>DE</td>\n",
       "      <td>E  SE</td>\n",
       "      <td>69,498.9</td>\n",
       "    </tr>\n",
       "    <tr>\n",
       "      <th>39</th>\n",
       "      <td>SZ</td>\n",
       "      <td>PC Ltd.</td>\n",
       "      <td>63,899.3</td>\n",
       "    </tr>\n",
       "  </tbody>\n",
       "</table>\n",
       "</div>"
      ],
      "text/plain": [
       "   country        customer_name  total_due_amount\n",
       "14      DE  EE Deutschland GmbH         323,607.0\n",
       "29      DE                ZA SE         242,515.2\n",
       "30      FR              AB Ltd.          82,734.8\n",
       "12      DE                E  SE          69,498.9\n",
       "39      SZ              PC Ltd.          63,899.3"
      ]
     },
     "execution_count": 41,
     "metadata": {},
     "output_type": "execute_result"
    }
   ],
   "source": [
    "# 5 Biggest overdue customer\n",
    "top_due = merge_data.groupby(['country','customer_name'])['total_due'].sum().reset_index(name='total_due_amount')\n",
    "top_due.sort_values(by='total_due_amount', ascending=False)[:5]"
   ]
  },
  {
   "cell_type": "code",
   "execution_count": 42,
   "metadata": {},
   "outputs": [
    {
     "data": {
      "image/png": "[encoded data removed]",
      "text/plain": [
       "<Figure size 576x360 with 1 Axes>"
      ]
     },
     "metadata": {
      "needs_background": "light"
     },
     "output_type": "display_data"
    }
   ],
   "source": [
    "merge_data_copy = merge_data.copy()\n",
    "\n",
    "# create a list of our conditions\n",
    "bracket_open_conditions = [\n",
    "    (merge_data_copy['overdue_10d'] > 0),\n",
    "    (merge_data_copy['overdue_11_30d'] > 0),\n",
    "    (merge_data_copy['overdue_31_60d'] > 0),\n",
    "    (merge_data_copy['overdue_61_90d'] > 0),\n",
    "    (merge_data_copy['overdue_90+d'] > 0),\n",
    "    ]\n",
    "\n",
    "# create a list of the values we want to assign for each condition\n",
    "bracket_values = ['overdue_10d','overdue_11_30d','overdue_31_60d','overdue_61_90d','overdue_90+d']\n",
    "\n",
    "merge_data_copy['over_due_bracket'] = np.select(bracket_open_conditions, bracket_values)\n",
    "# open_list['weighted_open_exc_vat'] = open_list['open_exc_vat']*open_list['score_apply']\n",
    "\n",
    "nb_overdue_10d = merge_data_copy[merge_data_copy['overdue_10d'] > 0]['id'].count()\n",
    "nb_overdue_11_30d = merge_data_copy[merge_data_copy['overdue_11_30d'] > 0]['id'].count()\n",
    "nb_overdue_31_60d = merge_data_copy[merge_data_copy['overdue_31_60d'] > 0]['id'].count()\n",
    "nb_overdue_61_90d = merge_data_copy[merge_data_copy['overdue_61_90d'] > 0]['id'].count()\n",
    "nb_overdue_91d = merge_data_copy[merge_data_copy['overdue_90+d'] > 0]['id'].count()\n",
    "\n",
    "nb_overdue_bracket_df = {'overdue_10d':nb_overdue_10d,'overdue_11_30d':nb_overdue_11_30d,'overdue_31_60d':nb_overdue_31_60d,'overdue_61_90d':nb_overdue_61_90d,'overdue_90+d':nb_overdue_91d}\n",
    "nb_overdue_bracket_df = pd.DataFrame(nb_overdue_bracket_df, index = range(1)).T\n",
    "\n",
    "# overdue_bracket_df_tranpose = overdue_bracket_df.T\n",
    "\n",
    "nb_overdue_bracket_df = nb_overdue_bracket_df.reset_index()\n",
    "nb_overdue_bracket_df.rename(columns={'index':'bracket',0:'nb_customer'},inplace=True)\n",
    "\n",
    "# Create bar chart\n",
    "plt.figure(figsize=(8,5))\n",
    "plt.bar(nb_overdue_bracket_df['bracket'],nb_overdue_bracket_df['nb_customer'],color='cornflowerblue')\n",
    "plt.xticks(rotation=45)\n",
    "plt.ylim(0,20)\n",
    "\n",
    "# Plot the figure.\n",
    "plt.title('Number of customer by overdue brackets')\n",
    "plt.xlabel('Overdue bracket')\n",
    "plt.ylabel('Number of customers')\n",
    "\n",
    "for x,y in zip(nb_overdue_bracket_df['bracket'],nb_overdue_bracket_df['nb_customer']):\n",
    "\n",
    "    label = \"{:.0f}\".format(y)\n",
    "\n",
    "    plt.annotate(label, # this is the text\n",
    "                 (x,y), # these are the coordinates to position the label\n",
    "                 textcoords=\"offset points\", # how to position the text\n",
    "                 xytext=(0,5), # distance from text to points (x,y)\n",
    "                 ha='center') # horizontal alignment can be left, right or center\n",
    "\n",
    "plt.show()"
   ]
  },
  {
   "cell_type": "code",
   "execution_count": 43,
   "metadata": {},
   "outputs": [
    {
     "data": {
      "image/png": "[encoded data removed]",
      "text/plain": [
       "<Figure size 576x360 with 1 Axes>"
      ]
     },
     "metadata": {
      "needs_background": "light"
     },
     "output_type": "display_data"
    }
   ],
   "source": [
    "amount_overdue_10d = merge_data_copy[merge_data_copy['overdue_10d'] > 0]['overdue_10d'].sum()\n",
    "amount_overdue_11_30d = merge_data_copy[merge_data_copy['overdue_11_30d'] > 0]['overdue_11_30d'].sum()\n",
    "amount_overdue_31_60d = merge_data_copy[merge_data_copy['overdue_31_60d'] > 0]['overdue_31_60d'].sum()\n",
    "amount_overdue_61_90d = merge_data_copy[merge_data_copy['overdue_61_90d'] > 0]['overdue_61_90d'].sum()\n",
    "amount_overdue_91d = merge_data_copy[merge_data_copy['overdue_90+d'] > 0]['overdue_90+d'].sum()\n",
    "\n",
    "amount_overdue_bracket_df = {'overdue_10d':amount_overdue_10d,'overdue_11_30d':amount_overdue_11_30d,'overdue_31_60d':amount_overdue_31_60d,'overdue_61_90d':amount_overdue_61_90d,'overdue_90+d':amount_overdue_91d}\n",
    "amount_overdue_bracket_df = pd.DataFrame(amount_overdue_bracket_df, index = range(1)).T\n",
    "amount_overdue_bracket_df = amount_overdue_bracket_df.reset_index()\n",
    "amount_overdue_bracket_df.rename(columns={'index':'bracket',0:'total_amount'},inplace=True)\n",
    "\n",
    "# Create bar chart\n",
    "plt.figure(figsize=(8,5))\n",
    "plt.bar(amount_overdue_bracket_df['bracket'],amount_overdue_bracket_df['total_amount'],color='cornflowerblue')\n",
    "plt.xticks(rotation=45)\n",
    "plt.ylim(0,400000)\n",
    "\n",
    "# Plot the figure.\n",
    "plt.title('Total due amount by overdue brackets (€)')\n",
    "plt.xlabel('Overdue bracket')\n",
    "plt.ylabel('Number of customers')\n",
    "\n",
    "for x,y in zip(amount_overdue_bracket_df['bracket'],amount_overdue_bracket_df['total_amount']):\n",
    "\n",
    "    label = \"{:,.0f}\".format(y)\n",
    "\n",
    "    plt.annotate(label, # this is the text\n",
    "                 (x,y), # these are the coordinates to position the label\n",
    "                 textcoords=\"offset points\", # how to position the text\n",
    "                 xytext=(0,5), # distance from text to points (x,y)\n",
    "                 ha='center') # horizontal alignment can be left, right or center\n",
    "\n",
    "plt.show()"
   ]
  },
  {
   "cell_type": "code",
   "execution_count": 44,
   "metadata": {},
   "outputs": [
    {
     "data": {
      "image/png": "[encoded data removed]",
      "text/plain": [
       "<Figure size 576x360 with 1 Axes>"
      ]
     },
     "metadata": {
      "needs_background": "light"
     },
     "output_type": "display_data"
    }
   ],
   "source": [
    "avg_overdue_10d =  amount_overdue_10d/nb_overdue_10d\n",
    "avg_overdue_11_30d = amount_overdue_11_30d/nb_overdue_11_30d\n",
    "avg_overdue_31_60d = amount_overdue_31_60d/nb_overdue_31_60d\n",
    "avg_overdue_61_90d = amount_overdue_61_90d/nb_overdue_61_90d\n",
    "avg_overdue_91d = amount_overdue_91d/nb_overdue_91d\n",
    "\n",
    "avg_overdue_bracket_df = {'overdue_10d':avg_overdue_10d,'overdue_11_30d':avg_overdue_11_30d,'overdue_31_60d':avg_overdue_31_60d,'overdue_61_90d':avg_overdue_61_90d,'overdue_90+d':avg_overdue_91d}\n",
    "avg_overdue_bracket_df = pd.DataFrame(avg_overdue_bracket_df, index = range(1)).T\n",
    "avg_overdue_bracket_df = avg_overdue_bracket_df.reset_index()\n",
    "avg_overdue_bracket_df.rename(columns={'index':'bracket',0:'avg_amount'},inplace=True)\n",
    "\n",
    "# Create bar chart\n",
    "plt.figure(figsize=(8,5))\n",
    "plt.bar(avg_overdue_bracket_df['bracket'],avg_overdue_bracket_df['avg_amount'],color='cornflowerblue')\n",
    "plt.xticks(rotation=45)\n",
    "plt.ylim(0,70000)\n",
    "\n",
    "# Plot the figure.\n",
    "plt.title('Average due amount by overdue brackets (€)')\n",
    "plt.xlabel('Overdue bracket')\n",
    "plt.ylabel('Average due amount')\n",
    "\n",
    "for x,y in zip(avg_overdue_bracket_df['bracket'],avg_overdue_bracket_df['avg_amount']):\n",
    "\n",
    "    label = \"{:,.0f}\".format(y)\n",
    "\n",
    "    plt.annotate(label, # this is the text\n",
    "                 (x,y), # these are the coordinates to position the label\n",
    "                 textcoords=\"offset points\", # how to position the text\n",
    "                 xytext=(0,5), # distance from text to points (x,y)\n",
    "                 ha='center') # horizontal alignment can be left, right or center\n",
    "\n",
    "plt.show()"
   ]
  },
  {
   "cell_type": "code",
   "execution_count": 45,
   "metadata": {},
   "outputs": [
    {
     "data": {
      "image/png": "[encoded data removed]",
      "text/plain": [
       "<Figure size 576x360 with 1 Axes>"
      ]
     },
     "metadata": {
      "needs_background": "light"
     },
     "output_type": "display_data"
    }
   ],
   "source": [
    "total_due = (merge_data['overdue_10d'].sum() + merge_data['overdue_11_30d'].sum() + merge_data['overdue_31_60d'].sum() + merge_data['overdue_61_90d'].sum() + merge_data['overdue_90+d'].sum()).round(0)\n",
    "overdue_1_10d = merge_data['overdue_10d'].sum().round(0)\n",
    "overdue_11_30d = merge_data['overdue_11_30d'].sum().round(0)\n",
    "overdue_31_60d = merge_data['overdue_31_60d'].sum().round(0)\n",
    "overdue_61_90d = merge_data['overdue_61_90d'].sum().round(0)\n",
    "overdue_more_91d = merge_data['overdue_90+d'].sum().round(0)\n",
    "\n",
    "total_overdue_bracket_df = {'overdue_1_10d':overdue_1_10d,'overdue_11_30d':overdue_11_30d,'overdue_31_60d':overdue_31_60d,'overdue_61_90d':overdue_61_90d,'overdue_more_91d':overdue_more_91d}\n",
    "total_overdue_bracket_df = pd.DataFrame(total_overdue_bracket_df, index = range(1)).T\n",
    "total_overdue_bracket_df = total_overdue_bracket_df.reset_index()\n",
    "total_overdue_bracket_df.rename(columns={'index':'bracket',0:'avg_amount'},inplace=True)\n",
    "total_overdue_bracket_df['pct_ctr'] = total_overdue_bracket_df['avg_amount']/total_overdue_bracket_df['avg_amount'].sum()\n",
    "\n",
    "pd.options.display.float_format = '{:,.2%}'.format\n",
    "\n",
    "# Create bar chart\n",
    "plt.figure(figsize=(8,5))\n",
    "plt.bar(total_overdue_bracket_df['bracket'],total_overdue_bracket_df['pct_ctr'],color='cornflowerblue')\n",
    "plt.xticks(rotation=45)\n",
    "plt.ylim(0,0.4)\n",
    "\n",
    "# Plot the figure.\n",
    "plt.title('Contribution of due amount by overdue brackets (%)')\n",
    "plt.xlabel('Overdue bracket')\n",
    "plt.ylabel('% contribution')\n",
    "\n",
    "for x,y in zip(total_overdue_bracket_df['bracket'],total_overdue_bracket_df['pct_ctr']):\n",
    "\n",
    "    label = \"{:,.1%}\".format(y)\n",
    "\n",
    "    plt.annotate(label, # this is the text\n",
    "                 (x,y), # these are the coordinates to position the label\n",
    "                 textcoords=\"offset points\", # how to position the text\n",
    "                 xytext=(0,5), # distance from text to points (x,y)\n",
    "                 ha='center') # horizontal alignment can be left, right or center\n",
    "\n",
    "plt.show()"
   ]
  },
  {
   "cell_type": "markdown",
   "metadata": {},
   "source": [
    "## Strategy comparison"
   ]
  },
  {
   "cell_type": "code",
   "execution_count": 46,
   "metadata": {},
   "outputs": [
    {
     "data": {
      "text/html": [
       "<div>\n",
       "<style scoped>\n",
       "    .dataframe tbody tr th:only-of-type {\n",
       "        vertical-align: middle;\n",
       "    }\n",
       "\n",
       "    .dataframe tbody tr th {\n",
       "        vertical-align: top;\n",
       "    }\n",
       "\n",
       "    .dataframe thead th {\n",
       "        text-align: right;\n",
       "    }\n",
       "</style>\n",
       "<table border=\"1\" class=\"dataframe\">\n",
       "  <thead>\n",
       "    <tr style=\"text-align: right;\">\n",
       "      <th></th>\n",
       "      <th>Metric</th>\n",
       "      <th>Current Scenario</th>\n",
       "      <th>Smart Loyalty Discount Policy</th>\n",
       "      <th>delta</th>\n",
       "    </tr>\n",
       "  </thead>\n",
       "  <tbody>\n",
       "    <tr>\n",
       "      <th>0</th>\n",
       "      <td>net_sales</td>\n",
       "      <td>3,528,425</td>\n",
       "      <td>3,513,211</td>\n",
       "      <td>-15,214</td>\n",
       "    </tr>\n",
       "    <tr>\n",
       "      <th>1</th>\n",
       "      <td>discount</td>\n",
       "      <td>3,646</td>\n",
       "      <td>18,860</td>\n",
       "      <td>15,214</td>\n",
       "    </tr>\n",
       "    <tr>\n",
       "      <th>2</th>\n",
       "      <td>costs</td>\n",
       "      <td>2,456,000</td>\n",
       "      <td>2,456,000</td>\n",
       "      <td>0</td>\n",
       "    </tr>\n",
       "    <tr>\n",
       "      <th>3</th>\n",
       "      <td>margin</td>\n",
       "      <td>1,072,425</td>\n",
       "      <td>1,057,211</td>\n",
       "      <td>-1,521,437</td>\n",
       "    </tr>\n",
       "    <tr>\n",
       "      <th>4</th>\n",
       "      <td>margin_pct</td>\n",
       "      <td>0</td>\n",
       "      <td>0</td>\n",
       "      <td>-0</td>\n",
       "    </tr>\n",
       "  </tbody>\n",
       "</table>\n",
       "</div>"
      ],
      "text/plain": [
       "       Metric  Current Scenario  Smart Loyalty Discount Policy      delta\n",
       "0   net_sales         3,528,425                      3,513,211    -15,214\n",
       "1    discount             3,646                         18,860     15,214\n",
       "2       costs         2,456,000                      2,456,000          0\n",
       "3      margin         1,072,425                      1,057,211 -1,521,437\n",
       "4  margin_pct                 0                              0         -0"
      ]
     },
     "execution_count": 46,
     "metadata": {},
     "output_type": "execute_result"
    }
   ],
   "source": [
    "# Strategy comparison\n",
    "data = {'Metric':['net_sales','discount','costs','margin','margin_pct'],'Current Scenario': [3528425,3646,2456000,1072425,0.3039], \n",
    "        'Smart Loyalty Discount Policy': [3513211,18860,2456000,1057211,0.3009], 'delta':[-15214,15214,0,-1521437,-0.003]}  \n",
    "pd.options.display.float_format = '{:,.0f}'.format\n",
    "\n",
    "data = pd.DataFrame(data)\n",
    "\n",
    "data"
   ]
  },
  {
   "cell_type": "code",
   "execution_count": 54,
   "metadata": {},
   "outputs": [],
   "source": [
    "data_bar = data.iloc[0,1:3].reset_index()\n",
    "data_bar.rename(columns={'index':'metric',0:'value'},inplace=True)"
   ]
  },
  {
   "cell_type": "code",
   "execution_count": 55,
   "metadata": {},
   "outputs": [
    {
     "data": {
      "image/png": "[encoded data removed]",
      "text/plain": [
       "<Figure size 576x360 with 1 Axes>"
      ]
     },
     "metadata": {
      "needs_background": "light"
     },
     "output_type": "display_data"
    }
   ],
   "source": [
    "# Create bar chart\n",
    "plt.figure(figsize=(8,5))\n",
    "plt.bar(data_bar['metric'], data_bar['value'],color='teal')\n",
    "plt.xticks(rotation=0)\n",
    "plt.ylim(0,4000000)\n",
    "\n",
    "# Plot the figure.\n",
    "plt.title('Net sale (€) - Current Scenario vs. Smart Loyalty Discount Policy')\n",
    "# plt.xlabel('Total Net Sale (€)')\n",
    "plt.ylabel('Total Net Sale (€)')\n",
    "\n",
    "for x,y in zip(data_bar['metric'], data_bar['value']):\n",
    "\n",
    "    label = \"€ {:,.0f}\".format(y)\n",
    "\n",
    "    plt.annotate(label, # this is the text\n",
    "                 (x,y), # these are the coordinates to position the label\n",
    "                 textcoords=\"offset points\", # how to position the text\n",
    "                 xytext=(0,5), # distance from text to points (x,y)\n",
    "                 ha='center') # horizontal alignment can be left, right or center\n",
    "\n",
    "plt.show()"
   ]
  }
 ],
 "metadata": {
  "interpreter": {
   "hash": "3d597f4c481aa0f25dceb95d2a0067e73c0966dcbd003d741d821a7208527ecf"
  },
  "kernelspec": {
   "display_name": "Python 3.9.5 64-bit ('base': conda)",
   "language": "python",
   "name": "python3"
  },
  "language_info": {
   "codemirror_mode": {
    "name": "ipython",
    "version": 3
   },
   "file_extension": ".py",
   "mimetype": "text/x-python",
   "name": "python",
   "nbconvert_exporter": "python",
   "pygments_lexer": "ipython3",
   "version": "3.9.7"
  },
  "orig_nbformat": 4
 },
 "nbformat": 4,
 "nbformat_minor": 2
}
